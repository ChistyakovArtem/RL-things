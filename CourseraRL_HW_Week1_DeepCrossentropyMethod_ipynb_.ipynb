{
  "nbformat": 4,
  "nbformat_minor": 0,
  "metadata": {
    "colab": {
      "name": "CourseraRL_HW_Week1-DeepCrossentropyMethod.ipynb\"",
      "provenance": [],
      "collapsed_sections": []
    },
    "kernelspec": {
      "display_name": "Python 3",
      "name": "python3"
    },
    "language_info": {
      "name": "python"
    }
  },
  "cells": [
    {
      "cell_type": "markdown",
      "metadata": {
        "id": "70Hi3GkmfT6H"
      },
      "source": [
        "# Deep Crossentropy method\n",
        "\n",
        "In this section we'll extend your CEM implementation with neural networks! You will train a multi-layer neural network to solve simple continuous state space games. __Please make sure you're done with tabular crossentropy method from the previous notebook.__\n",
        "\n",
        "![img](https://tip.duke.edu/independent_learning/greek/lesson/digging_deeper_final.jpg)\n",
        "\n"
      ]
    },
    {
      "cell_type": "code",
      "metadata": {
        "colab": {
          "base_uri": "https://localhost:8080/"
        },
        "id": "sgVqi3xhfT6Z",
        "outputId": "a7ac8844-ba60-42f8-f5b7-95356b851fb9"
      },
      "source": [
        "import sys, os\n",
        "if 'google.colab' in sys.modules and not os.path.exists('.setup_complete'):\n",
        "    !wget -q https://raw.githubusercontent.com/yandexdataschool/Practical_RL/master/setup_colab.sh -O- | bash\n",
        "\n",
        "    !wget -q https://raw.githubusercontent.com/yandexdataschool/Practical_RL/coursera/grading.py -O ../grading.py\n",
        "    !wget -q https://raw.githubusercontent.com/yandexdataschool/Practical_RL/coursera/week1_intro/submit.py\n",
        "\n",
        "    !touch .setup_complete\n",
        "\n",
        "# This code creates a virtual display to draw game images on.\n",
        "# It will have no effect if your machine has a monitor.\n",
        "if type(os.environ.get(\"DISPLAY\")) is not str or len(os.environ.get(\"DISPLAY\")) == 0:\n",
        "    !bash ../xvfb start\n",
        "    os.environ['DISPLAY'] = ':1'"
      ],
      "execution_count": null,
      "outputs": [
        {
          "output_type": "stream",
          "text": [
            "Selecting previously unselected package xvfb.\n",
            "(Reading database ... 160772 files and directories currently installed.)\n",
            "Preparing to unpack .../xvfb_2%3a1.19.6-1ubuntu4.9_amd64.deb ...\n",
            "Unpacking xvfb (2:1.19.6-1ubuntu4.9) ...\n",
            "Setting up xvfb (2:1.19.6-1ubuntu4.9) ...\n",
            "Processing triggers for man-db (2.8.3-2ubuntu0.1) ...\n",
            "Starting virtual X frame buffer: Xvfb.\n"
          ],
          "name": "stdout"
        }
      ]
    },
    {
      "cell_type": "code",
      "metadata": {
        "colab": {
          "base_uri": "https://localhost:8080/",
          "height": 303
        },
        "id": "Qw6P2U30fT6e",
        "outputId": "3d60e572-67e3-46d4-b154-e02c195b6260"
      },
      "source": [
        "import gym\n",
        "import numpy as np\n",
        "import matplotlib.pyplot as plt\n",
        "%matplotlib inline\n",
        "\n",
        "# if you see \"<classname> has no attribute .env\", remove .env or update gym\n",
        "env = gym.make(\"CartPole-v0\").env\n",
        "\n",
        "env.reset()\n",
        "n_actions = env.action_space.n\n",
        "state_dim = env.observation_space.shape[0]\n",
        "\n",
        "plt.imshow(env.render(\"rgb_array\"))\n",
        "print(\"state vector dim =\", state_dim)\n",
        "print(\"n_actions =\", n_actions)"
      ],
      "execution_count": null,
      "outputs": [
        {
          "output_type": "stream",
          "text": [
            "state vector dim = 4\n",
            "n_actions = 2\n"
          ],
          "name": "stdout"
        },
        {
          "output_type": "display_data",
          "data": {
            "image/png": "[encoded data removed]",
            "text/plain": [
              "<Figure size 432x288 with 1 Axes>"
            ]
          },
          "metadata": {
            "tags": []
          }
        }
      ]
    },
    {
      "cell_type": "markdown",
      "metadata": {
        "id": "f3uXlf9KfT6f"
      },
      "source": [
        "# Neural Network Policy\n",
        "\n",
        "For this assignment we'll utilize the simplified neural network implementation from __[Scikit-learn](https://scikit-learn.org/stable/modules/generated/sklearn.neural_network.MLPClassifier.html)__. Here's what you'll need:\n",
        "\n",
        "* `agent.partial_fit(states, actions)` - make a single training pass over the data. Maximize the probabilitity of :actions: from :states:\n",
        "* `agent.predict_proba(states)` - predict probabilities of all actions, a matrix of shape __[len(states), n_actions]__\n"
      ]
    },
    {
      "cell_type": "code",
      "metadata": {
        "colab": {
          "base_uri": "https://localhost:8080/"
        },
        "id": "_avC64SNfT6g",
        "outputId": "335382ac-c57b-4437-a5b4-a79c6f88407e"
      },
      "source": [
        "from sklearn.neural_network import MLPClassifier\n",
        "\n",
        "agent = MLPClassifier(\n",
        "    hidden_layer_sizes=(20, 20),\n",
        "    activation='tanh',\n",
        ")\n",
        "\n",
        "# initialize agent to the dimension of state space and number of actions\n",
        "agent.partial_fit([env.reset()] * n_actions, range(n_actions), range(n_actions))"
      ],
      "execution_count": null,
      "outputs": [
        {
          "output_type": "execute_result",
          "data": {
            "text/plain": [
              "MLPClassifier(activation='tanh', alpha=0.0001, batch_size='auto', beta_1=0.9,\n",
              "              beta_2=0.999, early_stopping=False, epsilon=1e-08,\n",
              "              hidden_layer_sizes=(20, 20), learning_rate='constant',\n",
              "              learning_rate_init=0.001, max_fun=15000, max_iter=200,\n",
              "              momentum=0.9, n_iter_no_change=10, nesterovs_momentum=True,\n",
              "              power_t=0.5, random_state=None, shuffle=True, solver='adam',\n",
              "              tol=0.0001, validation_fraction=0.1, verbose=False,\n",
              "              warm_start=False)"
            ]
          },
          "metadata": {
            "tags": []
          },
          "execution_count": 3
        }
      ]
    },
    {
      "cell_type": "code",
      "metadata": {
        "id": "etQYio55fT6h"
      },
      "source": [
        "def generate_session(env, agent, t_max=1000):\n",
        "    \"\"\"\n",
        "    Play a single game using agent neural network.\n",
        "    Terminate when game finishes or after :t_max: steps\n",
        "    \"\"\"\n",
        "    states, actions = [], []\n",
        "    total_reward = 0\n",
        "\n",
        "    s = env.reset()\n",
        "\n",
        "    for t in range(t_max):\n",
        "        \n",
        "        # use agent to predict a vector of action probabilities for state :s:\n",
        "        probs = agent.predict_proba(s.reshape(s.shape[0], 1).T).T.flatten()\n",
        "\n",
        "        assert probs.shape == (env.action_space.n,), \"make sure probabilities are a vector (hint: np.reshape)\"\n",
        "        \n",
        "        # use the probabilities you predicted to pick an action\n",
        "        # sample proportionally to the probabilities, don't just take the most likely action\n",
        "        a = np.random.choice(n_actions, 1, p=probs).item()\n",
        "        # ^-- hint: try np.random.choice\n",
        "\n",
        "        new_s, r, done, info = env.step(a)\n",
        "\n",
        "        # record sessions like you did before\n",
        "        states.append(s)\n",
        "        actions.append(a)\n",
        "        total_reward += r\n",
        "\n",
        "        s = new_s\n",
        "        if done:\n",
        "            break\n",
        "    return states, actions, total_reward"
      ],
      "execution_count": null,
      "outputs": []
    },
    {
      "cell_type": "code",
      "metadata": {
        "colab": {
          "base_uri": "https://localhost:8080/"
        },
        "id": "Y5k3hZQmfT6j",
        "outputId": "05bf2ee8-eb62-4101-ebc3-446f8a7125bd"
      },
      "source": [
        "dummy_states, dummy_actions, dummy_reward = generate_session(env, agent, t_max=5)\n",
        "print(\"states:\", np.stack(dummy_states))\n",
        "print(\"actions:\", dummy_actions)\n",
        "print(\"reward:\", dummy_reward)"
      ],
      "execution_count": null,
      "outputs": [
        {
          "output_type": "stream",
          "text": [
            "states: [[-0.02734599  0.04013461 -0.02886802 -0.04361543]\n",
            " [-0.0265433   0.23565836 -0.02974033 -0.34526489]\n",
            " [-0.02183013  0.04097182 -0.03664563 -0.06210658]\n",
            " [-0.02101069 -0.15360608 -0.03788776  0.21879291]\n",
            " [-0.02408281 -0.34816653 -0.0335119   0.4992878 ]]\n",
            "actions: [1, 0, 0, 0, 0]\n",
            "reward: 5.0\n"
          ],
          "name": "stdout"
        }
      ]
    },
    {
      "cell_type": "markdown",
      "metadata": {
        "id": "qs2a0M3TfT6k"
      },
      "source": [
        "### CEM steps\n",
        "Deep CEM uses exactly the same strategy as the regular CEM, so you can copy your function code from previous notebook.\n",
        "\n",
        "The only difference is that now each observation is not a number but a `float32` vector."
      ]
    },
    {
      "cell_type": "code",
      "metadata": {
        "id": "JnFD9XsXfT6l"
      },
      "source": [
        "def select_elites(states_batch, actions_batch, rewards_batch, percentile=50):\n",
        "    \"\"\"\n",
        "    Select states and actions from games that have rewards >= percentile\n",
        "    :param states_batch: list of lists of states, states_batch[session_i][t]\n",
        "    :param actions_batch: list of lists of actions, actions_batch[session_i][t]\n",
        "    :param rewards_batch: list of rewards, rewards_batch[session_i]\n",
        "\n",
        "    :returns: elite_states,elite_actions, both 1D lists of states and respective actions from elite sessions\n",
        "\n",
        "    Please return elite states and actions in their original order \n",
        "    [i.e. sorted by session number and timestep within session]\n",
        "\n",
        "    If you are confused, see examples below. Please don't assume that states are integers\n",
        "    (they will become different later).\n",
        "    \"\"\"\n",
        "    reward_threshold = np.percentile(rewards_batch, percentile)\n",
        "\n",
        "    mask = rewards_batch >= reward_threshold\n",
        "\n",
        "    elite_states = np.concatenate(np.array(states_batch, dtype=object)[mask]).tolist()\n",
        "    elite_actions = np.concatenate(np.array(actions_batch, dtype=object)[mask]).tolist()\n",
        "\n",
        "    \n",
        "    return elite_states, elite_actions"
      ],
      "execution_count": null,
      "outputs": []
    },
    {
      "cell_type": "markdown",
      "metadata": {
        "id": "AYImM4RhfT6t"
      },
      "source": [
        "# Training loop\n",
        "Generate sessions, select N best and fit to those."
      ]
    },
    {
      "cell_type": "code",
      "metadata": {
        "id": "M2pFQ3_IfT6v"
      },
      "source": [
        "from IPython.display import clear_output\n",
        "\n",
        "def show_progress(rewards_batch, log, percentile, reward_range=[-990, +10]):\n",
        "    \"\"\"\n",
        "    A convenience function that displays training progress. \n",
        "    No cool math here, just charts.\n",
        "    \"\"\"\n",
        "\n",
        "    mean_reward = np.mean(rewards_batch)\n",
        "    threshold = np.percentile(rewards_batch, percentile)\n",
        "    log.append([mean_reward, threshold])\n",
        "\n",
        "    clear_output(True)\n",
        "    print(\"mean reward = %.3f, threshold=%.3f\" % (mean_reward, threshold))\n",
        "    plt.figure(figsize=[8, 4])\n",
        "    plt.subplot(1, 2, 1)\n",
        "    plt.plot(list(zip(*log))[0], label='Mean rewards')\n",
        "    plt.plot(list(zip(*log))[1], label='Reward thresholds')\n",
        "    plt.legend()\n",
        "    plt.grid()\n",
        "\n",
        "    plt.subplot(1, 2, 2)\n",
        "    plt.hist(rewards_batch, range=reward_range)\n",
        "    plt.vlines([np.percentile(rewards_batch, percentile)],\n",
        "               [0], [100], label=\"percentile\", color='red')\n",
        "    plt.legend()\n",
        "    plt.grid()\n",
        "\n",
        "    plt.show()"
      ],
      "execution_count": null,
      "outputs": []
    },
    {
      "cell_type": "code",
      "metadata": {
        "colab": {
          "base_uri": "https://localhost:8080/",
          "height": 571
        },
        "id": "yfeM2lr2fT6w",
        "outputId": "9a277f00-6afe-40c9-833b-bc9105f49199"
      },
      "source": [
        "n_sessions = 100\n",
        "percentile = 70\n",
        "log = []\n",
        "\n",
        "for i in range(100):\n",
        "    # generate new sessions\n",
        "    sessions = [ generate_session(env, agent, t_max=1000) for t in range(n_sessions) ]\n",
        "\n",
        "    states_batch, actions_batch, rewards_batch = map(np.array, zip(*sessions))\n",
        "\n",
        "    elite_states, elite_actions = select_elites(states_batch, actions_batch, rewards_batch, percentile)\n",
        "\n",
        "    agent.partial_fit(elite_states, elite_actions)\n",
        "\n",
        "    show_progress(rewards_batch, log, percentile, reward_range=[0, np.max(rewards_batch)])\n",
        "\n",
        "    if np.mean(rewards_batch) > 190:\n",
        "        print(\"You Win! You may stop training now via KeyboardInterrupt.\")"
      ],
      "execution_count": null,
      "outputs": [
        {
          "output_type": "stream",
          "text": [
            "mean reward = 972.780, threshold=1000.000\n"
          ],
          "name": "stdout"
        },
        {
          "output_type": "display_data",
          "data": {
            "image/png": "[encoded data removed]",
            "text/plain": [
              "<Figure size 576x288 with 2 Axes>"
            ]
          },
          "metadata": {
            "tags": []
          }
        },
        {
          "output_type": "stream",
          "text": [
            "You Win! You may stop training now via KeyboardInterrupt.\n"
          ],
          "name": "stdout"
        },
        {
          "output_type": "error",
          "ename": "KeyboardInterrupt",
          "evalue": "ignored",
          "traceback": [
            "\u001b[0;31m---------------------------------------------------------------------------\u001b[0m",
            "\u001b[0;31mKeyboardInterrupt\u001b[0m                         Traceback (most recent call last)",
            "\u001b[0;32m<ipython-input-22-6db21910e751>\u001b[0m in \u001b[0;36m<module>\u001b[0;34m()\u001b[0m\n\u001b[1;32m      5\u001b[0m \u001b[0;32mfor\u001b[0m \u001b[0mi\u001b[0m \u001b[0;32min\u001b[0m \u001b[0mrange\u001b[0m\u001b[0;34m(\u001b[0m\u001b[0;36m100\u001b[0m\u001b[0;34m)\u001b[0m\u001b[0;34m:\u001b[0m\u001b[0;34m\u001b[0m\u001b[0;34m\u001b[0m\u001b[0m\n\u001b[1;32m      6\u001b[0m     \u001b[0;31m# generate new sessions\u001b[0m\u001b[0;34m\u001b[0m\u001b[0;34m\u001b[0m\u001b[0;34m\u001b[0m\u001b[0m\n\u001b[0;32m----> 7\u001b[0;31m     \u001b[0msessions\u001b[0m \u001b[0;34m=\u001b[0m \u001b[0;34m[\u001b[0m \u001b[0mgenerate_session\u001b[0m\u001b[0;34m(\u001b[0m\u001b[0menv\u001b[0m\u001b[0;34m,\u001b[0m \u001b[0magent\u001b[0m\u001b[0;34m,\u001b[0m \u001b[0mt_max\u001b[0m\u001b[0;34m=\u001b[0m\u001b[0;36m1000\u001b[0m\u001b[0;34m)\u001b[0m \u001b[0;32mfor\u001b[0m \u001b[0mt\u001b[0m \u001b[0;32min\u001b[0m \u001b[0mrange\u001b[0m\u001b[0;34m(\u001b[0m\u001b[0mn_sessions\u001b[0m\u001b[0;34m)\u001b[0m \u001b[0;34m]\u001b[0m\u001b[0;34m\u001b[0m\u001b[0;34m\u001b[0m\u001b[0m\n\u001b[0m\u001b[1;32m      8\u001b[0m \u001b[0;34m\u001b[0m\u001b[0m\n\u001b[1;32m      9\u001b[0m     \u001b[0mstates_batch\u001b[0m\u001b[0;34m,\u001b[0m \u001b[0mactions_batch\u001b[0m\u001b[0;34m,\u001b[0m \u001b[0mrewards_batch\u001b[0m \u001b[0;34m=\u001b[0m \u001b[0mmap\u001b[0m\u001b[0;34m(\u001b[0m\u001b[0mnp\u001b[0m\u001b[0;34m.\u001b[0m\u001b[0marray\u001b[0m\u001b[0;34m,\u001b[0m \u001b[0mzip\u001b[0m\u001b[0;34m(\u001b[0m\u001b[0;34m*\u001b[0m\u001b[0msessions\u001b[0m\u001b[0;34m)\u001b[0m\u001b[0;34m)\u001b[0m\u001b[0;34m\u001b[0m\u001b[0;34m\u001b[0m\u001b[0m\n",
            "\u001b[0;32m<ipython-input-22-6db21910e751>\u001b[0m in \u001b[0;36m<listcomp>\u001b[0;34m(.0)\u001b[0m\n\u001b[1;32m      5\u001b[0m \u001b[0;32mfor\u001b[0m \u001b[0mi\u001b[0m \u001b[0;32min\u001b[0m \u001b[0mrange\u001b[0m\u001b[0;34m(\u001b[0m\u001b[0;36m100\u001b[0m\u001b[0;34m)\u001b[0m\u001b[0;34m:\u001b[0m\u001b[0;34m\u001b[0m\u001b[0;34m\u001b[0m\u001b[0m\n\u001b[1;32m      6\u001b[0m     \u001b[0;31m# generate new sessions\u001b[0m\u001b[0;34m\u001b[0m\u001b[0;34m\u001b[0m\u001b[0;34m\u001b[0m\u001b[0m\n\u001b[0;32m----> 7\u001b[0;31m     \u001b[0msessions\u001b[0m \u001b[0;34m=\u001b[0m \u001b[0;34m[\u001b[0m \u001b[0mgenerate_session\u001b[0m\u001b[0;34m(\u001b[0m\u001b[0menv\u001b[0m\u001b[0;34m,\u001b[0m \u001b[0magent\u001b[0m\u001b[0;34m,\u001b[0m \u001b[0mt_max\u001b[0m\u001b[0;34m=\u001b[0m\u001b[0;36m1000\u001b[0m\u001b[0;34m)\u001b[0m \u001b[0;32mfor\u001b[0m \u001b[0mt\u001b[0m \u001b[0;32min\u001b[0m \u001b[0mrange\u001b[0m\u001b[0;34m(\u001b[0m\u001b[0mn_sessions\u001b[0m\u001b[0;34m)\u001b[0m \u001b[0;34m]\u001b[0m\u001b[0;34m\u001b[0m\u001b[0;34m\u001b[0m\u001b[0m\n\u001b[0m\u001b[1;32m      8\u001b[0m \u001b[0;34m\u001b[0m\u001b[0m\n\u001b[1;32m      9\u001b[0m     \u001b[0mstates_batch\u001b[0m\u001b[0;34m,\u001b[0m \u001b[0mactions_batch\u001b[0m\u001b[0;34m,\u001b[0m \u001b[0mrewards_batch\u001b[0m \u001b[0;34m=\u001b[0m \u001b[0mmap\u001b[0m\u001b[0;34m(\u001b[0m\u001b[0mnp\u001b[0m\u001b[0;34m.\u001b[0m\u001b[0marray\u001b[0m\u001b[0;34m,\u001b[0m \u001b[0mzip\u001b[0m\u001b[0;34m(\u001b[0m\u001b[0;34m*\u001b[0m\u001b[0msessions\u001b[0m\u001b[0;34m)\u001b[0m\u001b[0;34m)\u001b[0m\u001b[0;34m\u001b[0m\u001b[0;34m\u001b[0m\u001b[0m\n",
            "\u001b[0;32m<ipython-input-15-646714272b35>\u001b[0m in \u001b[0;36mgenerate_session\u001b[0;34m(env, agent, t_max)\u001b[0m\n\u001b[1;32m     12\u001b[0m \u001b[0;34m\u001b[0m\u001b[0m\n\u001b[1;32m     13\u001b[0m         \u001b[0;31m# use agent to predict a vector of action probabilities for state :s:\u001b[0m\u001b[0;34m\u001b[0m\u001b[0;34m\u001b[0m\u001b[0;34m\u001b[0m\u001b[0m\n\u001b[0;32m---> 14\u001b[0;31m         \u001b[0mprobs\u001b[0m \u001b[0;34m=\u001b[0m \u001b[0magent\u001b[0m\u001b[0;34m.\u001b[0m\u001b[0mpredict_proba\u001b[0m\u001b[0;34m(\u001b[0m\u001b[0ms\u001b[0m\u001b[0;34m.\u001b[0m\u001b[0mreshape\u001b[0m\u001b[0;34m(\u001b[0m\u001b[0ms\u001b[0m\u001b[0;34m.\u001b[0m\u001b[0mshape\u001b[0m\u001b[0;34m[\u001b[0m\u001b[0;36m0\u001b[0m\u001b[0;34m]\u001b[0m\u001b[0;34m,\u001b[0m \u001b[0;36m1\u001b[0m\u001b[0;34m)\u001b[0m\u001b[0;34m.\u001b[0m\u001b[0mT\u001b[0m\u001b[0;34m)\u001b[0m\u001b[0;34m.\u001b[0m\u001b[0mT\u001b[0m\u001b[0;34m.\u001b[0m\u001b[0mflatten\u001b[0m\u001b[0;34m(\u001b[0m\u001b[0;34m)\u001b[0m\u001b[0;34m\u001b[0m\u001b[0;34m\u001b[0m\u001b[0m\n\u001b[0m\u001b[1;32m     15\u001b[0m \u001b[0;34m\u001b[0m\u001b[0m\n\u001b[1;32m     16\u001b[0m         \u001b[0;32massert\u001b[0m \u001b[0mprobs\u001b[0m\u001b[0;34m.\u001b[0m\u001b[0mshape\u001b[0m \u001b[0;34m==\u001b[0m \u001b[0;34m(\u001b[0m\u001b[0menv\u001b[0m\u001b[0;34m.\u001b[0m\u001b[0maction_space\u001b[0m\u001b[0;34m.\u001b[0m\u001b[0mn\u001b[0m\u001b[0;34m,\u001b[0m\u001b[0;34m)\u001b[0m\u001b[0;34m,\u001b[0m \u001b[0;34m\"make sure probabilities are a vector (hint: np.reshape)\"\u001b[0m\u001b[0;34m\u001b[0m\u001b[0;34m\u001b[0m\u001b[0m\n",
            "\u001b[0;32m/usr/local/lib/python3.7/dist-packages/sklearn/neural_network/_multilayer_perceptron.py\u001b[0m in \u001b[0;36mpredict_proba\u001b[0;34m(self, X)\u001b[0m\n\u001b[1;32m   1070\u001b[0m         \"\"\"\n\u001b[1;32m   1071\u001b[0m         \u001b[0mcheck_is_fitted\u001b[0m\u001b[0;34m(\u001b[0m\u001b[0mself\u001b[0m\u001b[0;34m)\u001b[0m\u001b[0;34m\u001b[0m\u001b[0;34m\u001b[0m\u001b[0m\n\u001b[0;32m-> 1072\u001b[0;31m         \u001b[0my_pred\u001b[0m \u001b[0;34m=\u001b[0m \u001b[0mself\u001b[0m\u001b[0;34m.\u001b[0m\u001b[0m_predict\u001b[0m\u001b[0;34m(\u001b[0m\u001b[0mX\u001b[0m\u001b[0;34m)\u001b[0m\u001b[0;34m\u001b[0m\u001b[0;34m\u001b[0m\u001b[0m\n\u001b[0m\u001b[1;32m   1073\u001b[0m \u001b[0;34m\u001b[0m\u001b[0m\n\u001b[1;32m   1074\u001b[0m         \u001b[0;32mif\u001b[0m \u001b[0mself\u001b[0m\u001b[0;34m.\u001b[0m\u001b[0mn_outputs_\u001b[0m \u001b[0;34m==\u001b[0m \u001b[0;36m1\u001b[0m\u001b[0;34m:\u001b[0m\u001b[0;34m\u001b[0m\u001b[0;34m\u001b[0m\u001b[0m\n",
            "\u001b[0;32m/usr/local/lib/python3.7/dist-packages/sklearn/neural_network/_multilayer_perceptron.py\u001b[0m in \u001b[0;36m_predict\u001b[0;34m(self, X)\u001b[0m\n\u001b[1;32m    665\u001b[0m             \u001b[0mThe\u001b[0m \u001b[0mdecision\u001b[0m \u001b[0mfunction\u001b[0m \u001b[0mof\u001b[0m \u001b[0mthe\u001b[0m \u001b[0msamples\u001b[0m \u001b[0;32mfor\u001b[0m \u001b[0meach\u001b[0m \u001b[0;32mclass\u001b[0m \u001b[0;32min\u001b[0m \u001b[0mthe\u001b[0m \u001b[0mmodel\u001b[0m\u001b[0;34m.\u001b[0m\u001b[0;34m\u001b[0m\u001b[0;34m\u001b[0m\u001b[0m\n\u001b[1;32m    666\u001b[0m         \"\"\"\n\u001b[0;32m--> 667\u001b[0;31m         \u001b[0mX\u001b[0m \u001b[0;34m=\u001b[0m \u001b[0mcheck_array\u001b[0m\u001b[0;34m(\u001b[0m\u001b[0mX\u001b[0m\u001b[0;34m,\u001b[0m \u001b[0maccept_sparse\u001b[0m\u001b[0;34m=\u001b[0m\u001b[0;34m[\u001b[0m\u001b[0;34m'csr'\u001b[0m\u001b[0;34m,\u001b[0m \u001b[0;34m'csc'\u001b[0m\u001b[0;34m,\u001b[0m \u001b[0;34m'coo'\u001b[0m\u001b[0;34m]\u001b[0m\u001b[0;34m)\u001b[0m\u001b[0;34m\u001b[0m\u001b[0;34m\u001b[0m\u001b[0m\n\u001b[0m\u001b[1;32m    668\u001b[0m \u001b[0;34m\u001b[0m\u001b[0m\n\u001b[1;32m    669\u001b[0m         \u001b[0;31m# Make sure self.hidden_layer_sizes is a list\u001b[0m\u001b[0;34m\u001b[0m\u001b[0;34m\u001b[0m\u001b[0;34m\u001b[0m\u001b[0m\n",
            "\u001b[0;32m/usr/local/lib/python3.7/dist-packages/sklearn/utils/validation.py\u001b[0m in \u001b[0;36mcheck_array\u001b[0;34m(array, accept_sparse, accept_large_sparse, dtype, order, copy, force_all_finite, ensure_2d, allow_nd, ensure_min_samples, ensure_min_features, warn_on_dtype, estimator)\u001b[0m\n\u001b[1;32m    576\u001b[0m         \u001b[0;32mif\u001b[0m \u001b[0mforce_all_finite\u001b[0m\u001b[0;34m:\u001b[0m\u001b[0;34m\u001b[0m\u001b[0;34m\u001b[0m\u001b[0m\n\u001b[1;32m    577\u001b[0m             _assert_all_finite(array,\n\u001b[0;32m--> 578\u001b[0;31m                                allow_nan=force_all_finite == 'allow-nan')\n\u001b[0m\u001b[1;32m    579\u001b[0m \u001b[0;34m\u001b[0m\u001b[0m\n\u001b[1;32m    580\u001b[0m     \u001b[0;32mif\u001b[0m \u001b[0mensure_min_samples\u001b[0m \u001b[0;34m>\u001b[0m \u001b[0;36m0\u001b[0m\u001b[0;34m:\u001b[0m\u001b[0;34m\u001b[0m\u001b[0;34m\u001b[0m\u001b[0m\n",
            "\u001b[0;32m/usr/local/lib/python3.7/dist-packages/sklearn/utils/validation.py\u001b[0m in \u001b[0;36m_assert_all_finite\u001b[0;34m(X, allow_nan, msg_dtype)\u001b[0m\n\u001b[1;32m     38\u001b[0m     \u001b[0;34m\"\"\"Like assert_all_finite, but only for ndarray.\"\"\"\u001b[0m\u001b[0;34m\u001b[0m\u001b[0;34m\u001b[0m\u001b[0m\n\u001b[1;32m     39\u001b[0m     \u001b[0;31m# validation is also imported in extmath\u001b[0m\u001b[0;34m\u001b[0m\u001b[0;34m\u001b[0m\u001b[0;34m\u001b[0m\u001b[0m\n\u001b[0;32m---> 40\u001b[0;31m     \u001b[0;32mfrom\u001b[0m \u001b[0;34m.\u001b[0m\u001b[0mextmath\u001b[0m \u001b[0;32mimport\u001b[0m \u001b[0m_safe_accumulator_op\u001b[0m\u001b[0;34m\u001b[0m\u001b[0;34m\u001b[0m\u001b[0m\n\u001b[0m\u001b[1;32m     41\u001b[0m \u001b[0;34m\u001b[0m\u001b[0m\n\u001b[1;32m     42\u001b[0m     \u001b[0;32mif\u001b[0m \u001b[0m_get_config\u001b[0m\u001b[0;34m(\u001b[0m\u001b[0;34m)\u001b[0m\u001b[0;34m[\u001b[0m\u001b[0;34m'assume_finite'\u001b[0m\u001b[0;34m]\u001b[0m\u001b[0;34m:\u001b[0m\u001b[0;34m\u001b[0m\u001b[0;34m\u001b[0m\u001b[0m\n",
            "\u001b[0;32m/usr/lib/python3.7/importlib/_bootstrap.py\u001b[0m in \u001b[0;36m_handle_fromlist\u001b[0;34m(module, fromlist, import_, recursive)\u001b[0m\n",
            "\u001b[0;31mKeyboardInterrupt\u001b[0m: "
          ]
        }
      ]
    },
    {
      "cell_type": "markdown",
      "metadata": {
        "id": "XJua_rD2fT6x"
      },
      "source": [
        "# Results"
      ]
    },
    {
      "cell_type": "code",
      "metadata": {
        "id": "xyzD8x9ZfT60"
      },
      "source": [
        "# Record sessions\n",
        "\n",
        "import gym.wrappers\n",
        "\n",
        "with gym.wrappers.Monitor(gym.make(\"CartPole-v0\"), directory=\"videos\", force=True) as env_monitor:\n",
        "    sessions = [generate_session(env_monitor, agent) for _ in range(100)]"
      ],
      "execution_count": null,
      "outputs": []
    },
    {
      "cell_type": "code",
      "metadata": {
        "colab": {
          "resources": {
            "http://localhost:8080/videos/openaigym.video.0.61.video000064.mp4": {
              "data": "CjwhRE9DVFlQRSBodG1sPgo8aHRtbCBsYW5nPWVuPgogIDxtZXRhIGNoYXJzZXQ9dXRmLTg+CiAgPG1ldGEgbmFtZT12aWV3cG9ydCBjb250ZW50PSJpbml0aWFsLXNjYWxlPTEsIG1pbmltdW0tc2NhbGU9MSwgd2lkdGg9ZGV2aWNlLXdpZHRoIj4KICA8dGl0bGU+RXJyb3IgNDA0IChOb3QgRm91bmQpISExPC90aXRsZT4KICA8c3R5bGU+CiAgICAqe21hcmdpbjowO3BhZGRpbmc6MH1odG1sLGNvZGV7Zm9udDoxNXB4LzIycHggYXJpYWwsc2Fucy1zZXJpZn1odG1se2JhY2tncm91bmQ6I2ZmZjtjb2xvcjojMjIyO3BhZGRpbmc6MTVweH1ib2R5e21hcmdpbjo3JSBhdXRvIDA7bWF4LXdpZHRoOjM5MHB4O21pbi1oZWlnaHQ6MTgwcHg7cGFkZGluZzozMHB4IDAgMTVweH0qID4gYm9keXtiYWNrZ3JvdW5kOnVybCgvL3d3dy5nb29nbGUuY29tL2ltYWdlcy9lcnJvcnMvcm9ib3QucG5nKSAxMDAlIDVweCBuby1yZXBlYXQ7cGFkZGluZy1yaWdodDoyMDVweH1we21hcmdpbjoxMXB4IDAgMjJweDtvdmVyZmxvdzpoaWRkZW59aW5ze2NvbG9yOiM3Nzc7dGV4dC1kZWNvcmF0aW9uOm5vbmV9YSBpbWd7Ym9yZGVyOjB9QG1lZGlhIHNjcmVlbiBhbmQgKG1heC13aWR0aDo3NzJweCl7Ym9keXtiYWNrZ3JvdW5kOm5vbmU7bWFyZ2luLXRvcDowO21heC13aWR0aDpub25lO3BhZGRpbmctcmlnaHQ6MH19I2xvZ297YmFja2dyb3VuZDp1cmwoLy93d3cuZ29vZ2xlLmNvbS9pbWFnZXMvbG9nb3MvZXJyb3JwYWdlL2Vycm9yX2xvZ28tMTUweDU0LnBuZykgbm8tcmVwZWF0O21hcmdpbi1sZWZ0Oi01cHh9QG1lZGlhIG9ubHkgc2NyZWVuIGFuZCAobWluLXJlc29sdXRpb246MTkyZHBpKXsjbG9nb3tiYWNrZ3JvdW5kOnVybCgvL3d3dy5nb29nbGUuY29tL2ltYWdlcy9sb2dvcy9lcnJvcnBhZ2UvZXJyb3JfbG9nby0xNTB4NTQtMngucG5nKSBuby1yZXBlYXQgMCUgMCUvMTAwJSAxMDAlOy1tb3otYm9yZGVyLWltYWdlOnVybCgvL3d3dy5nb29nbGUuY29tL2ltYWdlcy9sb2dvcy9lcnJvcnBhZ2UvZXJyb3JfbG9nby0xNTB4NTQtMngucG5nKSAwfX1AbWVkaWEgb25seSBzY3JlZW4gYW5kICgtd2Via2l0LW1pbi1kZXZpY2UtcGl4ZWwtcmF0aW86Mil7I2xvZ297YmFja2dyb3VuZDp1cmwoLy93d3cuZ29vZ2xlLmNvbS9pbWFnZXMvbG9nb3MvZXJyb3JwYWdlL2Vycm9yX2xvZ28tMTUweDU0LTJ4LnBuZykgbm8tcmVwZWF0Oy13ZWJraXQtYmFja2dyb3VuZC1zaXplOjEwMCUgMTAwJX19I2xvZ297ZGlzcGxheTppbmxpbmUtYmxvY2s7aGVpZ2h0OjU0cHg7d2lkdGg6MTUwcHh9CiAgPC9zdHlsZT4KICA8YSBocmVmPS8vd3d3Lmdvb2dsZS5jb20vPjxzcGFuIGlkPWxvZ28gYXJpYS1sYWJlbD1Hb29nbGU+PC9zcGFuPjwvYT4KICA8cD48Yj40MDQuPC9iPiA8aW5zPlRoYXTigJlzIGFuIGVycm9yLjwvaW5zPgogIDxwPiAgPGlucz5UaGF04oCZcyBhbGwgd2Uga25vdy48L2lucz4K",
              "headers": [
                [
                  "content-length",
                  "1449"
                ],
                [
                  "content-type",
                  "text/html; charset=utf-8"
                ]
              ],
              "ok": false,
              "status": 404,
              "status_text": ""
            }
          },
          "base_uri": "https://localhost:8080/",
          "height": 501
        },
        "id": "OT1LLRf4fT62",
        "outputId": "f5ad3fd4-6ffe-4c38-edaa-c8a5e171370c"
      },
      "source": [
        "# Show video. This may not work in some setups. If it doesn't\n",
        "# work for you, you can download the videos and view them locally.\n",
        "\n",
        "from pathlib import Path\n",
        "from IPython.display import HTML\n",
        "\n",
        "video_names = sorted([s for s in Path('videos').iterdir() if s.suffix == '.mp4'])\n",
        "\n",
        "HTML(\"\"\"\n",
        "<video width=\"640\" height=\"480\" controls>\n",
        "  <source src=\"{}\" type=\"video/mp4\">\n",
        "</video>\n",
        "\"\"\".format(video_names[-1]))  # You can also try other indices"
      ],
      "execution_count": null,
      "outputs": [
        {
          "output_type": "execute_result",
          "data": {
            "text/html": [
              "\n",
              "<video width=\"640\" height=\"480\" controls>\n",
              "  <source src=\"videos/openaigym.video.0.61.video000064.mp4\" type=\"video/mp4\">\n",
              "</video>\n"
            ],
            "text/plain": [
              "<IPython.core.display.HTML object>"
            ]
          },
          "metadata": {
            "tags": []
          },
          "execution_count": 24
        }
      ]
    },
    {
      "cell_type": "markdown",
      "metadata": {
        "id": "vanWkIfifT65"
      },
      "source": [
        "## Assignment: MountainCar\n",
        "\n",
        "By this moment you should have got enough score on [CartPole-v0](https://gym.openai.com/envs/CartPole-v0) to consider it solved (see the link). It's time to try something harder.\n",
        "\n",
        "_if you have any trouble with CartPole-v0 and feel stuck, take a look at the forums_\n",
        "\n",
        "Your assignment is to obtain average reward of __at least -150__ on `MountainCar-v0`.\n",
        "\n",
        "See the tips section below, it's kinda important.\n",
        "  \n",
        "* Bonus quest: Devise a way to speed up training against the default version\n",
        "  * Obvious improvement: use [joblib](https://www.google.com/search?client=ubuntu&channel=fs&q=joblib&ie=utf-8&oe=utf-8)\n",
        "  * Try re-using samples from 3-5 last iterations when computing threshold and training\n",
        "  * Experiment with amount of training iterations and learning rate of the neural network (see params)\n",
        "  \n",
        "  \n",
        "### Tips\n",
        "* Gym page: [MountainCar](https://gym.openai.com/envs/MountainCar-v0)\n",
        "* Sessions for MountainCar may last for 10k+ ticks. Make sure ```t_max``` param is at least 10k.\n",
        " * Also it may be a good idea to cut rewards via \">\" and not \">=\". If 90% of your sessions get reward of -10k and 10% are better, than if you use percentile 20% as threshold, R >= threshold __fails cut off bad sessions__ whule R > threshold works alright.\n",
        "* _issue with gym_: Some versions of gym limit game time by 200 ticks. This will prevent cem training in most cases. Make sure your agent is able to play for the specified __t_max__, and if it isn't, try `env = gym.make(\"MountainCar-v0\").env` or otherwise get rid of TimeLimit wrapper.\n",
        "* If it won't train it's a good idea to plot reward distribution and record sessions: they may give you some clue. If they don't, call course staff :)\n",
        "* 20-neuron network is probably not enough, feel free to experiment.\n",
        "\n",
        "You may find the following snippet useful:"
      ]
    },
    {
      "cell_type": "code",
      "metadata": {
        "colab": {
          "base_uri": "https://localhost:8080/",
          "height": 1000
        },
        "id": "tv_b8nSxfT66",
        "outputId": "149adbce-41c7-434e-ed8b-f132ce4c2f4b"
      },
      "source": [
        "def visualize_mountain_car(env, agent):\n",
        "    # Compute policy for all possible x and v (with discretization)\n",
        "    xs = np.linspace(env.min_position, env.max_position, 100)\n",
        "    vs = np.linspace(-env.max_speed, env.max_speed, 100)\n",
        "    \n",
        "    grid = np.dstack(np.meshgrid(xs, vs[::-1])).transpose(1, 0, 2)\n",
        "    grid_flat = grid.reshape(len(xs) * len(vs), 2)\n",
        "    probs = agent.predict_proba(grid_flat).reshape(len(xs), len(vs), 3).transpose(1, 0, 2)\n",
        "\n",
        "    # # The above code is equivalent to the following:\n",
        "    # probs = np.empty((len(vs), len(xs), 3))\n",
        "    # for i, v in enumerate(vs[::-1]):\n",
        "    #     for j, x in enumerate(xs):\n",
        "    #         probs[i, j, :] = agent.predict_proba([[x, v]])[0]\n",
        "\n",
        "    # Draw policy\n",
        "    f, ax = plt.subplots(figsize=(7, 7))\n",
        "    ax.imshow(probs, extent=(env.min_position, env.max_position, -env.max_speed, env.max_speed), aspect='auto')\n",
        "    ax.set_title('Learned policy: red=left, green=nothing, blue=right')\n",
        "    ax.set_xlabel('position (x)')\n",
        "    ax.set_ylabel('velocity (v)')\n",
        "    \n",
        "    # Sample a trajectory and draw it\n",
        "    states, actions, _ = generate_session(env, agent)\n",
        "    states = np.array(states)\n",
        "    ax.plot(states[:, 0], states[:, 1], color='white')\n",
        "    \n",
        "    # Draw every 3rd action from the trajectory\n",
        "    for (x, v), a in zip(states[::3], actions[::3]):\n",
        "        if a == 0:\n",
        "            plt.arrow(x, v, -0.1, 0, color='white', head_length=0.02)\n",
        "        elif a == 2:\n",
        "            plt.arrow(x, v, 0.1, 0, color='white', head_length=0.02)\n",
        "\n",
        "with gym.make('MountainCar-v0').env as env:\n",
        "    \n",
        "    n_actions = env.action_space.n\n",
        "    agent = MLPClassifier(\n",
        "        hidden_layer_sizes=(30, 30),\n",
        "        activation='tanh',\n",
        "    )\n",
        "\n",
        "    \n",
        "    agent.partial_fit([env.reset()] * n_actions, range(n_actions), range(n_actions))\n",
        "    n_sessions = 250\n",
        "    percentile = 70\n",
        "    log = []\n",
        "\n",
        "    for i in range(100):\n",
        "        # generate new sessions\n",
        "        sessions = [ generate_session_mountain_car(env, agent, 20000) for t in range(n_sessions) ]\n",
        "\n",
        "\n",
        "        states_batch, actions_batch, rewards_batch = map(np.array, zip(*sessions))\n",
        "        print(rewards_batch)\n",
        "        log.append(np.mean(rewards_batch[rewards_batch >= np.percentile(rewards_batch, percentile)]))\n",
        "        elite_states, elite_actions = select_elites(states_batch, actions_batch, rewards_batch, percentile)\n",
        "\n",
        "        agent.partial_fit(elite_states, elite_actions)\n",
        "\n",
        "\n",
        "        print(i)\n",
        "\n",
        "    print(\"LOG = \")\n",
        "    print(log)\n",
        "    visualize_mountain_car(env, agent)"
      ],
      "execution_count": null,
      "outputs": [
        {
          "output_type": "stream",
          "text": [
            "/usr/local/lib/python3.7/dist-packages/ipykernel_launcher.py:53: VisibleDeprecationWarning: Creating an ndarray from ragged nested sequences (which is a list-or-tuple of lists-or-tuples-or ndarrays with different lengths or shapes) is deprecated. If you meant to do this, you must specify 'dtype=object' when creating the ndarray\n"
          ],
          "name": "stderr"
        },
        {
          "output_type": "stream",
          "text": [
            "[ -8141.  -1991.  -8575.  -2115. -10696.  -1622.  -3587. -13699.  -3366.\n",
            "  -1029.  -4492.  -3931.  -2202.  -1996.  -2735.  -7755.  -3832.  -4397.\n",
            "  -3669.  -7190.  -9190.  -1857. -13531.  -3158.  -5865.  -3237.  -2671.\n",
            "  -7476.  -3622.  -2184.  -1456.  -3337.  -1845.  -4587. -12024.  -2664.\n",
            "  -1798.  -1814.  -1449.  -2646.  -2787.  -2383.  -1577.  -5145.  -3447.\n",
            "  -3319.  -7358.  -9324.  -6938.  -3587.  -1438.  -2485. -19005.  -3517.\n",
            "  -2451.  -4653.  -5329.  -1769.  -6282.  -7989.  -5816.  -5527.  -2535.\n",
            "  -8067.  -5204.  -7351.  -8167.  -1035.  -2971.  -2724.  -2335. -12666.\n",
            "  -7731.  -3121.  -2133.  -1018.  -6730.  -4595.  -1830. -11700.  -6245.\n",
            "  -2766.  -1756.  -3520.  -5996.  -3341.  -2522.  -3771.  -8443.  -4405.\n",
            "  -3294.  -7595.  -2791.  -8780. -12060.   -879.  -4530.  -4010.  -3881.\n",
            "  -1656.  -2522.  -5560.  -2383.  -2920.  -2205.  -2004.  -6157.  -2865.\n",
            "  -3099.  -5111.  -6986.  -4298.  -2088.  -3402.  -6142.  -4630.  -6565.\n",
            "  -8353.  -5237.  -4357.  -4044.  -5548.  -3956.  -9490. -17914.  -6828.\n",
            "  -1729.  -1371.  -3354.  -1541.  -5139.  -3218.  -4208. -12228.  -1339.\n",
            " -12107.  -5261.  -4539. -17096.  -5024.  -3634. -12378.  -1552.  -1927.\n",
            "  -4507.  -3105.  -1719.  -5677.  -1881.  -7142.  -6224.  -4500.  -3287.\n",
            "  -2742.  -1545.  -1463.  -1058.   -664. -11588.  -4177.  -1413.  -3855.\n",
            "  -2151.  -5301.  -4236.  -2072.  -5326.  -1320.  -4898.  -5164.  -2695.\n",
            "  -2153.  -8038.  -6341.  -1887.  -3011.  -2626. -11138.  -5660.  -2443.\n",
            "  -7907.  -3618.  -1515.  -4749.  -8697.  -2930.  -1930.  -1022.  -8773.\n",
            "   -997.  -1832.  -3132.  -1749.  -3612.  -3247.  -2078.  -2833.  -3169.\n",
            "  -2846.  -4836.  -1463.  -3738. -16636.  -4428.  -6015.  -3198.  -3319.\n",
            "  -2186.  -4319.  -4354.  -5739.  -1968.  -5064.  -2653.  -4194.  -4212.\n",
            " -10874.  -1365.  -1961.  -7621.  -4779.  -1970.  -4806.  -2412.  -5008.\n",
            "  -3099. -10406.  -3063.  -2385.  -7216.  -1890.  -2186.  -4903.  -5127.\n",
            "  -8465.  -3353.  -4568. -10074.  -4624.  -1344.  -3111.  -2326.  -2640.\n",
            "  -5159.  -2878.  -2939. -10377.  -3158.  -8717.  -1754.]\n",
            "0\n"
          ],
          "name": "stdout"
        },
        {
          "output_type": "stream",
          "text": [
            "/usr/local/lib/python3.7/dist-packages/ipykernel_launcher.py:53: VisibleDeprecationWarning: Creating an ndarray from ragged nested sequences (which is a list-or-tuple of lists-or-tuples-or ndarrays with different lengths or shapes) is deprecated. If you meant to do this, you must specify 'dtype=object' when creating the ndarray\n"
          ],
          "name": "stderr"
        },
        {
          "output_type": "stream",
          "text": [
            "[ -3370.  -5171.  -1025.  -2792.  -2230.  -2777.  -2355.   -904.  -1391.\n",
            "  -7202.  -3622.  -1810.  -3786.  -5272.  -2181.  -2622.  -2710.  -4084.\n",
            "  -3029.  -4256.  -2698.  -1165.  -2854.  -3059.  -1835.  -1656.  -2407.\n",
            "  -1950.  -2473.  -1266.  -3390.  -2534.  -2569.  -1679.  -3929.  -1758.\n",
            "  -1670.  -1153.  -6004.  -1430.   -603.  -1917.  -4757.  -6498.  -1686.\n",
            "  -1365.  -5736.  -2639.  -3717.  -1476.   -731.  -2918.  -1824.  -3464.\n",
            "  -3632.  -2460.  -1854.  -2057.   -789.  -7387.  -2924.  -1890.  -1113.\n",
            "  -2664.  -3392.  -1409.  -2511.  -1858.  -1569.   -942.  -4293.   -822.\n",
            "  -2183.  -1838.  -1938.  -1765.  -3263.  -2518.  -1487.  -1165.  -1033.\n",
            "  -3101.  -5258.  -1579.  -4385.  -2175.  -1934.  -5945.  -3468.  -1108.\n",
            "  -2032.  -2206.  -1889.  -2922.  -2723.  -1255.  -2590.  -2729.  -6638.\n",
            "  -1337.  -4593.  -4066.   -871.  -2852.  -3675.  -4452.  -1157.  -2863.\n",
            "  -2325.  -3076.  -5423.  -2441.  -4381.  -2437.  -5236.  -2585.  -3325.\n",
            "   -559.  -1830.  -5826.   -958.  -3811.  -2739.  -1769.  -1846.  -2692.\n",
            "  -1259.  -1980.  -1593.  -5350.  -2545.  -1788.  -1979.  -4240.  -1618.\n",
            "  -1581.  -3012.  -6505.  -1123.  -6030.  -1221.  -4685.   -830.  -3486.\n",
            "  -4037.  -1194.  -1071.  -3964.  -1630.  -1588.  -5185.  -1486.  -4549.\n",
            "  -1369.  -2905.  -1859.  -2099.  -1108.  -2765.  -1290.  -2204.  -2253.\n",
            "  -1783.  -2033.  -5665.  -7409.  -2736.  -1366.  -4865.  -1512.  -1113.\n",
            "  -2386.  -2666.  -2914.  -2775.  -4368.  -9445.  -1666.  -4257.  -1532.\n",
            "  -1520.  -4568.  -1897.   -971.  -4770.  -1430.  -4500.  -3564.  -4381.\n",
            "  -2261.  -3721.  -1735.  -4782.  -4725.  -3716.  -2813.  -1338.  -1856.\n",
            "  -2924.  -3267.  -1804.  -2608.  -1637.  -1384.  -2334.  -1172.  -2834.\n",
            "  -2148.  -6448.  -1510.  -1081.  -1464.  -1686.  -1937. -10128.  -2272.\n",
            "  -1858.  -1243.  -3217.  -4192.  -2969.  -3605.  -3309.  -1883.  -3920.\n",
            "  -1464.  -1181.  -4300.  -1749.  -2787.  -3261.  -1264.  -1700.  -1339.\n",
            "  -4176.  -2263.  -6579.  -2689.  -4392.  -1664.   -483.  -1218.  -2886.\n",
            "  -3075.  -1930.  -3207.  -1774.  -3356.  -4602.  -2636.]\n",
            "1\n"
          ],
          "name": "stdout"
        },
        {
          "output_type": "stream",
          "text": [
            "/usr/local/lib/python3.7/dist-packages/ipykernel_launcher.py:53: VisibleDeprecationWarning: Creating an ndarray from ragged nested sequences (which is a list-or-tuple of lists-or-tuples-or ndarrays with different lengths or shapes) is deprecated. If you meant to do this, you must specify 'dtype=object' when creating the ndarray\n"
          ],
          "name": "stderr"
        },
        {
          "output_type": "stream",
          "text": [
            "[ -771. -2711. -1297. -2252. -1317. -1955. -2339. -1699. -1986. -1858.\n",
            " -1877. -1549. -1705.  -969. -2024. -1196. -2386. -1358. -1157. -1331.\n",
            " -1135. -1554. -2706.  -635. -2752. -1018. -1450. -1220. -1140.  -844.\n",
            " -2401. -1453. -1457. -2111.  -522. -4302. -1154. -1687. -1836. -2423.\n",
            " -2040. -1444. -1410.  -937. -3650. -1877. -2527. -1387. -1828. -1981.\n",
            " -1883. -1187. -2182. -2222. -4375. -3109. -6716. -2080. -2080. -1029.\n",
            " -3294. -4175.  -961. -1321.  -832. -1058. -1366. -1773. -2228.  -891.\n",
            " -1653. -1714. -2185. -1950. -1008. -2173. -3131. -2555.  -981. -2838.\n",
            " -1133. -1747. -3124. -3571. -1201.  -960. -1362. -2371. -4482. -3500.\n",
            " -1517. -1237.  -852. -1492. -1302.  -834. -1211. -1576. -2441. -4471.\n",
            " -3194. -1805. -1876. -1726. -1719. -1659. -1907. -1473. -2759. -3994.\n",
            " -1720. -2378. -2056. -2483. -2309.  -972. -1059. -1527. -1399. -1390.\n",
            " -1488. -2015. -2136.  -985. -1433. -2250. -2187. -2008. -1682.  -970.\n",
            " -4801. -1151. -1023.  -995. -1128. -1539. -1908. -2530. -1845. -1831.\n",
            " -2204. -2876. -1892. -1472. -1577. -1950. -1673. -2783. -1615. -1411.\n",
            " -1318. -1125. -1307. -2708.  -749. -1236. -3301.  -737. -3509.  -814.\n",
            " -1519. -1943. -1435. -2366. -1195. -6107. -1472.  -856.  -969. -3755.\n",
            " -1372. -1250.  -850. -3769. -1695. -1622.  -825. -1531. -1630. -1232.\n",
            " -2980. -2341. -1813. -2633.  -887. -1512. -2739. -1754. -1269. -1374.\n",
            " -2596. -3085. -3384. -1520. -3196. -1895. -1942. -1530. -1685. -1283.\n",
            " -2825. -1451. -1383. -2060. -1564. -2363. -3089.  -905. -4597. -1500.\n",
            " -1281. -1554. -1727. -2111. -1750. -1326.  -811. -2823. -1029. -1450.\n",
            " -3406. -2621. -2556. -1521. -1450. -2629. -1099. -1197.  -897. -1317.\n",
            "  -838. -1497. -3148. -1096. -1383. -1961. -1776. -2163. -2145. -1956.\n",
            " -1292. -3994. -2219. -1303. -1378. -1632.  -983. -1523. -3385. -4208.]\n",
            "2\n"
          ],
          "name": "stdout"
        },
        {
          "output_type": "stream",
          "text": [
            "/usr/local/lib/python3.7/dist-packages/ipykernel_launcher.py:53: VisibleDeprecationWarning: Creating an ndarray from ragged nested sequences (which is a list-or-tuple of lists-or-tuples-or ndarrays with different lengths or shapes) is deprecated. If you meant to do this, you must specify 'dtype=object' when creating the ndarray\n"
          ],
          "name": "stderr"
        },
        {
          "output_type": "stream",
          "text": [
            "[-2211. -2026. -2468. -2713.  -822. -1470. -1328. -2241.  -452. -1719.\n",
            " -1134.  -951. -1968.  -985.  -817. -1332. -2693. -1805.  -753. -1581.\n",
            " -1792.  -657. -1068.  -939. -1627. -2898.  -586. -1363. -1479. -1547.\n",
            "  -883. -1546. -1001.  -817.  -788. -1944. -1243.  -954.  -659. -2297.\n",
            "  -386. -1237. -1321.  -982.  -587. -1546.  -700.  -819.  -772. -1606.\n",
            " -1275. -1673. -1051.  -980. -1325. -2450.  -882.  -935. -1711.  -534.\n",
            "  -915. -3293. -1533. -2789. -1440. -1160. -1376. -2001. -1079.  -724.\n",
            " -1247. -1240. -1057.  -990. -1020.  -846. -1050. -1032.  -927.  -771.\n",
            " -1164.  -774. -1198.  -763. -2707. -2725. -1280. -1559. -1686. -1219.\n",
            "  -792. -1598. -3297. -1027. -1013. -1219. -1355. -1032. -1563. -1945.\n",
            "  -737. -1875.  -731.  -732. -1235. -1705.  -968. -1368.  -726. -2495.\n",
            " -1537. -2672. -1418. -1295. -2050. -1691. -1560.  -883.  -781. -1161.\n",
            "  -482. -1198. -1358. -2092. -1097.  -811. -1353. -1128.  -569. -1392.\n",
            "  -728. -1731. -1460. -1390. -1694.  -770. -1062.  -899. -1481.  -775.\n",
            " -1315. -1246.  -776.  -985. -1816. -2126. -1334. -1914. -1342. -2627.\n",
            " -1409. -2635. -2222. -1334. -1068. -1171. -1529. -1196. -1802. -1081.\n",
            " -1817. -1729. -1502. -1211. -1936. -1293. -1319. -1467. -1075. -1863.\n",
            " -2657. -1440. -2796. -1718. -1802.  -937. -1279. -2051. -1235. -1922.\n",
            "  -832. -1563. -1217. -1170. -1300.  -838. -1212. -1652. -2116.  -954.\n",
            " -1455. -1262.  -926. -1550. -1140.  -836.  -604. -1416. -1095. -2839.\n",
            " -1305. -1378. -1227. -1754. -1726. -2084. -1008.  -919. -1341. -2841.\n",
            " -1146. -1371. -1509. -1194. -1422. -1569.  -842.  -841. -1301. -1506.\n",
            " -1248. -1408. -1568. -1548. -2428. -1455. -1665. -1613. -1901. -2311.\n",
            " -1817. -2039. -1472.  -809. -1737. -1991. -2408. -2300.  -995.  -989.\n",
            "  -717. -1253. -1291. -1452. -1368. -1413. -1048. -1760.  -577. -1363.]\n",
            "3\n"
          ],
          "name": "stdout"
        },
        {
          "output_type": "stream",
          "text": [
            "/usr/local/lib/python3.7/dist-packages/ipykernel_launcher.py:53: VisibleDeprecationWarning: Creating an ndarray from ragged nested sequences (which is a list-or-tuple of lists-or-tuples-or ndarrays with different lengths or shapes) is deprecated. If you meant to do this, you must specify 'dtype=object' when creating the ndarray\n"
          ],
          "name": "stderr"
        },
        {
          "output_type": "stream",
          "text": [
            "[-1203. -1194.  -932.  -961. -1211. -1370.  -530.  -913. -1354.  -893.\n",
            " -1130.  -957. -1296.  -859.  -986. -1303.  -962.  -912.  -976.  -881.\n",
            "  -883. -1304. -2307.  -596. -1220. -2081. -1056. -1675.  -460.  -626.\n",
            "  -982. -1493.  -800.  -763. -1188. -1205.  -746.  -829. -1049.  -740.\n",
            " -1229.  -981. -1263. -1073. -1829. -1104. -1115.  -673. -1212.  -683.\n",
            "  -818.  -709.  -471.  -852. -1270. -1353. -1054. -1293. -1356.  -674.\n",
            "  -708. -1207.  -770.  -851. -1306.  -627. -1497. -1045. -1965. -1509.\n",
            "  -953. -1128.  -494. -1117.  -557. -1864. -1055. -1614. -1883. -1749.\n",
            " -1219. -1815.  -589. -1475. -1075. -1973.  -846.  -970. -1375. -1981.\n",
            " -1305.  -932. -1226. -1744. -1690.  -719.  -464.  -646. -1553.  -832.\n",
            " -1146.  -953.  -710. -1357. -1000.  -853.  -665. -1357.  -785. -1400.\n",
            "  -717.  -633.  -785. -2284. -1118.  -562.  -740.  -631.  -670. -1468.\n",
            " -1103. -1149. -1451. -1485. -2224.  -675.  -836. -2540.  -878.  -582.\n",
            " -1052. -1585. -1539. -1257. -1134.  -914. -1118. -1008. -1521.  -827.\n",
            " -1625.  -737. -1937. -1030. -1938. -1442. -1848. -1425. -1209.  -686.\n",
            "  -759.  -790. -1028. -1196. -1083. -1197. -1510. -1646.  -833. -1176.\n",
            "  -909. -1600.  -997.  -607. -1054. -1585. -1284.  -743. -1073.  -701.\n",
            " -1663.  -736. -1354. -1956.  -995.  -948. -1084.  -858.  -513. -1305.\n",
            "  -658.  -661. -1292. -2341.  -735. -2060. -1178. -1686. -1380. -1096.\n",
            "  -823. -1005.  -565.  -875. -1189.  -625.  -721. -1251. -1024.  -852.\n",
            " -1324.  -931.  -837. -1450. -1280. -1630. -1040.  -908. -1332.  -834.\n",
            " -1219.  -818. -1140. -1624.  -673. -1181. -1231. -1046. -2261.  -947.\n",
            " -1329.  -867. -1203. -1645.  -739. -1375. -1896. -1369. -1227. -2072.\n",
            " -1961.  -937.  -806. -1203. -2118.  -845.  -786. -1829.  -752. -1126.\n",
            "  -964. -1756. -1103.  -913.  -465. -2225. -2218. -1329.  -814.  -749.]\n",
            "4\n"
          ],
          "name": "stdout"
        },
        {
          "output_type": "stream",
          "text": [
            "/usr/local/lib/python3.7/dist-packages/ipykernel_launcher.py:53: VisibleDeprecationWarning: Creating an ndarray from ragged nested sequences (which is a list-or-tuple of lists-or-tuples-or ndarrays with different lengths or shapes) is deprecated. If you meant to do this, you must specify 'dtype=object' when creating the ndarray\n"
          ],
          "name": "stderr"
        },
        {
          "output_type": "stream",
          "text": [
            "[ -788.  -992.  -618.  -864.  -475.  -798.  -782. -1217.  -836. -1014.\n",
            "  -595.  -811.  -887. -1517. -1586.  -723.  -615.  -650. -1078. -1020.\n",
            "  -445. -2215. -1327.  -935.  -713. -1283.  -436.  -994.  -585.  -516.\n",
            " -1158. -1033.  -555.  -598.  -586.  -689.  -738. -1172. -1099.  -916.\n",
            "  -701. -1087.  -590.  -896. -1808.  -752.  -768.  -607.  -854.  -522.\n",
            "  -681.  -605. -1796. -1942.  -633. -1463.  -949.  -449. -1148.  -858.\n",
            " -1110.  -741. -1280.  -664. -1041.  -804.  -761.  -627. -1535.  -713.\n",
            " -1225.  -438.  -691. -1237.  -896.  -860.  -518.  -825.  -757.  -666.\n",
            "  -728.  -668. -1168.  -783.  -955.  -862.  -720.  -725. -1074.  -565.\n",
            "  -606.  -961. -1167. -1934. -1055.  -886.  -763.  -943. -1648.  -855.\n",
            " -1092.  -919.  -408.  -822.  -524.  -945.  -949. -1172. -1228.  -725.\n",
            " -1532. -1146. -1085. -1109.  -505.  -711.  -763. -1038.  -579.  -687.\n",
            " -1370.  -904.  -678. -1184.  -630.  -993.  -835.  -705.  -837.  -621.\n",
            "  -737.  -830. -1359.  -930.  -688.  -749.  -882.  -629.  -599.  -599.\n",
            " -1300. -1571.  -769.  -879.  -624.  -939. -1020.  -935.  -838.  -616.\n",
            "  -667.  -790.  -525. -1055. -1178.  -800.  -829.  -577.  -660.  -498.\n",
            " -1225.  -818.  -581. -1415.  -710.  -826. -1256. -2050. -1014.  -642.\n",
            "  -539.  -684. -1376.  -799.  -862. -1178.  -372. -1106. -1193.  -628.\n",
            " -1263. -1394.  -700. -1086.  -909.  -626.  -922.  -943. -1520.  -751.\n",
            "  -428.  -718. -1295. -1203.  -885. -2976. -1264.  -848. -1154.  -734.\n",
            " -1124.  -993.  -778.  -979.  -780. -1128.  -968.  -974.  -963.  -668.\n",
            "  -824.  -894. -1057.  -727.  -880. -1125.  -413.  -698.  -664.  -666.\n",
            "  -836.  -645.  -959. -1661. -1766.  -496. -1053. -1061. -1844.  -823.\n",
            "  -820. -1056.  -767.  -871.  -917. -1121.  -810.  -850.  -682. -1419.\n",
            "  -920. -1015. -1125. -1515.  -338.  -666.  -777. -1082.  -869. -1167.]\n",
            "5\n"
          ],
          "name": "stdout"
        },
        {
          "output_type": "stream",
          "text": [
            "/usr/local/lib/python3.7/dist-packages/ipykernel_launcher.py:53: VisibleDeprecationWarning: Creating an ndarray from ragged nested sequences (which is a list-or-tuple of lists-or-tuples-or ndarrays with different lengths or shapes) is deprecated. If you meant to do this, you must specify 'dtype=object' when creating the ndarray\n"
          ],
          "name": "stderr"
        },
        {
          "output_type": "stream",
          "text": [
            "[ -641.  -372.  -671.  -713.  -698.  -459.  -646.  -998.  -940.  -864.\n",
            "  -725.  -777.  -549. -1141.  -561.  -639.  -686.  -712. -1207. -1293.\n",
            "  -864.  -672. -1171.  -664.  -763.  -550.  -606. -1175. -1124.  -811.\n",
            "  -414.  -755. -1063. -1038.  -650.  -421. -1035.  -946.  -693.  -934.\n",
            " -1191.  -753.  -718.  -643.  -958.  -708.  -384.  -784.  -707.  -887.\n",
            "  -602.  -673.  -542.  -649.  -642.  -977.  -848.  -951.  -591.  -574.\n",
            "  -533.  -682.  -915.  -615.  -544.  -893. -1193.  -811. -1115.  -806.\n",
            "  -564. -1227.  -974.  -506.  -645. -1089.  -970.  -838.  -948.  -518.\n",
            "  -287.  -592.  -371.  -697.  -618.  -832. -1140. -1164.  -719.  -660.\n",
            "  -924.  -498.  -492.  -880.  -860.  -573. -1289.  -518. -1045.  -581.\n",
            "  -839. -1525.  -760.  -561.  -664.  -687.  -944.  -533. -1124.  -866.\n",
            "  -798.  -634.  -717.  -997.  -859.  -992. -1062.  -553.  -412.  -566.\n",
            "  -669.  -808.  -444.  -537. -1023.  -814.  -692.  -585.  -799.  -605.\n",
            "  -766.  -879.  -611.  -397. -1449.  -588. -1013.  -527.  -490.  -811.\n",
            "  -702.  -715.  -494.  -320.  -492. -1246. -1053.  -458.  -941.  -759.\n",
            "  -294. -1092.  -479.  -639.  -794.  -604.  -621.  -889.  -885.  -637.\n",
            "  -759.  -604.  -794. -1383.  -439.  -610.  -719.  -758.  -838.  -978.\n",
            "  -648.  -880.  -842.  -805.  -364.  -767.  -706.  -451. -1035. -1301.\n",
            " -1063. -1295.  -791.  -512.  -482.  -596.  -964.  -765.  -937.  -508.\n",
            "  -670.  -846.  -449.  -680.  -901.  -478.  -567.  -488. -1334.  -605.\n",
            "  -545.  -895.  -809. -1304.  -878.  -667.  -450.  -772. -1786.  -775.\n",
            "  -480.  -766.  -568.  -376. -1117.  -529.  -535.  -606.  -580.  -935.\n",
            "  -508.  -651.  -597.  -942.  -539.  -887.  -619.  -773. -1097.  -693.\n",
            "  -528.  -908.  -637.  -849.  -383.  -597.  -694.  -786.  -604.  -538.\n",
            " -1147.  -460.  -620.  -458. -1245.  -702.  -532.  -422.  -464.  -765.]\n",
            "6\n"
          ],
          "name": "stdout"
        },
        {
          "output_type": "stream",
          "text": [
            "/usr/local/lib/python3.7/dist-packages/ipykernel_launcher.py:53: VisibleDeprecationWarning: Creating an ndarray from ragged nested sequences (which is a list-or-tuple of lists-or-tuples-or ndarrays with different lengths or shapes) is deprecated. If you meant to do this, you must specify 'dtype=object' when creating the ndarray\n"
          ],
          "name": "stderr"
        },
        {
          "output_type": "stream",
          "text": [
            "[ -901.  -540.  -408.  -516.  -437.  -595.  -411.  -490.  -556.  -453.\n",
            "  -503.  -558.  -655.  -646.  -761.  -598.  -380.  -752.  -907.  -553.\n",
            "  -494.  -457.  -551.  -900.  -701.  -505.  -593.  -470.  -473.  -531.\n",
            "  -682.  -710.  -381.  -446.  -461.  -515.  -489.  -570.  -624.  -485.\n",
            "  -453.  -496.  -537.  -740.  -736.  -471.  -541.  -584.  -661.  -676.\n",
            " -1092.  -573.  -442.  -864.  -425.  -535.  -589.  -325.  -517.  -760.\n",
            "  -664.  -460. -1000.  -533.  -442.  -551.  -401.  -789.  -651. -1194.\n",
            "  -735.  -753.  -397.  -340.  -635.  -337.  -654.  -419.  -418.  -695.\n",
            "  -526.  -597.  -494.  -474.  -740.  -431.  -627.  -663.  -447.  -578.\n",
            "  -517. -1282.  -489.  -596.  -540.  -738.  -578.  -723.  -514.  -420.\n",
            "  -442.  -401.  -869.  -502.  -647.  -609.  -513.  -567.  -552.  -365.\n",
            "  -467.  -396.  -290.  -898.  -615.  -543.  -428.  -562.  -604.  -499.\n",
            "  -698.  -806.  -595.  -361.  -780.  -598.  -496.  -517.  -762.  -476.\n",
            "  -850.  -858.  -523.  -612.  -639.  -825.  -530.  -653.  -826.  -433.\n",
            "  -654. -1253.  -834.  -773.  -464.  -768.  -772.  -833.  -347.  -566.\n",
            "  -674.  -573.  -544.  -913.  -746.  -735.  -842.  -492.  -642.  -372.\n",
            "  -391.  -668.  -790.  -720.  -395.  -539.  -384.  -737.  -942.  -472.\n",
            "  -657.  -631.  -720.  -406.  -930.  -834.  -935.  -667.  -566.  -374.\n",
            "  -868.  -525.  -637.  -458.  -529.  -611.  -665.  -597.  -590.  -611.\n",
            "  -670.  -548.  -520.  -562. -1059.  -792.  -452.  -729.  -473.  -527.\n",
            "  -543.  -430.  -831.  -344.  -841.  -430.  -816.  -602.  -665.  -935.\n",
            "  -518.  -702.  -496.  -332.  -508.  -484.  -534.  -599.  -609.  -515.\n",
            " -1130.  -945.  -796.  -658.  -387.  -590.  -423.  -493.  -805.  -810.\n",
            "  -617.  -351.  -796.  -879.  -364.  -826.  -372. -1260.  -787.  -755.\n",
            "  -754.  -684.  -841.  -798.  -639.  -408.  -722.  -425.  -575.  -292.]\n",
            "7\n"
          ],
          "name": "stdout"
        },
        {
          "output_type": "stream",
          "text": [
            "/usr/local/lib/python3.7/dist-packages/ipykernel_launcher.py:53: VisibleDeprecationWarning: Creating an ndarray from ragged nested sequences (which is a list-or-tuple of lists-or-tuples-or ndarrays with different lengths or shapes) is deprecated. If you meant to do this, you must specify 'dtype=object' when creating the ndarray\n"
          ],
          "name": "stderr"
        },
        {
          "output_type": "stream",
          "text": [
            "[ -632.  -341.  -448.  -689.  -535.  -407.  -373.  -552.  -452.  -402.\n",
            "  -560.  -428.  -507.  -605.  -658.  -477.  -387.  -512.  -491.  -627.\n",
            "  -646.  -639.  -601.  -517.  -658.  -252.  -545.  -533.  -331.  -327.\n",
            "  -470.  -650.  -694.  -421.  -407.  -432.  -472.  -491.  -929.  -728.\n",
            "  -711.  -423.  -410.  -472.  -637.  -548.  -378.  -678.  -522.  -569.\n",
            "  -569.  -379.  -749.  -751.  -300.  -495.  -319.  -430.  -497.  -292.\n",
            "  -446.  -402.  -378. -1096.  -657.  -475.  -540.  -443.  -477.  -580.\n",
            "  -515.  -388.  -407.  -441.  -390.  -624.  -648.  -486.  -348.  -625.\n",
            "  -470.  -334.  -598.  -425.  -740.  -502.  -561.  -444.  -623.  -679.\n",
            "  -744.  -618.  -341.  -638.  -770.  -445.  -501.  -459.  -392.  -446.\n",
            "  -368.  -411.  -721.  -542.  -455.  -711.  -329.  -329.  -355.  -338.\n",
            "  -653.  -413.  -868.  -624.  -454.  -570.  -562.  -366.  -294.  -692.\n",
            "  -745.  -501.  -477.  -460.  -440.  -392.  -458.  -384.  -370.  -897.\n",
            "  -473.  -775.  -300.  -381.  -603.  -547. -1008.  -567.  -508.  -456.\n",
            "  -704.  -413.  -560.  -720.  -357.  -639.  -672.  -577.  -452.  -592.\n",
            "  -398.  -379.  -635.  -496.  -615.  -402.  -525.  -377.  -364.  -703.\n",
            "  -511.  -344.  -730.  -384.  -704.  -805.  -467.  -470.  -465.  -495.\n",
            "  -490.  -384.  -432.  -646.  -405.  -678.  -681.  -639.  -430.  -426.\n",
            "  -292.  -464.  -424.  -483.  -514.  -731.  -413.  -600.  -627.  -646.\n",
            "  -547.  -612.  -638.  -511.  -372.  -550.  -347.  -470.  -762.  -649.\n",
            "  -682.  -446.  -450.  -380.  -445.  -875.  -439.  -654.  -702. -1068.\n",
            "  -402.  -498.  -800.  -439.  -649.  -432.  -431.  -833.  -540.  -626.\n",
            "  -591.  -460.  -329.  -450.  -603.  -383.  -656.  -440.  -692.  -658.\n",
            "  -780.  -629.  -391.  -352.  -677.  -489.  -699.  -554.  -604.  -657.\n",
            "  -384.  -693.  -551.  -528.  -377.  -533.  -413.  -393.  -323.  -576.]\n",
            "8\n"
          ],
          "name": "stdout"
        },
        {
          "output_type": "stream",
          "text": [
            "/usr/local/lib/python3.7/dist-packages/ipykernel_launcher.py:53: VisibleDeprecationWarning: Creating an ndarray from ragged nested sequences (which is a list-or-tuple of lists-or-tuples-or ndarrays with different lengths or shapes) is deprecated. If you meant to do this, you must specify 'dtype=object' when creating the ndarray\n"
          ],
          "name": "stderr"
        },
        {
          "output_type": "stream",
          "text": [
            "[-745. -585. -376. -611. -694. -395. -394. -417. -626. -440. -335. -501.\n",
            " -493. -626. -315. -393. -496. -510. -381. -323. -362. -293. -483. -731.\n",
            " -380. -479. -497. -456. -444. -499. -694. -569. -312. -411. -447. -513.\n",
            " -444. -690. -372. -633. -461. -509. -621. -436. -422. -462. -508. -473.\n",
            " -691. -813. -418. -736. -537. -457. -357. -497. -326. -375. -681. -448.\n",
            " -291. -507. -991. -320. -525. -489. -377. -429. -534. -523. -403. -290.\n",
            " -391. -481. -466. -455. -409. -497. -396. -386. -590. -318. -953. -522.\n",
            " -267. -486. -509. -596. -450. -418. -404. -610. -369. -456. -814. -395.\n",
            " -383. -376. -555. -331. -491. -345. -341. -360. -386. -509. -517. -388.\n",
            " -544. -383. -565. -595. -563. -701. -550. -523. -453. -347. -451. -748.\n",
            " -373. -293. -450. -544. -327. -395. -469. -398. -803. -353. -314. -451.\n",
            " -337. -470. -453. -404. -378. -470. -337. -522. -323. -539. -409. -306.\n",
            " -364. -782. -393. -298. -559. -446. -331. -370. -598. -461. -289. -364.\n",
            " -428. -392. -626. -356. -523. -846. -452. -383. -616. -673. -465. -372.\n",
            " -495. -327. -466. -356. -452. -451. -381. -383. -473. -349. -924. -321.\n",
            " -763. -309. -330. -331. -598. -498. -608. -872. -611. -441. -352. -371.\n",
            " -533. -398. -281. -408. -682. -585. -289. -447. -368. -288. -356. -334.\n",
            " -692. -483. -393. -730. -294. -246. -349. -413. -329. -531. -445. -480.\n",
            " -302. -287. -403. -459. -396. -364. -415. -328. -613. -462. -506. -275.\n",
            " -422. -331. -379. -569. -332. -510. -545. -536. -485. -527. -538. -361.\n",
            " -587. -438. -455. -536. -416. -498. -512. -372. -423. -585.]\n",
            "9\n"
          ],
          "name": "stdout"
        },
        {
          "output_type": "stream",
          "text": [
            "/usr/local/lib/python3.7/dist-packages/ipykernel_launcher.py:53: VisibleDeprecationWarning: Creating an ndarray from ragged nested sequences (which is a list-or-tuple of lists-or-tuples-or ndarrays with different lengths or shapes) is deprecated. If you meant to do this, you must specify 'dtype=object' when creating the ndarray\n"
          ],
          "name": "stderr"
        },
        {
          "output_type": "stream",
          "text": [
            "[-480. -523. -379. -660. -429. -656. -468. -365. -370. -421. -390. -577.\n",
            " -358. -485. -729. -643. -501. -295. -390. -400. -417. -437. -453. -783.\n",
            " -411. -371. -679. -499. -561. -340. -506. -514. -320. -364. -294. -371.\n",
            " -489. -330. -246. -324. -287. -426. -448. -451. -451. -210. -402. -445.\n",
            " -656. -378. -674. -479. -380. -364. -370. -416. -362. -425. -293. -500.\n",
            " -395. -553. -327. -318. -389. -377. -391. -317. -843. -408. -401. -717.\n",
            " -301. -301. -452. -456. -496. -300. -393. -406. -607. -361. -474. -394.\n",
            " -624. -331. -530. -364. -691. -447. -469. -457. -450. -644. -337. -570.\n",
            " -442. -306. -318. -671. -470. -358. -565. -297. -289. -280. -370. -653.\n",
            " -412. -872. -368. -270. -397. -603. -509. -714. -422. -410. -289. -270.\n",
            " -470. -371. -399. -481. -360. -488. -328. -516. -276. -442. -385. -418.\n",
            " -589. -517. -362. -218. -388. -497. -537. -407. -347. -360. -472. -414.\n",
            " -549. -318. -302. -314. -399. -439. -321. -662. -339. -398. -315. -317.\n",
            " -347. -504. -376. -344. -341. -271. -371. -343. -216. -440. -408. -411.\n",
            " -308. -392. -365. -339. -380. -737. -426. -424. -540. -414. -495. -309.\n",
            " -459. -365. -423. -361. -316. -270. -590. -419. -459. -504. -512. -275.\n",
            " -482. -356. -569. -369. -917. -435. -425. -448. -493. -516. -463. -343.\n",
            " -649. -512. -295. -535. -295. -329. -487. -426. -398. -838. -468. -481.\n",
            " -401. -386. -594. -539. -549. -614. -391. -525. -368. -519. -617. -411.\n",
            " -292. -382. -369. -384. -446. -331. -506. -386. -368. -343. -449. -479.\n",
            " -322. -398. -296. -282. -582. -333. -332. -469. -431. -420.]\n",
            "10\n"
          ],
          "name": "stdout"
        },
        {
          "output_type": "stream",
          "text": [
            "/usr/local/lib/python3.7/dist-packages/ipykernel_launcher.py:53: VisibleDeprecationWarning: Creating an ndarray from ragged nested sequences (which is a list-or-tuple of lists-or-tuples-or ndarrays with different lengths or shapes) is deprecated. If you meant to do this, you must specify 'dtype=object' when creating the ndarray\n"
          ],
          "name": "stderr"
        },
        {
          "output_type": "stream",
          "text": [
            "[-292. -396. -373. -614. -375. -537. -410. -372. -508. -290. -729. -512.\n",
            " -437. -628. -359. -582. -496. -555. -289. -355. -217. -336. -302. -321.\n",
            " -300. -357. -326. -292. -469. -610. -291. -348. -467. -383. -423. -236.\n",
            " -461. -369. -438. -285. -366. -422. -460. -382. -400. -477. -364. -452.\n",
            " -492. -394. -368. -703. -351. -413. -427. -320. -352. -464. -405. -272.\n",
            " -482. -347. -394. -241. -666. -405. -419. -429. -407. -342. -326. -674.\n",
            " -303. -573. -382. -274. -574. -536. -380. -359. -285. -365. -504. -697.\n",
            " -403. -294. -325. -370. -257. -411. -311. -375. -363. -295. -311. -302.\n",
            " -662. -297. -753. -463. -442. -230. -465. -379. -512. -366. -350. -298.\n",
            " -366. -323. -238. -355. -453. -369. -441. -274. -403. -404. -414. -325.\n",
            " -464. -342. -674. -412. -430. -279. -479. -472. -291. -261. -319. -356.\n",
            " -425. -398. -275. -492. -366. -490. -448. -461. -293. -331. -267. -315.\n",
            " -377. -529. -642. -368. -380. -319. -357. -418. -486. -347. -448. -394.\n",
            " -332. -282. -471. -367. -380. -545. -418. -388. -374. -484. -351. -432.\n",
            " -330. -361. -377. -309. -361. -381. -369. -443. -552. -334. -375. -638.\n",
            " -387. -263. -276. -480. -486. -533. -613. -379. -389. -464. -454. -798.\n",
            " -366. -521. -414. -429. -303. -582. -387. -464. -425. -376. -341. -334.\n",
            " -434. -333. -310. -337. -321. -374. -271. -442. -371. -334. -269. -300.\n",
            " -324. -392. -281. -435. -357. -352. -460. -606. -511. -622. -306. -475.\n",
            " -456. -456. -306. -453. -412. -303. -282. -341. -406. -419. -575. -388.\n",
            " -419. -509. -387. -446. -255. -319. -559. -535. -360. -370.]\n",
            "11\n"
          ],
          "name": "stdout"
        },
        {
          "output_type": "stream",
          "text": [
            "/usr/local/lib/python3.7/dist-packages/ipykernel_launcher.py:53: VisibleDeprecationWarning: Creating an ndarray from ragged nested sequences (which is a list-or-tuple of lists-or-tuples-or ndarrays with different lengths or shapes) is deprecated. If you meant to do this, you must specify 'dtype=object' when creating the ndarray\n"
          ],
          "name": "stderr"
        },
        {
          "output_type": "stream",
          "text": [
            "[-397. -349. -431. -494. -234. -413. -270. -303. -312. -436. -549. -248.\n",
            " -281. -303. -451. -403. -209. -283. -446. -314. -403. -483. -397. -430.\n",
            " -392. -366. -358. -599. -370. -374. -279. -438. -332. -425. -452. -280.\n",
            " -353. -453. -425. -298. -307. -377. -274. -483. -205. -439. -489. -283.\n",
            " -442. -382. -285. -354. -457. -315. -260. -286. -320. -483. -371. -299.\n",
            " -334. -441. -305. -445. -290. -568. -368. -248. -435. -380. -376. -282.\n",
            " -355. -415. -537. -452. -352. -210. -346. -291. -427. -289. -318. -484.\n",
            " -291. -444. -369. -576. -591. -310. -269. -537. -321. -459. -400. -388.\n",
            " -465. -285. -300. -317. -213. -290. -495. -282. -425. -384. -197. -403.\n",
            " -505. -493. -426. -246. -316. -317. -381. -442. -634. -292. -727. -462.\n",
            " -371. -329. -440. -282. -399. -326. -246. -307. -455. -593. -313. -467.\n",
            " -592. -368. -299. -447. -275. -368. -285. -379. -334. -390. -202. -504.\n",
            " -323. -301. -283. -287. -404. -400. -354. -467. -353. -438. -312. -210.\n",
            " -440. -437. -349. -352. -350. -472. -398. -476. -475. -503. -418. -351.\n",
            " -422. -430. -327. -388. -343. -282. -410. -390. -370. -359. -255. -385.\n",
            " -362. -481. -287. -295. -442. -363. -221. -533. -531. -378. -338. -331.\n",
            " -421. -604. -343. -561. -605. -423. -246. -498. -352. -295. -407. -497.\n",
            " -392. -246. -326. -318. -324. -437. -455. -474. -388. -291. -374. -210.\n",
            " -291. -231. -355. -509. -327. -291. -559. -401. -370. -293. -323. -305.\n",
            " -294. -357. -389. -431. -279. -284. -444. -395. -512. -677. -431. -395.\n",
            " -288. -452. -286. -446. -401. -444. -408. -454. -363. -315.]\n",
            "12\n"
          ],
          "name": "stdout"
        },
        {
          "output_type": "stream",
          "text": [
            "/usr/local/lib/python3.7/dist-packages/ipykernel_launcher.py:53: VisibleDeprecationWarning: Creating an ndarray from ragged nested sequences (which is a list-or-tuple of lists-or-tuples-or ndarrays with different lengths or shapes) is deprecated. If you meant to do this, you must specify 'dtype=object' when creating the ndarray\n"
          ],
          "name": "stderr"
        },
        {
          "output_type": "stream",
          "text": [
            "[-382. -286. -384. -314. -315. -287. -368. -214. -357. -317. -287. -290.\n",
            " -277. -631. -420. -411. -322. -325. -277. -361. -387. -625. -299. -397.\n",
            " -335. -369. -362. -352. -348. -434. -348. -329. -396. -440. -280. -233.\n",
            " -354. -427. -299. -462. -294. -524. -450. -382. -297. -314. -430. -261.\n",
            " -237. -414. -208. -291. -302. -303. -515. -286. -194. -273. -383. -293.\n",
            " -319. -314. -361. -407. -348. -341. -297. -326. -400. -287. -288. -374.\n",
            " -337. -399. -535. -294. -298. -291. -359. -299. -206. -290. -207. -341.\n",
            " -238. -395. -268. -408. -426. -262. -287. -285. -373. -288. -425. -242.\n",
            " -366. -293. -434. -427. -384. -308. -347. -285. -205. -250. -376. -206.\n",
            " -430. -369. -202. -273. -282. -356. -426. -309. -422. -334. -330. -411.\n",
            " -327. -469. -316. -484. -621. -604. -324. -434. -223. -288. -341. -330.\n",
            " -281. -283. -198. -404. -371. -253. -330. -367. -297. -353. -286. -433.\n",
            " -351. -516. -283. -368. -466. -199. -301. -362. -323. -217. -671. -296.\n",
            " -228. -456. -276. -300. -402. -436. -521. -385. -331. -363. -498. -423.\n",
            " -280. -338. -374. -312. -433. -256. -227. -311. -349. -205. -204. -284.\n",
            " -396. -451. -233. -265. -519. -286. -211. -405. -490. -236. -291. -383.\n",
            " -226. -294. -346. -277. -307. -397. -384. -285. -333. -310. -288. -292.\n",
            " -529. -427. -357. -376. -286. -252. -335. -340. -295. -383. -309. -391.\n",
            " -342. -275. -461. -462. -566. -283. -227. -281. -311. -289. -255. -455.\n",
            " -299. -296. -324. -312. -326. -256. -677. -435. -358. -373. -282. -381.\n",
            " -243. -401. -321. -392. -464. -339. -355. -269. -308. -414.]\n",
            "13\n"
          ],
          "name": "stdout"
        },
        {
          "output_type": "stream",
          "text": [
            "/usr/local/lib/python3.7/dist-packages/ipykernel_launcher.py:53: VisibleDeprecationWarning: Creating an ndarray from ragged nested sequences (which is a list-or-tuple of lists-or-tuples-or ndarrays with different lengths or shapes) is deprecated. If you meant to do this, you must specify 'dtype=object' when creating the ndarray\n"
          ],
          "name": "stderr"
        },
        {
          "output_type": "stream",
          "text": [
            "[-298. -409. -337. -329. -285. -252. -306. -291. -305. -213. -347. -419.\n",
            " -277. -286. -278. -244. -517. -282. -218. -302. -424. -305. -290. -313.\n",
            " -378. -409. -373. -207. -329. -267. -216. -263. -204. -292. -346. -400.\n",
            " -234. -386. -345. -365. -346. -498. -382. -388. -397. -334. -339. -235.\n",
            " -200. -269. -287. -272. -208. -313. -404. -383. -374. -289. -251. -346.\n",
            " -410. -211. -379. -279. -329. -363. -317. -377. -292. -303. -275. -495.\n",
            " -292. -259. -318. -352. -288. -237. -280. -493. -416. -399. -378. -306.\n",
            " -446. -414. -579. -510. -432. -321. -289. -206. -305. -236. -285. -355.\n",
            " -300. -354. -199. -308. -232. -340. -343. -240. -198. -284. -365. -337.\n",
            " -271. -217. -245. -282. -279. -211. -441. -345. -263. -175. -351. -252.\n",
            " -225. -355. -329. -357. -356. -290. -206. -357. -264. -250. -295. -201.\n",
            " -176. -468. -314. -261. -211. -365. -331. -386. -287. -398. -351. -286.\n",
            " -378. -446. -277. -309. -276. -483. -276. -253. -299. -295. -315. -377.\n",
            " -339. -484. -240. -242. -263. -357. -295. -301. -251. -479. -334. -215.\n",
            " -374. -285. -394. -248. -401. -435. -442. -435. -299. -287. -315. -393.\n",
            " -272. -286. -202. -387. -389. -294. -278. -204. -403. -317. -333. -332.\n",
            " -246. -384. -299. -409. -310. -242. -256. -377. -343. -337. -277. -419.\n",
            " -203. -379. -324. -295. -287. -524. -322. -278. -299. -326. -254. -352.\n",
            " -249. -368. -293. -210. -212. -344. -385. -345. -309. -274. -303. -390.\n",
            " -283. -390. -277. -311. -216. -275. -334. -332. -313. -447. -406. -205.\n",
            " -366. -289. -275. -338. -293. -280. -194. -339. -359. -355.]\n",
            "14\n"
          ],
          "name": "stdout"
        },
        {
          "output_type": "stream",
          "text": [
            "/usr/local/lib/python3.7/dist-packages/ipykernel_launcher.py:53: VisibleDeprecationWarning: Creating an ndarray from ragged nested sequences (which is a list-or-tuple of lists-or-tuples-or ndarrays with different lengths or shapes) is deprecated. If you meant to do this, you must specify 'dtype=object' when creating the ndarray\n"
          ],
          "name": "stderr"
        },
        {
          "output_type": "stream",
          "text": [
            "[-271. -344. -358. -333. -306. -286. -385. -321. -351. -243. -376. -211.\n",
            " -301. -215. -233. -478. -251. -324. -249. -213. -553. -337. -385. -288.\n",
            " -208. -224. -284. -278. -286. -243. -252. -252. -297. -353. -277. -238.\n",
            " -313. -333. -258. -295. -226. -292. -324. -262. -260. -251. -325. -362.\n",
            " -230. -373. -246. -288. -266. -280. -314. -232. -376. -378. -341. -353.\n",
            " -275. -202. -387. -356. -291. -257. -360. -279. -367. -282. -369. -338.\n",
            " -281. -211. -265. -298. -359. -364. -331. -348. -203. -429. -307. -240.\n",
            " -609. -206. -275. -281. -242. -276. -300. -416. -331. -241. -232. -208.\n",
            " -199. -337. -301. -379. -215. -241. -443. -334. -340. -271. -296. -284.\n",
            " -330. -216. -443. -282. -407. -273. -274. -274. -257. -240. -661. -257.\n",
            " -230. -278. -554. -283. -232. -297. -198. -368. -331. -274. -319. -294.\n",
            " -341. -327. -425. -316. -428. -210. -358. -284. -300. -262. -253. -438.\n",
            " -326. -292. -672. -206. -201. -247. -647. -322. -314. -303. -425. -240.\n",
            " -285. -277. -471. -299. -292. -202. -293. -200. -197. -204. -382. -283.\n",
            " -206. -371. -404. -197. -267. -210. -351. -229. -312. -237. -365. -337.\n",
            " -251. -390. -327. -393. -303. -415. -281. -280. -293. -287. -293. -283.\n",
            " -235. -428. -359. -434. -438. -293. -510. -511. -288. -356. -339. -184.\n",
            " -276. -204. -390. -323. -231. -305. -279. -337. -207. -290. -301. -281.\n",
            " -369. -402. -400. -199. -419. -212. -289. -206. -287. -316. -214. -273.\n",
            " -281. -230. -441. -362. -156. -279. -244. -334. -207. -400. -305. -284.\n",
            " -292. -198. -207. -244. -348. -320. -504. -390. -234. -285.]\n",
            "15\n"
          ],
          "name": "stdout"
        },
        {
          "output_type": "stream",
          "text": [
            "/usr/local/lib/python3.7/dist-packages/ipykernel_launcher.py:53: VisibleDeprecationWarning: Creating an ndarray from ragged nested sequences (which is a list-or-tuple of lists-or-tuples-or ndarrays with different lengths or shapes) is deprecated. If you meant to do this, you must specify 'dtype=object' when creating the ndarray\n"
          ],
          "name": "stderr"
        },
        {
          "output_type": "stream",
          "text": [
            "[-170. -359. -251. -248. -239. -203. -285. -329. -240. -267. -247. -203.\n",
            " -331. -155. -345. -381. -282. -258. -187. -380. -266. -222. -339. -450.\n",
            " -307. -286. -234. -293. -258. -323. -245. -219. -292. -502. -279. -223.\n",
            " -311. -181. -266. -338. -320. -285. -207. -312. -357. -254. -250. -245.\n",
            " -315. -297. -244. -244. -380. -433. -283. -170. -261. -273. -296. -400.\n",
            " -209. -231. -407. -243. -201. -430. -214. -269. -366. -207. -221. -282.\n",
            " -276. -285. -395. -262. -431. -241. -360. -343. -295. -312. -259. -244.\n",
            " -422. -278. -234. -301. -331. -219. -282. -202. -164. -331. -303. -204.\n",
            " -395. -214. -355. -216. -218. -370. -282. -214. -281. -506. -262. -328.\n",
            " -162. -206. -366. -243. -418. -198. -202. -433. -275. -294. -235. -204.\n",
            " -241. -255. -231. -336. -445. -350. -174. -208. -287. -259. -238. -247.\n",
            " -353. -258. -240. -213. -359. -230. -198. -254. -272. -277. -358. -210.\n",
            " -313. -322. -295. -231. -329. -265. -204. -240. -331. -330. -314. -226.\n",
            " -357. -322. -245. -244. -304. -294. -203. -419. -211. -337. -208. -361.\n",
            " -226. -291. -286. -201. -256. -348. -254. -236. -326. -254. -267. -326.\n",
            " -243. -275. -279. -207. -291. -543. -312. -254. -210. -202. -359. -279.\n",
            " -201. -285. -209. -205. -214. -366. -200. -251. -338. -327. -247. -233.\n",
            " -246. -211. -182. -205. -235. -280. -269. -244. -212. -226. -248. -291.\n",
            " -313. -243. -238. -329. -281. -239. -251. -236. -196. -327. -293. -272.\n",
            " -291. -334. -326. -270. -354. -294. -298. -300. -213. -368. -294. -245.\n",
            " -296. -358. -259. -481. -248. -208. -275. -196. -272. -307.]\n",
            "16\n"
          ],
          "name": "stdout"
        },
        {
          "output_type": "stream",
          "text": [
            "/usr/local/lib/python3.7/dist-packages/ipykernel_launcher.py:53: VisibleDeprecationWarning: Creating an ndarray from ragged nested sequences (which is a list-or-tuple of lists-or-tuples-or ndarrays with different lengths or shapes) is deprecated. If you meant to do this, you must specify 'dtype=object' when creating the ndarray\n"
          ],
          "name": "stderr"
        },
        {
          "output_type": "stream",
          "text": [
            "[-344. -340. -407. -304. -258. -329. -202. -289. -214. -246. -319. -210.\n",
            " -261. -258. -263. -296. -207. -248. -307. -277. -314. -239. -215. -397.\n",
            " -525. -198. -375. -309. -236. -281. -289. -277. -194. -191. -273. -291.\n",
            " -214. -211. -224. -204. -238. -415. -236. -392. -207. -223. -247. -287.\n",
            " -210. -249. -600. -296. -252. -250. -298. -204. -323. -232. -301. -334.\n",
            " -262. -521. -238. -280. -207. -206. -286. -349. -222. -338. -242. -201.\n",
            " -325. -285. -226. -252. -227. -376. -329. -197. -246. -222. -239. -264.\n",
            " -403. -217. -203. -252. -325. -206. -287. -233. -229. -236. -533. -226.\n",
            " -290. -246. -279. -301. -208. -401. -253. -323. -165. -244. -203. -201.\n",
            " -218. -292. -344. -237. -211. -343. -284. -218. -413. -278. -210. -233.\n",
            " -208. -213. -303. -247. -219. -133. -487. -270. -206. -344. -325. -261.\n",
            " -279. -170. -207. -315. -283. -298. -219. -284. -253. -445. -246. -278.\n",
            " -335. -212. -234. -233. -223. -316. -335. -288. -284. -346. -211. -355.\n",
            " -203. -232. -187. -286. -204. -215. -349. -252. -204. -359. -206. -236.\n",
            " -327. -198. -279. -199. -322. -326. -208. -343. -273. -259. -230. -259.\n",
            " -503. -306. -422. -217. -247. -268. -371. -211. -199. -361. -311. -164.\n",
            " -215. -252. -205. -333. -204. -271. -242. -290. -200. -206. -274. -277.\n",
            " -201. -255. -286. -266. -206. -207. -275. -207. -215. -242. -295. -291.\n",
            " -443. -240. -233. -275. -342. -280. -205. -392. -327. -279. -274. -274.\n",
            " -205. -205. -384. -322. -224. -208. -237. -199. -288. -141. -281. -273.\n",
            " -282. -345. -207. -230. -217. -162. -205. -339. -308. -361.]\n",
            "17\n"
          ],
          "name": "stdout"
        },
        {
          "output_type": "stream",
          "text": [
            "/usr/local/lib/python3.7/dist-packages/ipykernel_launcher.py:53: VisibleDeprecationWarning: Creating an ndarray from ragged nested sequences (which is a list-or-tuple of lists-or-tuples-or ndarrays with different lengths or shapes) is deprecated. If you meant to do this, you must specify 'dtype=object' when creating the ndarray\n"
          ],
          "name": "stderr"
        },
        {
          "output_type": "stream",
          "text": [
            "[-200. -293. -203. -212. -237. -218. -294. -257. -191. -174. -272. -239.\n",
            " -353. -260. -265. -204. -303. -200. -313. -199. -214. -275. -202. -298.\n",
            " -324. -281. -212. -252. -267. -194. -204. -210. -202. -224. -257. -200.\n",
            " -240. -259. -231. -161. -241. -231. -160. -316. -273. -289. -206. -199.\n",
            " -282. -267. -221. -214. -277. -387. -278. -267. -213. -246. -283. -325.\n",
            " -203. -199. -209. -243. -218. -271. -195. -204. -203. -219. -240. -194.\n",
            " -177. -235. -334. -265. -266. -274. -191. -213. -209. -404. -284. -342.\n",
            " -214. -387. -269. -283. -241. -191. -307. -325. -258. -292. -295. -245.\n",
            " -257. -245. -236. -243. -172. -255. -301. -266. -288. -262. -239. -290.\n",
            " -359. -294. -211. -303. -326. -174. -201. -288. -308. -280. -241. -207.\n",
            " -209. -211. -199. -363. -129. -349. -207. -281. -204. -329. -228. -218.\n",
            " -265. -292. -436. -307. -209. -275. -203. -269. -206. -242. -301. -240.\n",
            " -273. -392. -257. -240. -293. -296. -203. -260. -204. -214. -308. -262.\n",
            " -379. -260. -293. -201. -207. -272. -276. -211. -270. -297. -197. -245.\n",
            " -225. -308. -200. -276. -216. -425. -190. -296. -275. -198. -234. -257.\n",
            " -203. -310. -295. -224. -287. -260. -253. -247. -296. -307. -193. -201.\n",
            " -274. -280. -203. -290. -242. -284. -171. -260. -208. -277. -162. -238.\n",
            " -320. -205. -324. -201. -204. -196. -273. -197. -192. -265. -292. -200.\n",
            " -227. -234. -295. -273. -237. -277. -292. -215. -279. -358. -351. -310.\n",
            " -198. -262. -278. -214. -376. -379. -299. -339. -215. -245. -323. -206.\n",
            " -448. -258. -210. -165. -192. -195. -202. -284. -262. -443.]\n",
            "18\n"
          ],
          "name": "stdout"
        },
        {
          "output_type": "stream",
          "text": [
            "/usr/local/lib/python3.7/dist-packages/ipykernel_launcher.py:53: VisibleDeprecationWarning: Creating an ndarray from ragged nested sequences (which is a list-or-tuple of lists-or-tuples-or ndarrays with different lengths or shapes) is deprecated. If you meant to do this, you must specify 'dtype=object' when creating the ndarray\n"
          ],
          "name": "stderr"
        },
        {
          "output_type": "stream",
          "text": [
            "[-284. -315. -231. -190. -222. -393. -243. -198. -278. -403. -311. -300.\n",
            " -163. -320. -171. -195. -250. -232. -238. -198. -210. -228. -255. -206.\n",
            " -307. -211. -258. -386. -264. -236. -263. -237. -242. -234. -261. -282.\n",
            " -308. -247. -131. -202. -246. -199. -194. -164. -321. -269. -444. -220.\n",
            " -198. -283. -229. -244. -311. -227. -367. -204. -198. -206. -262. -244.\n",
            " -227. -281. -273. -197. -241. -251. -203. -276. -204. -223. -320. -199.\n",
            " -274. -300. -243. -354. -265. -347. -434. -279. -210. -294. -277. -200.\n",
            " -236. -346. -239. -209. -269. -302. -256. -158. -272. -202. -204. -230.\n",
            " -209. -354. -202. -210. -334. -204. -298. -371. -235. -208. -266. -197.\n",
            " -262. -230. -231. -212. -288. -230. -217. -214. -208. -234. -205. -227.\n",
            " -216. -322. -190. -160. -201. -359. -209. -274. -253. -261. -299. -210.\n",
            " -291. -207. -244. -183. -195. -198. -201. -234. -254. -207. -256. -199.\n",
            " -249. -218. -313. -203. -282. -291. -285. -202. -238. -314. -245. -202.\n",
            " -266. -204. -248. -272. -199. -310. -224. -310. -216. -307. -202. -198.\n",
            " -238. -261. -247. -207. -207. -204. -149. -203. -203. -261. -213. -257.\n",
            " -250. -210. -188. -232. -165. -297. -237. -259. -235. -279. -225. -307.\n",
            " -204. -273. -196. -301. -221. -218. -242. -271. -205. -190. -248. -198.\n",
            " -271. -194. -164. -218. -241. -347. -260. -304. -177. -282. -437. -207.\n",
            " -284. -239. -198. -319. -256. -309. -447. -219. -302. -228. -193. -334.\n",
            " -196. -206. -306. -232. -249. -339. -328. -155. -387. -188. -259. -209.\n",
            " -191. -209. -239. -204. -265. -302. -287. -213. -270. -395.]\n",
            "19\n"
          ],
          "name": "stdout"
        },
        {
          "output_type": "stream",
          "text": [
            "/usr/local/lib/python3.7/dist-packages/ipykernel_launcher.py:53: VisibleDeprecationWarning: Creating an ndarray from ragged nested sequences (which is a list-or-tuple of lists-or-tuples-or ndarrays with different lengths or shapes) is deprecated. If you meant to do this, you must specify 'dtype=object' when creating the ndarray\n"
          ],
          "name": "stderr"
        },
        {
          "output_type": "stream",
          "text": [
            "[-219. -206. -250. -188. -219. -225. -166. -213. -267. -194. -265. -243.\n",
            " -272. -239. -259. -199. -309. -235. -182. -236. -188. -205. -200. -167.\n",
            " -262. -243. -281. -206. -200. -170. -233. -170. -247. -200. -166. -258.\n",
            " -341. -238. -166. -190. -178. -203. -353. -310. -256. -226. -252. -200.\n",
            " -209. -202. -274. -280. -336. -161. -189. -324. -232. -244. -320. -316.\n",
            " -210. -320. -261. -235. -212. -302. -270. -271. -258. -198. -264. -214.\n",
            " -283. -294. -202. -174. -197. -207. -201. -203. -199. -170. -206. -201.\n",
            " -262. -239. -239. -280. -183. -185. -173. -236. -324. -293. -246. -174.\n",
            " -249. -201. -235. -228. -230. -275. -261. -186. -214. -281. -287. -259.\n",
            " -226. -240. -297. -202. -226. -240. -249. -165. -193. -239. -239. -212.\n",
            " -286. -233. -258. -353. -204. -231. -263. -231. -261. -294. -206. -207.\n",
            " -308. -216. -203. -237. -284. -193. -224. -270. -348. -277. -209. -185.\n",
            " -279. -294. -264. -309. -290. -198. -275. -307. -254. -195. -230. -378.\n",
            " -287. -357. -345. -201. -196. -208. -265. -184. -171. -305. -192. -312.\n",
            " -223. -276. -262. -206. -252. -230. -207. -274. -125. -141. -269. -200.\n",
            " -214. -321. -207. -280. -157. -208. -203. -172. -244. -223. -239. -261.\n",
            " -228. -204. -195. -120. -184. -211. -264. -208. -238. -370. -248. -207.\n",
            " -248. -180. -235. -266. -217. -188. -203. -212. -277. -241. -264. -195.\n",
            " -243. -225. -203. -293. -162. -254. -170. -359. -365. -224. -233. -255.\n",
            " -208. -248. -200. -281. -205. -267. -207. -131. -201. -199. -208. -275.\n",
            " -305. -244. -191. -239. -249. -217. -201. -285. -230. -241.]\n",
            "20\n"
          ],
          "name": "stdout"
        },
        {
          "output_type": "stream",
          "text": [
            "/usr/local/lib/python3.7/dist-packages/ipykernel_launcher.py:53: VisibleDeprecationWarning: Creating an ndarray from ragged nested sequences (which is a list-or-tuple of lists-or-tuples-or ndarrays with different lengths or shapes) is deprecated. If you meant to do this, you must specify 'dtype=object' when creating the ndarray\n"
          ],
          "name": "stderr"
        },
        {
          "output_type": "stream",
          "text": [
            "[-204. -237. -191. -155. -205. -232. -194. -199. -227. -292. -290. -207.\n",
            " -281. -230. -204. -295. -183. -263. -168. -219. -249. -269. -301. -203.\n",
            " -244. -299. -198. -210. -224. -150. -130. -237. -247. -212. -241. -199.\n",
            " -193. -231. -218. -195. -199. -244. -281. -288. -200. -208. -223. -160.\n",
            " -409. -158. -167. -310. -252. -195. -172. -246. -159. -178. -240. -239.\n",
            " -271. -168. -191. -344. -211. -201. -200. -249. -307. -218. -237. -217.\n",
            " -284. -201. -257. -251. -315. -194. -244. -198. -212. -226. -206. -234.\n",
            " -208. -235. -143. -164. -299. -186. -297. -171. -211. -268. -308. -220.\n",
            " -225. -200. -293. -265. -162. -275. -217. -199. -218. -203. -299. -184.\n",
            " -192. -213. -237. -210. -214. -230. -189. -212. -195. -191. -197. -198.\n",
            " -203. -266. -221. -196. -241. -265. -211. -380. -244. -198. -196. -326.\n",
            " -186. -215. -195. -208. -199. -234. -234. -192. -218. -239. -195. -177.\n",
            " -228. -188. -197. -216. -211. -173. -170. -273. -234. -229. -213. -155.\n",
            " -198. -233. -242. -240. -283. -248. -279. -196. -254. -298. -207. -243.\n",
            " -148. -202. -244. -215. -202. -289. -193. -199. -234. -231. -202. -200.\n",
            " -298. -271. -203. -305. -217. -467. -192. -200. -249. -200. -242. -233.\n",
            " -235. -234. -153. -208. -210. -132. -264. -208. -266. -202. -206. -294.\n",
            " -278. -172. -238. -226. -324. -224. -269. -211. -207. -224. -234. -201.\n",
            " -255. -217. -213. -201. -436. -211. -264. -288. -332. -296. -232. -193.\n",
            " -279. -216. -217. -250. -178. -331. -216. -171. -225. -199. -212. -143.\n",
            " -244. -161. -226. -194. -208. -230. -349. -240. -214. -281.]\n",
            "21\n"
          ],
          "name": "stdout"
        },
        {
          "output_type": "stream",
          "text": [
            "/usr/local/lib/python3.7/dist-packages/ipykernel_launcher.py:53: VisibleDeprecationWarning: Creating an ndarray from ragged nested sequences (which is a list-or-tuple of lists-or-tuples-or ndarrays with different lengths or shapes) is deprecated. If you meant to do this, you must specify 'dtype=object' when creating the ndarray\n"
          ],
          "name": "stderr"
        },
        {
          "output_type": "stream",
          "text": [
            "[-201. -268. -196. -132. -205. -202. -203. -220. -319. -268. -230. -294.\n",
            " -234. -234. -266. -223. -205. -207. -311. -241. -179. -283. -210. -195.\n",
            " -274. -193. -197. -199. -254. -197. -195. -268. -313. -201. -202. -231.\n",
            " -247. -207. -199. -230. -254. -167. -165. -321. -286. -268. -164. -231.\n",
            " -212. -134. -164. -242. -261. -269. -258. -239. -270. -227. -155. -191.\n",
            " -188. -230. -222. -195. -258. -160. -277. -202. -234. -316. -135. -234.\n",
            " -419. -162. -200. -239. -242. -205. -194. -261. -161. -210. -125. -241.\n",
            " -274. -177. -239. -211. -199. -192. -262. -338. -183. -251. -222. -143.\n",
            " -169. -303. -200. -200. -232. -212. -330. -230. -290. -213. -286. -182.\n",
            " -193. -205. -345. -243. -270. -258. -195. -264. -193. -194. -203. -219.\n",
            " -233. -159. -128. -192. -255. -197. -302. -160. -239. -241. -196. -191.\n",
            " -323. -200. -259. -289. -248. -251. -407. -208. -279. -242. -203. -233.\n",
            " -197. -244. -196. -181. -256. -191. -280. -204. -208. -338. -263. -199.\n",
            " -235. -273. -245. -265. -167. -164. -160. -268. -260. -237. -229. -237.\n",
            " -233. -215. -198. -239. -194. -210. -265. -163. -212. -211. -282. -208.\n",
            " -152. -201. -162. -197. -173. -127. -242. -203. -272. -322. -168. -202.\n",
            " -345. -293. -234. -236. -199. -283. -203. -218. -196. -203. -244. -233.\n",
            " -202. -304. -325. -203. -234. -237. -206. -195. -271. -196. -235. -322.\n",
            " -196. -271. -192. -189. -270. -204. -174. -256. -336. -195. -205. -275.\n",
            " -207. -256. -355. -198. -345. -175. -262. -235. -206. -204. -216. -201.\n",
            " -172. -205. -197. -236. -158. -160. -222. -161. -236. -180.]\n",
            "22\n"
          ],
          "name": "stdout"
        },
        {
          "output_type": "stream",
          "text": [
            "/usr/local/lib/python3.7/dist-packages/ipykernel_launcher.py:53: VisibleDeprecationWarning: Creating an ndarray from ragged nested sequences (which is a list-or-tuple of lists-or-tuples-or ndarrays with different lengths or shapes) is deprecated. If you meant to do this, you must specify 'dtype=object' when creating the ndarray\n"
          ],
          "name": "stderr"
        },
        {
          "output_type": "stream",
          "text": [
            "[-240. -252. -216. -229. -206. -352. -233. -247. -245. -203. -315. -245.\n",
            " -242. -197. -123. -201. -196. -253. -207. -173. -186. -228. -204. -251.\n",
            " -209. -218. -237. -206. -258. -224. -200. -213. -168. -248. -233. -368.\n",
            " -170. -241. -318. -207. -208. -198. -267. -248. -195. -276. -196. -203.\n",
            " -213. -246. -256. -161. -164. -239. -278. -201. -171. -194. -221. -291.\n",
            " -284. -210. -224. -192. -154. -466. -202. -243. -128. -258. -209. -278.\n",
            " -248. -217. -228. -204. -258. -358. -236. -225. -232. -322. -288. -236.\n",
            " -196. -196. -189. -214. -196. -281. -211. -196. -159. -303. -235. -160.\n",
            " -189. -190. -195. -229. -198. -197. -237. -128. -157. -220. -271. -198.\n",
            " -195. -211. -224. -190. -195. -255. -272. -192. -223. -273. -203. -229.\n",
            " -198. -200. -153. -271. -189. -229. -208. -146. -220. -294. -173. -261.\n",
            " -202. -169. -231. -332. -239. -206. -168. -167. -252. -282. -232. -194.\n",
            " -234. -167. -141. -215. -254. -214. -173. -264. -204. -198. -200. -204.\n",
            " -163. -193. -210. -315. -295. -231. -290. -209. -208. -337. -230. -227.\n",
            " -192. -167. -238. -201. -165. -271. -244. -192. -274. -286. -266. -255.\n",
            " -194. -265. -205. -236. -165. -232. -210. -233. -274. -129. -203. -172.\n",
            " -235. -216. -202. -213. -133. -226. -246. -197. -165. -225. -200. -140.\n",
            " -201. -337. -160. -225. -185. -132. -206. -159. -197. -191. -222. -203.\n",
            " -270. -298. -206. -213. -198. -143. -126. -243. -196. -267. -190. -195.\n",
            " -207. -205. -223. -143. -337. -222. -220. -283. -198. -161. -196. -233.\n",
            " -210. -239. -208. -320. -198. -205. -318. -268. -229. -264.]\n",
            "23\n"
          ],
          "name": "stdout"
        },
        {
          "output_type": "stream",
          "text": [
            "/usr/local/lib/python3.7/dist-packages/ipykernel_launcher.py:53: VisibleDeprecationWarning: Creating an ndarray from ragged nested sequences (which is a list-or-tuple of lists-or-tuples-or ndarrays with different lengths or shapes) is deprecated. If you meant to do this, you must specify 'dtype=object' when creating the ndarray\n"
          ],
          "name": "stderr"
        },
        {
          "output_type": "stream",
          "text": [
            "[-212. -247. -206. -164. -175. -198. -194. -222. -226. -192. -194. -155.\n",
            " -170. -272. -230. -198. -370. -249. -195. -206. -205. -127. -191. -214.\n",
            " -265. -205. -166. -199. -228. -189. -238. -170. -165. -196. -227. -197.\n",
            " -157. -231. -156. -210. -214. -129. -123. -158. -164. -169. -279. -129.\n",
            " -249. -199. -211. -197. -318. -168. -172. -199. -196. -249. -210. -206.\n",
            " -216. -158. -254. -253. -184. -197. -199. -205. -221. -146. -124. -237.\n",
            " -231. -226. -215. -279. -196. -233. -162. -210. -189. -336. -201. -246.\n",
            " -204. -206. -137. -126. -161. -210. -278. -371. -209. -189. -189. -252.\n",
            " -159. -213. -237. -286. -185. -203. -200. -278. -192. -211. -214. -214.\n",
            " -202. -229. -206. -207. -196. -305. -195. -296. -195. -202. -231. -163.\n",
            " -189. -226. -236. -200. -231. -204. -247. -247. -223. -169. -215. -160.\n",
            " -166. -161. -161. -159. -184. -157. -211. -163. -197. -209. -240. -212.\n",
            " -199. -215. -196. -160. -129. -301. -226. -169. -197. -225. -197. -206.\n",
            " -295. -197. -158. -132. -160. -335. -215. -165. -199. -192. -157. -186.\n",
            " -297. -166. -197. -302. -279. -204. -156. -170. -211. -153. -195. -194.\n",
            " -235. -156. -184. -205. -177. -205. -202. -165. -215. -228. -202. -209.\n",
            " -190. -154. -218. -225. -263. -280. -198. -256. -166. -290. -190. -210.\n",
            " -219. -283. -227. -193. -196. -201. -294. -184. -197. -223. -203. -162.\n",
            " -192. -204. -146. -282. -203. -280. -223. -181. -170. -196. -183. -216.\n",
            " -218. -195. -193. -198. -229. -151. -199. -260. -241. -238. -260. -143.\n",
            " -174. -188. -215. -195. -185. -122. -165. -193. -148. -192.]\n",
            "24\n"
          ],
          "name": "stdout"
        },
        {
          "output_type": "stream",
          "text": [
            "/usr/local/lib/python3.7/dist-packages/ipykernel_launcher.py:53: VisibleDeprecationWarning: Creating an ndarray from ragged nested sequences (which is a list-or-tuple of lists-or-tuples-or ndarrays with different lengths or shapes) is deprecated. If you meant to do this, you must specify 'dtype=object' when creating the ndarray\n"
          ],
          "name": "stderr"
        },
        {
          "output_type": "stream",
          "text": [
            "[-208. -237. -224. -240. -267. -237. -335. -234. -172. -228. -250. -203.\n",
            " -199. -120. -211. -195. -162. -262. -201. -254. -210. -182. -200. -162.\n",
            " -236. -193. -169. -197. -195. -313. -191. -225. -189. -250. -230. -260.\n",
            " -292. -193. -151. -199. -164. -208. -165. -200. -259. -161. -189. -124.\n",
            " -258. -244. -195. -134. -254. -195. -204. -157. -229. -147. -243. -197.\n",
            " -215. -207. -175. -217. -339. -202. -157. -230. -207. -188. -199. -195.\n",
            " -264. -243. -140. -195. -264. -283. -205. -196. -165. -171. -228. -156.\n",
            " -160. -210. -183. -211. -227. -199. -182. -206. -213. -203. -252. -202.\n",
            " -202. -207. -174. -192. -185. -193. -208. -208. -195. -225. -208. -204.\n",
            " -191. -153. -162. -247. -213. -189. -154. -222. -275. -315. -203. -243.\n",
            " -247. -124. -201. -236. -195. -247. -159. -197. -221. -191. -252. -242.\n",
            " -218. -253. -246. -326. -225. -191. -237. -227. -183. -191. -274. -255.\n",
            " -162. -158. -222. -244. -244. -195. -172. -317. -130. -205. -258. -161.\n",
            " -212. -205. -205. -193. -228. -182. -173. -162. -125. -296. -181. -201.\n",
            " -214. -155. -256. -150. -232. -272. -262. -156. -169. -342. -200. -165.\n",
            " -198. -184. -191. -201. -160. -192. -156. -282. -209. -192. -213. -197.\n",
            " -188. -179. -199. -299. -245. -129. -165. -250. -251. -161. -181. -159.\n",
            " -269. -167. -190. -156. -283. -294. -166. -252. -134. -368. -210. -252.\n",
            " -218. -249. -250. -176. -207. -215. -220. -221. -122. -141. -143. -173.\n",
            " -189. -190. -244. -170. -198. -290. -237. -226. -191. -212. -186. -253.\n",
            " -266. -231. -124. -199. -165. -175. -238. -172. -176. -219.]\n",
            "25\n"
          ],
          "name": "stdout"
        },
        {
          "output_type": "stream",
          "text": [
            "/usr/local/lib/python3.7/dist-packages/ipykernel_launcher.py:53: VisibleDeprecationWarning: Creating an ndarray from ragged nested sequences (which is a list-or-tuple of lists-or-tuples-or ndarrays with different lengths or shapes) is deprecated. If you meant to do this, you must specify 'dtype=object' when creating the ndarray\n"
          ],
          "name": "stderr"
        },
        {
          "output_type": "stream",
          "text": [
            "[-203. -191. -224. -164. -203. -204. -225. -231. -262. -198. -166. -191.\n",
            " -191. -259. -166. -190. -227. -199. -165. -195. -188. -189. -159. -126.\n",
            " -196. -217. -195. -198. -174. -196. -208. -242. -196. -221. -205. -139.\n",
            " -192. -213. -234. -155. -217. -233. -233. -135. -226. -181. -259. -260.\n",
            " -323. -203. -198. -220. -228. -230. -228. -289. -248. -238. -199. -200.\n",
            " -194. -162. -165. -158. -128. -223. -283. -218. -128. -167. -240. -168.\n",
            " -202. -140. -209. -195. -237. -175. -270. -205. -261. -193. -199. -203.\n",
            " -128. -205. -196. -162. -173. -237. -241. -207. -137. -192. -194. -241.\n",
            " -283. -185. -241. -197. -210. -248. -212. -267. -174. -212. -241. -189.\n",
            " -262. -207. -204. -187. -250. -130. -139. -206. -125. -212. -197. -183.\n",
            " -186. -188. -208. -196. -180. -202. -206. -227. -211. -236. -193. -290.\n",
            " -183. -201. -243. -231. -266. -287. -128. -162. -242. -215. -147. -250.\n",
            " -155. -194. -243. -201. -165. -199. -141. -195. -253. -209. -131. -199.\n",
            " -151. -195. -290. -131. -206. -304. -223. -187. -261. -122. -227. -193.\n",
            " -204. -218. -198. -267. -302. -301. -161. -209. -199. -197. -241. -188.\n",
            " -205. -200. -195. -204. -132. -169. -193. -233. -209. -192. -196. -189.\n",
            " -239. -215. -200. -194. -283. -217. -250. -201. -148. -199. -173. -190.\n",
            " -124. -191. -131. -165. -265. -205. -128. -123. -222. -228. -210. -238.\n",
            " -212. -288. -225. -206. -166. -157. -339. -216. -215. -184. -197. -199.\n",
            " -197. -194. -195. -155. -126. -258. -186. -165. -223. -202. -203. -121.\n",
            " -275. -249. -186. -205. -125. -203. -281. -204. -244. -153.]\n",
            "26\n"
          ],
          "name": "stdout"
        },
        {
          "output_type": "stream",
          "text": [
            "/usr/local/lib/python3.7/dist-packages/ipykernel_launcher.py:53: VisibleDeprecationWarning: Creating an ndarray from ragged nested sequences (which is a list-or-tuple of lists-or-tuples-or ndarrays with different lengths or shapes) is deprecated. If you meant to do this, you must specify 'dtype=object' when creating the ndarray\n"
          ],
          "name": "stderr"
        },
        {
          "output_type": "stream",
          "text": [
            "[-161. -171. -211. -197. -202. -150. -159. -174. -193. -176. -206. -122.\n",
            " -196. -131. -157. -246. -197. -234. -133. -204. -226. -202. -128. -136.\n",
            " -128. -160. -247. -129. -174. -217. -122. -202. -258. -235. -247. -204.\n",
            " -257. -159. -202. -128. -208. -325. -137. -203. -288. -198. -131. -240.\n",
            " -127. -159. -246. -166. -126. -241. -304. -126. -192. -169. -129. -305.\n",
            " -187. -295. -246. -198. -241. -219. -185. -188. -215. -122. -169. -155.\n",
            " -199. -161. -167. -227. -180. -163. -198. -132. -210. -247. -192. -119.\n",
            " -232. -170. -242. -144. -166. -256. -189. -204. -210. -245. -201. -125.\n",
            " -215. -224. -222. -196. -199. -196. -128. -261. -211. -160. -163. -219.\n",
            " -268. -235. -223. -229. -190. -189. -175. -171. -197. -251. -202. -199.\n",
            " -228. -267. -131. -225. -198. -289. -160. -270. -228. -125. -202. -184.\n",
            " -191. -143. -169. -242. -198. -155. -202. -193. -167. -216. -197. -195.\n",
            " -167. -216. -128. -138. -276. -190. -127. -121. -218. -241. -193. -187.\n",
            " -184. -127. -247. -236. -214. -197. -156. -226. -172. -205. -202. -203.\n",
            " -203. -230. -171. -128. -159. -235. -185. -163. -128. -127. -128. -223.\n",
            " -198. -191. -225. -295. -219. -231. -210. -223. -188. -141. -177. -121.\n",
            " -205. -195. -212. -190. -256. -171. -189. -200. -260. -205. -205. -129.\n",
            " -140. -132. -189. -210. -133. -198. -162. -170. -200. -224. -123. -311.\n",
            " -125. -208. -258. -202. -200. -228. -212. -202. -218. -150. -212. -201.\n",
            " -200. -278. -127. -265. -245. -165. -258. -200. -128. -201. -207. -286.\n",
            " -119. -204. -161. -201. -208. -183. -190. -156. -211. -142.]\n",
            "27\n"
          ],
          "name": "stdout"
        },
        {
          "output_type": "stream",
          "text": [
            "/usr/local/lib/python3.7/dist-packages/ipykernel_launcher.py:53: VisibleDeprecationWarning: Creating an ndarray from ragged nested sequences (which is a list-or-tuple of lists-or-tuples-or ndarrays with different lengths or shapes) is deprecated. If you meant to do this, you must specify 'dtype=object' when creating the ndarray\n"
          ],
          "name": "stderr"
        },
        {
          "output_type": "stream",
          "text": [
            "[-216. -209. -241. -207. -206. -202. -201. -201. -185. -220. -200. -215.\n",
            " -206. -199. -206. -214. -172. -124. -207. -223. -201. -230. -159. -180.\n",
            " -136. -273. -210. -166. -274. -212. -158. -234. -252. -136. -198. -162.\n",
            " -189. -196. -135. -201. -161. -207. -185. -206. -168. -182. -195. -156.\n",
            " -164. -126. -245. -125. -215. -196. -168. -213. -189. -134. -162. -283.\n",
            " -182. -123. -304. -200. -198. -181. -138. -201. -217. -126. -150. -200.\n",
            " -279. -211. -216. -162. -232. -119. -189. -200. -198. -198. -210. -121.\n",
            " -120. -373. -138. -186. -198. -123. -188. -276. -200. -212. -198. -196.\n",
            " -156. -238. -191. -157. -189. -213. -158. -192. -193. -190. -144. -130.\n",
            " -243. -124. -198. -186. -242. -123. -192. -201. -200. -201. -196. -126.\n",
            " -220. -261. -189. -230. -200. -189. -190. -202. -301. -157. -162. -155.\n",
            " -197. -159. -190. -329. -208. -231. -193. -193. -252. -198. -209. -223.\n",
            " -126. -217. -154. -233. -205. -273. -249. -124. -197. -237. -160. -188.\n",
            " -153. -160. -199. -204. -186. -216. -165. -240. -166. -187. -124. -195.\n",
            " -212. -207. -123. -137. -178. -201. -219. -215. -159. -197. -245. -198.\n",
            " -211. -222. -295. -245. -200. -263. -196. -122. -193. -167. -200. -192.\n",
            " -157. -233. -156. -212. -309. -123. -199. -194. -123. -201. -214. -208.\n",
            " -139. -203. -217. -139. -121. -203. -160. -190. -198. -217. -161. -216.\n",
            " -161. -199. -203. -206. -137. -146. -201. -251. -132. -229. -208. -194.\n",
            " -241. -217. -124. -194. -196. -222. -188. -194. -122. -206. -188. -268.\n",
            " -166. -226. -131. -158. -185. -282. -193. -136. -189. -130.]\n",
            "28\n"
          ],
          "name": "stdout"
        },
        {
          "output_type": "stream",
          "text": [
            "/usr/local/lib/python3.7/dist-packages/ipykernel_launcher.py:53: VisibleDeprecationWarning: Creating an ndarray from ragged nested sequences (which is a list-or-tuple of lists-or-tuples-or ndarrays with different lengths or shapes) is deprecated. If you meant to do this, you must specify 'dtype=object' when creating the ndarray\n"
          ],
          "name": "stderr"
        },
        {
          "output_type": "stream",
          "text": [
            "[-265. -177. -195. -199. -159. -145. -205. -151. -162. -163. -168. -257.\n",
            " -129. -193. -279. -191. -193. -125. -207. -211. -223. -200. -206. -161.\n",
            " -209. -127. -195. -173. -175. -199. -187. -206. -195. -164. -191. -165.\n",
            " -134. -192. -197. -126. -219. -164. -158. -253. -160. -126. -227. -126.\n",
            " -191. -238. -184. -153. -189. -193. -199. -364. -210. -249. -178. -234.\n",
            " -196. -224. -200. -195. -157. -162. -125. -130. -167. -212. -288. -232.\n",
            " -144. -124. -135. -159. -173. -154. -156. -187. -167. -218. -124. -191.\n",
            " -156. -324. -167. -123. -171. -196. -145. -249. -147. -268. -205. -125.\n",
            " -136. -176. -240. -152. -175. -162. -190. -200. -125. -128. -125. -212.\n",
            " -194. -193. -172. -129. -171. -155. -155. -204. -186. -148. -174. -207.\n",
            " -203. -180. -198. -169. -173. -157. -163. -183. -266. -157. -156. -133.\n",
            " -195. -182. -194. -149. -252. -275. -219. -179. -130. -169. -189. -168.\n",
            " -204. -136. -126. -158. -189. -144. -156. -242. -174. -199. -214. -172.\n",
            " -223. -220. -240. -150. -194. -157. -205. -129. -134. -215. -240. -190.\n",
            " -139. -278. -162. -190. -277. -125. -165. -152. -163. -124. -204. -164.\n",
            " -155. -160. -124. -163. -167. -205. -126. -158. -173. -127. -193. -253.\n",
            " -202. -122. -138. -235. -172. -125. -217. -131. -219. -127. -156. -169.\n",
            " -128. -247. -171. -198. -190. -157. -165. -127. -190. -133. -137. -186.\n",
            " -156. -196. -198. -191. -173. -130. -218. -126. -200. -126. -160. -237.\n",
            " -194. -176. -131. -198. -128. -187. -175. -188. -207. -291. -167. -214.\n",
            " -132. -143. -257. -211. -130. -201. -215. -147. -119. -132.]\n",
            "29\n"
          ],
          "name": "stdout"
        },
        {
          "output_type": "stream",
          "text": [
            "/usr/local/lib/python3.7/dist-packages/ipykernel_launcher.py:53: VisibleDeprecationWarning: Creating an ndarray from ragged nested sequences (which is a list-or-tuple of lists-or-tuples-or ndarrays with different lengths or shapes) is deprecated. If you meant to do this, you must specify 'dtype=object' when creating the ndarray\n"
          ],
          "name": "stderr"
        },
        {
          "output_type": "stream",
          "text": [
            "[-141. -195. -188. -166. -196. -220. -234. -127. -126. -123. -142. -213.\n",
            " -205. -232. -208. -135. -204. -208. -284. -123. -122. -249. -225. -119.\n",
            " -238. -178. -202. -219. -133. -237. -242. -229. -245. -165. -160. -128.\n",
            " -274. -155. -204. -228. -219. -219. -263. -228. -215. -257. -122. -207.\n",
            " -220. -165. -181. -125. -197. -153. -218. -262. -209. -197. -156. -122.\n",
            " -280. -193. -201. -236. -149. -288. -123. -125. -135. -186. -220. -224.\n",
            " -213. -240. -236. -232. -244. -211. -243. -128. -202. -203. -190. -238.\n",
            " -197. -194. -125. -201. -217. -192. -234. -198. -127. -274. -135. -213.\n",
            " -195. -248. -128. -232. -123. -179. -261. -120. -203. -153. -210. -184.\n",
            " -186. -127. -202. -190. -203. -170. -169. -217. -205. -215. -224. -151.\n",
            " -186. -209. -208. -123. -208. -195. -221. -139. -127. -124. -139. -202.\n",
            " -151. -291. -194. -125. -186. -289. -192. -162. -151. -205. -206. -164.\n",
            " -198. -241. -123. -196. -121. -238. -200. -214. -196. -182. -266. -125.\n",
            " -211. -194. -156. -214. -213. -155. -203. -151. -191. -179. -126. -124.\n",
            " -234. -121. -207. -185. -156. -184. -191. -174. -168. -210. -220. -121.\n",
            " -208. -248. -154. -214. -202. -219. -126. -123. -199. -237. -416. -185.\n",
            " -184. -203. -164. -184. -127. -212. -227. -127. -195. -209. -170. -129.\n",
            " -193. -234. -129. -205. -200. -192. -189. -214. -148. -223. -202. -195.\n",
            " -154. -206. -122. -194. -232. -205. -227. -151. -189. -216. -235. -122.\n",
            " -133. -216. -281. -213. -178. -199. -119. -195. -159. -251. -210. -127.\n",
            " -118. -195. -125. -208. -218. -196. -204. -121. -156. -243.]\n",
            "30\n"
          ],
          "name": "stdout"
        },
        {
          "output_type": "stream",
          "text": [
            "/usr/local/lib/python3.7/dist-packages/ipykernel_launcher.py:53: VisibleDeprecationWarning: Creating an ndarray from ragged nested sequences (which is a list-or-tuple of lists-or-tuples-or ndarrays with different lengths or shapes) is deprecated. If you meant to do this, you must specify 'dtype=object' when creating the ndarray\n"
          ],
          "name": "stderr"
        },
        {
          "output_type": "stream",
          "text": [
            "[-207. -192. -199. -125. -208. -120. -159. -188. -132. -195. -120. -126.\n",
            " -151. -183. -122. -133. -226. -153. -129. -135. -189. -230. -148. -142.\n",
            " -160. -128. -237. -207. -194. -119. -201. -195. -157. -198. -121. -198.\n",
            " -145. -127. -120. -129. -191. -194. -126. -130. -261. -195. -149. -220.\n",
            " -193. -232. -158. -184. -231. -122. -199. -205. -125. -269. -133. -308.\n",
            " -203. -200. -156. -156. -132. -145. -169. -128. -202. -162. -242. -122.\n",
            " -206. -206. -167. -150. -246. -252. -187. -131. -200. -128. -136. -234.\n",
            " -191. -129. -208. -125. -126. -191. -122. -197. -120. -212. -127. -197.\n",
            " -224. -122. -125. -199. -249. -216. -188. -156. -252. -204. -145. -206.\n",
            " -137. -204. -123. -125. -316. -139. -137. -127. -217. -170. -168. -170.\n",
            " -218. -240. -188. -152. -129. -126. -124. -149. -123. -244. -162. -203.\n",
            " -158. -138. -188. -175. -180. -124. -244. -206. -121. -131. -184. -125.\n",
            " -158. -232. -152. -195. -119. -131. -256. -124. -199. -204. -130. -153.\n",
            " -152. -198. -231. -187. -266. -189. -136. -179. -199. -205. -158. -200.\n",
            " -288. -184. -202. -122. -163. -119. -159. -188. -199. -217. -216. -202.\n",
            " -135. -159. -136. -160. -179. -207. -125. -187. -232. -130. -120. -168.\n",
            " -237. -271. -183. -219. -166. -239. -158. -139. -138. -219. -130. -132.\n",
            " -120. -120. -193. -129. -235. -173. -200. -215. -207. -132. -123. -120.\n",
            " -226. -236. -123. -249. -269. -206. -177. -195. -121. -124. -231. -122.\n",
            " -121. -141. -166. -205. -143. -154. -123. -236. -230. -187. -188. -143.\n",
            " -165. -147. -122. -125. -224. -169. -215. -212. -126. -128.]\n",
            "31\n"
          ],
          "name": "stdout"
        },
        {
          "output_type": "stream",
          "text": [
            "/usr/local/lib/python3.7/dist-packages/ipykernel_launcher.py:53: VisibleDeprecationWarning: Creating an ndarray from ragged nested sequences (which is a list-or-tuple of lists-or-tuples-or ndarrays with different lengths or shapes) is deprecated. If you meant to do this, you must specify 'dtype=object' when creating the ndarray\n"
          ],
          "name": "stderr"
        },
        {
          "output_type": "stream",
          "text": [
            "[-185. -124. -167. -120. -220. -220. -208. -124. -190. -216. -137. -126.\n",
            " -195. -190. -153. -124. -122. -131. -130. -132. -164. -200. -231. -168.\n",
            " -246. -207. -128. -125. -195. -118. -186. -197. -149. -192. -264. -202.\n",
            " -314. -123. -155. -154. -228. -117. -118. -150. -154. -145. -120. -192.\n",
            " -158. -188. -157. -134. -207. -150. -241. -201. -197. -209. -224. -138.\n",
            " -264. -227. -200. -129. -124. -211. -128. -220. -208. -136. -177. -228.\n",
            " -201. -228. -128. -127. -218. -188. -125. -198. -121. -125. -125. -125.\n",
            " -199. -241. -126. -143. -283. -121. -210. -126. -197. -166. -167. -126.\n",
            " -220. -202. -127. -140. -319. -211. -183. -150. -200. -126. -216. -179.\n",
            " -136. -248. -126. -122. -201. -197. -134. -185. -125. -261. -195. -124.\n",
            " -165. -129. -183. -123. -130. -139. -222. -205. -122. -176. -123. -204.\n",
            " -236. -192. -141. -123. -167. -193. -163. -241. -196. -195. -125. -247.\n",
            " -124. -218. -122. -185. -163. -273. -212. -135. -225. -195. -119. -176.\n",
            " -121. -280. -127. -121. -201. -157. -195. -190. -249. -204. -238. -159.\n",
            " -125. -153. -126. -203. -120. -162. -213. -213. -127. -199. -125. -120.\n",
            " -239. -152. -191. -205. -120. -223. -225. -208. -157. -131. -236. -220.\n",
            " -182. -216. -214. -202. -176. -123. -192. -242. -208. -195. -121. -161.\n",
            " -125. -199. -212. -195. -246. -187. -153. -191. -141. -191. -150. -209.\n",
            " -149. -237. -242. -192. -123. -150. -203. -191. -147. -168. -222. -134.\n",
            " -228. -160. -200. -158. -160. -190. -196. -193. -196. -158. -157. -299.\n",
            " -188. -206. -122. -167. -121. -197. -192. -215. -208. -158.]\n",
            "32\n"
          ],
          "name": "stdout"
        },
        {
          "output_type": "stream",
          "text": [
            "/usr/local/lib/python3.7/dist-packages/ipykernel_launcher.py:53: VisibleDeprecationWarning: Creating an ndarray from ragged nested sequences (which is a list-or-tuple of lists-or-tuples-or ndarrays with different lengths or shapes) is deprecated. If you meant to do this, you must specify 'dtype=object' when creating the ndarray\n"
          ],
          "name": "stderr"
        },
        {
          "output_type": "stream",
          "text": [
            "[-222. -213. -262. -149. -122. -172. -124. -198. -284. -228. -185. -212.\n",
            " -125. -184. -190. -117. -185. -210. -136. -191. -197. -123. -126. -168.\n",
            " -126. -173. -162. -234. -206. -131. -210. -179. -166. -207. -127. -189.\n",
            " -197. -124. -178. -176. -157. -162. -133. -134. -132. -222. -129. -181.\n",
            " -201. -168. -121. -114. -123. -167. -223. -225. -125. -122. -218. -131.\n",
            " -126. -126. -247. -153. -206. -195. -284. -200. -135. -196. -122. -122.\n",
            " -189. -214. -264. -124. -193. -190. -266. -211. -123. -192. -125. -125.\n",
            " -267. -158. -183. -209. -127. -207. -176. -166. -183. -207. -208. -204.\n",
            " -127. -201. -120. -189. -125. -128. -124. -130. -165. -204. -192. -180.\n",
            " -122. -117. -156. -124. -170. -206. -121. -220. -121. -174. -119. -123.\n",
            " -220. -227. -173. -174. -186. -217. -123. -213. -124. -191. -210. -192.\n",
            " -163. -163. -153. -176. -134. -122. -120. -123. -158. -198. -164. -149.\n",
            " -158. -192. -181. -121. -195. -134. -191. -198. -125. -163. -124. -196.\n",
            " -212. -261. -240. -175. -188. -116. -154. -122. -185. -123. -164. -182.\n",
            " -208. -195. -162. -179. -186. -165. -126. -154. -141. -187. -121. -167.\n",
            " -206. -209. -128. -170. -157. -124. -220. -132. -163. -125. -164. -133.\n",
            " -196. -252. -124. -169. -117. -257. -173. -128. -119. -162. -119. -129.\n",
            " -131. -121. -192. -126. -122. -127. -209. -166. -196. -126. -191. -152.\n",
            " -207. -123. -211. -153. -130. -185. -125. -149. -227. -183. -125. -186.\n",
            " -213. -126. -158. -121. -176. -187. -163. -191. -200. -181. -158. -139.\n",
            " -193. -122. -190. -122. -115. -192. -122. -126. -208. -188.]\n",
            "33\n"
          ],
          "name": "stdout"
        },
        {
          "output_type": "stream",
          "text": [
            "/usr/local/lib/python3.7/dist-packages/ipykernel_launcher.py:53: VisibleDeprecationWarning: Creating an ndarray from ragged nested sequences (which is a list-or-tuple of lists-or-tuples-or ndarrays with different lengths or shapes) is deprecated. If you meant to do this, you must specify 'dtype=object' when creating the ndarray\n"
          ],
          "name": "stderr"
        },
        {
          "output_type": "stream",
          "text": [
            "[-122. -187. -159. -141. -124. -193. -124. -309. -212. -125. -150. -179.\n",
            " -144. -125. -201. -201. -268. -191. -331. -199. -163. -157. -127. -123.\n",
            " -205. -226. -256. -242. -196. -166. -230. -174. -128. -161. -191. -124.\n",
            " -252. -170. -236. -137. -189. -232. -128. -207. -207. -135. -175. -189.\n",
            " -193. -189. -125. -131. -130. -163. -157. -137. -155. -211. -117. -153.\n",
            " -157. -131. -123. -181. -185. -220. -225. -136. -225. -128. -225. -152.\n",
            " -193. -188. -153. -196. -132. -190. -206. -235. -132. -198. -218. -207.\n",
            " -161. -157. -193. -175. -123. -134. -213. -231. -120. -128. -194. -158.\n",
            " -202. -193. -185. -251. -226. -134. -114. -119. -200. -156. -190. -178.\n",
            " -167. -135. -125. -119. -199. -217. -145. -125. -120. -227. -120. -213.\n",
            " -156. -198. -149. -200. -220. -206. -201. -184. -158. -157. -169. -154.\n",
            " -201. -157. -197. -223. -124. -208. -164. -214. -157. -122. -121. -209.\n",
            " -241. -157. -131. -152. -123. -201. -190. -213. -123. -161. -238. -161.\n",
            " -264. -174. -195. -289. -123. -181. -129. -186. -174. -187. -124. -198.\n",
            " -187. -122. -188. -222. -165. -127. -120. -189. -198. -176. -121. -127.\n",
            " -211. -122. -119. -309. -147. -193. -181. -157. -120. -123. -193. -121.\n",
            " -120. -123. -202. -178. -217. -140. -231. -178. -168. -149. -201. -153.\n",
            " -200. -121. -195. -162. -205. -123. -156. -122. -215. -129. -118. -151.\n",
            " -197. -201. -124. -125. -201. -194. -183. -186. -165. -249. -143. -363.\n",
            " -128. -209. -163. -156. -209. -238. -122. -123. -175. -171. -158. -199.\n",
            " -161. -122. -212. -246. -141. -228. -121. -125. -130. -207.]\n",
            "34\n"
          ],
          "name": "stdout"
        },
        {
          "output_type": "stream",
          "text": [
            "/usr/local/lib/python3.7/dist-packages/ipykernel_launcher.py:53: VisibleDeprecationWarning: Creating an ndarray from ragged nested sequences (which is a list-or-tuple of lists-or-tuples-or ndarrays with different lengths or shapes) is deprecated. If you meant to do this, you must specify 'dtype=object' when creating the ndarray\n"
          ],
          "name": "stderr"
        },
        {
          "output_type": "stream",
          "text": [
            "[-143. -196. -313. -123. -119. -122. -206. -195. -122. -193. -125. -202.\n",
            " -121. -189. -123. -124. -188. -213. -133. -192. -188. -118. -132. -188.\n",
            " -240. -117. -203. -126. -225. -165. -230. -243. -225. -216. -161. -200.\n",
            " -123. -227. -231. -124. -119. -155. -209. -125. -213. -120. -121. -157.\n",
            " -125. -237. -196. -240. -128. -139. -133. -155. -198. -128. -164. -193.\n",
            " -179. -206. -155. -202. -123. -140. -162. -188. -138. -156. -178. -125.\n",
            " -155. -123. -126. -198. -159. -123. -124. -117. -120. -123. -153. -122.\n",
            " -122. -192. -164. -122. -212. -207. -234. -254. -119. -122. -118. -158.\n",
            " -201. -124. -188. -122. -207. -121. -118. -195. -120. -130. -124. -120.\n",
            " -146. -124. -159. -146. -119. -120. -205. -216. -191. -214. -131. -120.\n",
            " -134. -124. -169. -188. -123. -120. -122. -187. -119. -157. -123. -204.\n",
            " -136. -124. -127. -196. -199. -131. -181. -127. -181. -123. -118. -134.\n",
            " -316. -221. -130. -187. -132. -200. -196. -192. -167. -224. -129. -252.\n",
            " -346. -117. -127. -124. -196. -120. -192. -123. -207. -175. -178. -137.\n",
            " -213. -204. -123. -191. -178. -174. -151. -196. -206. -264. -123. -234.\n",
            " -192. -123. -189. -136. -195. -206. -133. -174. -122. -191. -123. -230.\n",
            " -133. -169. -194. -124. -204. -213. -124. -204. -199. -124. -200. -184.\n",
            " -131. -279. -117. -125. -118. -211. -205. -129. -209. -171. -126. -205.\n",
            " -126. -150. -188. -161. -225. -154. -138. -183. -123. -123. -156. -199.\n",
            " -205. -124. -184. -126. -123. -234. -177. -164. -199. -164. -121. -128.\n",
            " -117. -171. -244. -124. -153. -278. -189. -119. -185. -121.]\n",
            "35\n"
          ],
          "name": "stdout"
        },
        {
          "output_type": "stream",
          "text": [
            "/usr/local/lib/python3.7/dist-packages/ipykernel_launcher.py:53: VisibleDeprecationWarning: Creating an ndarray from ragged nested sequences (which is a list-or-tuple of lists-or-tuples-or ndarrays with different lengths or shapes) is deprecated. If you meant to do this, you must specify 'dtype=object' when creating the ndarray\n"
          ],
          "name": "stderr"
        },
        {
          "output_type": "stream",
          "text": [
            "[-184. -200. -269. -155. -169. -119. -123. -183. -190. -192. -120. -207.\n",
            " -121. -215. -122. -201. -247. -204. -121. -129. -230. -209. -191. -216.\n",
            " -203. -224. -208. -187. -152. -128. -185. -125. -191. -132. -196. -123.\n",
            " -262. -124. -125. -124. -231. -152. -167. -165. -175. -229. -124. -121.\n",
            " -131. -131. -126. -148. -216. -137. -179. -183. -195. -148. -160. -122.\n",
            " -136. -121. -200. -151. -123. -136. -122. -177. -169. -121. -126. -195.\n",
            " -119. -204. -224. -192. -126. -188. -140. -120. -159. -192. -245. -209.\n",
            " -261. -148. -165. -145. -126. -217. -195. -202. -207. -285. -189. -176.\n",
            " -124. -204. -129. -210. -119. -128. -158. -123. -130. -248. -148. -123.\n",
            " -173. -145. -116. -209. -138. -125. -227. -167. -117. -209. -123. -211.\n",
            " -152. -123. -200. -120. -200. -120. -166. -151. -157. -123. -124. -229.\n",
            " -115. -198. -194. -134. -155. -182. -190. -160. -205. -122. -256. -122.\n",
            " -132. -117. -175. -230. -178. -126. -153. -199. -175. -225. -122. -122.\n",
            " -119. -206. -123. -163. -193. -123. -174. -196. -216. -133. -188. -195.\n",
            " -119. -124. -127. -124. -121. -125. -117. -217. -198. -116. -188. -162.\n",
            " -119. -123. -179. -125. -131. -153. -154. -121. -131. -125. -120. -147.\n",
            " -119. -130. -121. -159. -166. -215. -184. -120. -192. -192. -196. -124.\n",
            " -168. -148. -160. -121. -177. -121. -120. -119. -159. -118. -218. -250.\n",
            " -187. -203. -211. -123. -196. -121. -213. -122. -154. -170. -190. -124.\n",
            " -195. -246. -128. -192. -241. -215. -190. -121. -189. -175. -243. -192.\n",
            " -212. -183. -123. -199. -192. -208. -121. -123. -136. -121.]\n",
            "36\n"
          ],
          "name": "stdout"
        },
        {
          "output_type": "stream",
          "text": [
            "/usr/local/lib/python3.7/dist-packages/ipykernel_launcher.py:53: VisibleDeprecationWarning: Creating an ndarray from ragged nested sequences (which is a list-or-tuple of lists-or-tuples-or ndarrays with different lengths or shapes) is deprecated. If you meant to do this, you must specify 'dtype=object' when creating the ndarray\n"
          ],
          "name": "stderr"
        },
        {
          "output_type": "stream",
          "text": [
            "[-121. -122. -155. -120. -173. -198. -169. -197. -128. -174. -191. -132.\n",
            " -121. -166. -323. -119. -174. -198. -118. -119. -128. -167. -154. -161.\n",
            " -121. -207. -118. -127. -123. -232. -117. -120. -199. -163. -125. -142.\n",
            " -166. -155. -165. -124. -121. -197. -122. -181. -120. -190. -143. -148.\n",
            " -117. -182. -120. -190. -188. -136. -191. -130. -120. -126. -212. -178.\n",
            " -242. -169. -121. -240. -158. -152. -158. -204. -115. -158. -146. -190.\n",
            " -158. -122. -117. -120. -222. -121. -148. -154. -192. -157. -123. -126.\n",
            " -154. -121. -120. -160. -119. -129. -160. -117. -125. -119. -169. -197.\n",
            " -197. -166. -149. -121. -121. -279. -120. -129. -172. -130. -142. -154.\n",
            " -120. -138. -122. -152. -163. -120. -120. -190. -153. -140. -116. -121.\n",
            " -192. -238. -156. -152. -139. -185. -128. -158. -232. -195. -171. -185.\n",
            " -141. -199. -137. -220. -208. -137. -127. -129. -120. -166. -124. -161.\n",
            " -188. -121. -151. -214. -253. -201. -174. -203. -196. -234. -196. -214.\n",
            " -183. -185. -191. -128. -131. -119. -126. -118. -129. -184. -123. -120.\n",
            " -119. -124. -123. -164. -150. -163. -187. -119. -147. -200. -120. -120.\n",
            " -201. -228. -186. -210. -207. -122. -187. -129. -194. -180. -153. -196.\n",
            " -128. -185. -151. -190. -189. -134. -119. -151. -120. -128. -211. -124.\n",
            " -201. -139. -120. -118. -139. -125. -185. -118. -153. -159. -128. -120.\n",
            " -131. -188. -169. -120. -121. -120. -126. -118. -130. -160. -120. -161.\n",
            " -188. -140. -118. -167. -153. -195. -122. -125. -116. -121. -122. -201.\n",
            " -189. -240. -126. -198. -121. -261. -217. -158. -204. -127.]\n",
            "37\n"
          ],
          "name": "stdout"
        },
        {
          "output_type": "stream",
          "text": [
            "/usr/local/lib/python3.7/dist-packages/ipykernel_launcher.py:53: VisibleDeprecationWarning: Creating an ndarray from ragged nested sequences (which is a list-or-tuple of lists-or-tuples-or ndarrays with different lengths or shapes) is deprecated. If you meant to do this, you must specify 'dtype=object' when creating the ndarray\n"
          ],
          "name": "stderr"
        },
        {
          "output_type": "stream",
          "text": [
            "[-169. -161. -155. -119. -207. -120. -122. -119. -118. -123. -119. -123.\n",
            " -128. -132. -187. -156. -197. -159. -152. -196. -152. -163. -196. -125.\n",
            " -123. -121. -143. -202. -241. -146. -125. -212. -189. -155. -120. -152.\n",
            " -125. -126. -143. -235. -150. -118. -124. -210. -114. -193. -120. -151.\n",
            " -131. -167. -130. -238. -118. -187. -120. -132. -191. -122. -126. -121.\n",
            " -175. -146. -186. -124. -152. -134. -150. -214. -124. -240. -180. -124.\n",
            " -131. -123. -130. -188. -134. -155. -133. -129. -118. -113. -218. -201.\n",
            " -124. -126. -210. -124. -223. -123. -201. -139. -123. -118. -186. -162.\n",
            " -159. -165. -152. -120. -122. -120. -209. -193. -150. -136. -185. -143.\n",
            " -116. -190. -169. -150. -122. -143. -146. -122. -178. -124. -159. -207.\n",
            " -229. -117. -161. -122. -182. -119. -132. -201. -120. -186. -121. -148.\n",
            " -209. -116. -120. -239. -153. -206. -118. -221. -173. -124. -156. -116.\n",
            " -118. -170. -210. -191. -207. -199. -181. -155. -124. -216. -192. -120.\n",
            " -234. -119. -197. -164. -121. -212. -190. -148. -121. -161. -185. -122.\n",
            " -122. -202. -166. -119. -314. -172. -208. -213. -150. -121. -122. -144.\n",
            " -197. -153. -199. -123. -187. -124. -144. -191. -126. -203. -119. -119.\n",
            " -127. -165. -209. -121. -197. -151. -159. -191. -157. -205. -125. -117.\n",
            " -181. -182. -159. -194. -200. -157. -125. -123. -127. -121. -129. -122.\n",
            " -133. -180. -125. -121. -201. -119. -217. -188. -121. -150. -156. -120.\n",
            " -123. -203. -160. -155. -150. -144. -218. -149. -121. -179. -129. -125.\n",
            " -126. -163. -126. -194. -151. -123. -141. -123. -123. -157.]\n",
            "38\n"
          ],
          "name": "stdout"
        },
        {
          "output_type": "stream",
          "text": [
            "/usr/local/lib/python3.7/dist-packages/ipykernel_launcher.py:53: VisibleDeprecationWarning: Creating an ndarray from ragged nested sequences (which is a list-or-tuple of lists-or-tuples-or ndarrays with different lengths or shapes) is deprecated. If you meant to do this, you must specify 'dtype=object' when creating the ndarray\n"
          ],
          "name": "stderr"
        },
        {
          "output_type": "stream",
          "text": [
            "[-159. -125. -153. -149. -168. -159. -120. -147. -181. -153. -173. -151.\n",
            " -164. -149. -203. -180. -169. -179. -127. -165. -153. -172. -243. -198.\n",
            " -118. -247. -138. -206. -164. -125. -113. -162. -118. -119. -118. -192.\n",
            " -191. -165. -123. -131. -123. -113. -160. -130. -173. -211. -167. -121.\n",
            " -130. -144. -117. -171. -152. -126. -172. -208. -152. -121. -124. -155.\n",
            " -142. -194. -150. -125. -153. -118. -162. -116. -213. -139. -121. -153.\n",
            " -162. -119. -124. -154. -236. -127. -126. -124. -157. -196. -116. -147.\n",
            " -123. -153. -193. -187. -207. -155. -177. -141. -136. -118. -128. -127.\n",
            " -122. -171. -121. -120. -166. -123. -161. -219. -197. -178. -126. -124.\n",
            " -118. -144. -123. -115. -256. -212. -204. -157. -173. -125. -188. -149.\n",
            " -213. -195. -115. -150. -121. -151. -192. -149. -123. -253. -119. -160.\n",
            " -179. -123. -129. -123. -168. -149. -115. -125. -153. -148. -200. -146.\n",
            " -199. -147. -122. -148. -150. -126. -157. -121. -141. -148. -212. -163.\n",
            " -153. -164. -116. -158. -201. -224. -119. -186. -120. -168. -156. -224.\n",
            " -120. -153. -190. -132. -206. -149. -117. -156. -145. -177. -126. -194.\n",
            " -216. -197. -198. -123. -187. -121. -195. -153. -190. -117. -119. -120.\n",
            " -144. -123. -120. -117. -171. -119. -124. -118. -217. -124. -119. -177.\n",
            " -118. -140. -161. -208. -133. -149. -125. -120. -171. -162. -228. -197.\n",
            " -124. -128. -117. -150. -134. -127. -124. -224. -176. -116. -123. -175.\n",
            " -122. -137. -183. -204. -150. -122. -241. -149. -128. -188. -153. -185.\n",
            " -118. -122. -170. -156. -119. -194. -116. -216. -123. -123.]\n",
            "39\n"
          ],
          "name": "stdout"
        },
        {
          "output_type": "stream",
          "text": [
            "/usr/local/lib/python3.7/dist-packages/ipykernel_launcher.py:53: VisibleDeprecationWarning: Creating an ndarray from ragged nested sequences (which is a list-or-tuple of lists-or-tuples-or ndarrays with different lengths or shapes) is deprecated. If you meant to do this, you must specify 'dtype=object' when creating the ndarray\n"
          ],
          "name": "stderr"
        },
        {
          "output_type": "stream",
          "text": [
            "[-163. -125. -118. -128. -120. -191. -122. -119. -173. -125. -146. -167.\n",
            " -123. -120. -166. -184. -120. -205. -161. -153. -151. -122. -163. -194.\n",
            " -118. -125. -147. -157. -181. -195. -157. -123. -116. -156. -168. -184.\n",
            " -145. -209. -237. -184. -214. -122. -195. -183. -157. -122. -156. -118.\n",
            " -191. -239. -126. -167. -212. -159. -185. -159. -124. -126. -189. -127.\n",
            " -153. -124. -191. -120. -209. -157. -122. -121. -122. -129. -160. -120.\n",
            " -126. -209. -201. -193. -118. -153. -119. -196. -196. -115. -198. -124.\n",
            " -163. -118. -152. -119. -124. -123. -164. -122. -178. -121. -124. -132.\n",
            " -185. -230. -198. -126. -187. -219. -187. -125. -152. -123. -191. -144.\n",
            " -119. -119. -121. -154. -151. -119. -121. -125. -199. -123. -158. -124.\n",
            " -176. -124. -192. -125. -126. -160. -185. -121. -189. -222. -117. -252.\n",
            " -150. -121. -118. -118. -203. -216. -194. -121. -179. -132. -151. -187.\n",
            " -156. -118. -127. -186. -186. -170. -186. -134. -127. -119. -122. -246.\n",
            " -176. -127. -166. -115. -187. -209. -203. -121. -116. -156. -185. -120.\n",
            " -178. -132. -118. -232. -122. -136. -131. -122. -161. -177. -117. -127.\n",
            " -124. -121. -220. -191. -179. -162. -187. -154. -166. -182. -150. -123.\n",
            " -191. -179. -137. -168. -146. -158. -117. -219. -181. -119. -120. -186.\n",
            " -155. -186. -118. -122. -123. -232. -120. -121. -114. -189. -114. -201.\n",
            " -116. -153. -122. -125. -127. -121. -132. -127. -124. -219. -128. -158.\n",
            " -180. -242. -122. -119. -152. -124. -118. -194. -117. -122. -147. -117.\n",
            " -191. -116. -159. -160. -153. -164. -114. -163. -198. -123.]\n",
            "40\n"
          ],
          "name": "stdout"
        },
        {
          "output_type": "stream",
          "text": [
            "/usr/local/lib/python3.7/dist-packages/ipykernel_launcher.py:53: VisibleDeprecationWarning: Creating an ndarray from ragged nested sequences (which is a list-or-tuple of lists-or-tuples-or ndarrays with different lengths or shapes) is deprecated. If you meant to do this, you must specify 'dtype=object' when creating the ndarray\n"
          ],
          "name": "stderr"
        },
        {
          "output_type": "stream",
          "text": [
            "[-120. -210. -170. -154. -239. -119. -198. -167. -118. -151. -136. -124.\n",
            " -122. -124. -190. -196. -170. -182. -156. -121. -148. -118. -160. -114.\n",
            " -157. -155. -207. -119. -142. -120. -177. -169. -187. -121. -117. -118.\n",
            " -180. -225. -180. -150. -125. -155. -202. -122. -149. -116. -143. -184.\n",
            " -125. -194. -189. -147. -120. -122. -123. -148. -208. -121. -176. -120.\n",
            " -146. -136. -126. -139. -193. -119. -198. -122. -116. -131. -158. -193.\n",
            " -160. -140. -149. -198. -123. -117. -135. -121. -203. -146. -150. -116.\n",
            " -209. -217. -193. -116. -153. -122. -123. -114. -153. -121. -175. -153.\n",
            " -162. -123. -155. -217. -163. -144. -137. -146. -117. -121. -147. -152.\n",
            " -123. -119. -147. -195. -249. -125. -119. -158. -196. -114. -178. -121.\n",
            " -190. -185. -127. -154. -118. -118. -125. -168. -121. -122. -164. -119.\n",
            " -148. -118. -148. -145. -182. -120. -122. -126. -156. -163. -153. -117.\n",
            " -215. -175. -146. -149. -120. -166. -151. -152. -120. -119. -134. -231.\n",
            " -122. -122. -154. -156. -187. -119. -193. -159. -144. -123. -165. -233.\n",
            " -169. -159. -231. -170. -215. -167. -167. -195. -170. -161. -161. -197.\n",
            " -196. -122. -182. -119. -120. -121. -124. -118. -131. -153. -125. -117.\n",
            " -124. -130. -168. -120. -178. -118. -118. -152. -211. -117. -122. -123.\n",
            " -119. -116. -205. -120. -155. -121. -121. -116. -118. -118. -184. -204.\n",
            " -117. -126. -155. -137. -122. -147. -157. -121. -156. -117. -117. -122.\n",
            " -157. -122. -151. -161. -127. -121. -163. -145. -140. -186. -160. -124.\n",
            " -125. -178. -119. -162. -123. -117. -121. -228. -159. -156.]\n",
            "41\n"
          ],
          "name": "stdout"
        },
        {
          "output_type": "stream",
          "text": [
            "/usr/local/lib/python3.7/dist-packages/ipykernel_launcher.py:53: VisibleDeprecationWarning: Creating an ndarray from ragged nested sequences (which is a list-or-tuple of lists-or-tuples-or ndarrays with different lengths or shapes) is deprecated. If you meant to do this, you must specify 'dtype=object' when creating the ndarray\n"
          ],
          "name": "stderr"
        },
        {
          "output_type": "stream",
          "text": [
            "[-153. -146. -119. -115. -188. -121. -155. -117. -117. -160. -121. -173.\n",
            " -171. -122. -114. -183. -126. -194. -178. -139. -151. -129. -192. -122.\n",
            " -185. -118. -232. -120. -121. -121. -134. -190. -193. -171. -117. -153.\n",
            " -167. -119. -157. -133. -174. -158. -218. -124. -210. -121. -121. -154.\n",
            " -151. -115. -120. -216. -141. -117. -125. -205. -177. -196. -138. -117.\n",
            " -152. -173. -117. -135. -128. -122. -119. -122. -115. -117. -145. -119.\n",
            " -219. -222. -200. -178. -116. -120. -113. -118. -127. -117. -164. -151.\n",
            " -186. -161. -151. -149. -125. -121. -146. -126. -177. -195. -186. -158.\n",
            " -131. -123. -123. -183. -146. -155. -152. -151. -119. -215. -173. -217.\n",
            " -118. -122. -116. -168. -114. -188. -127. -180. -123. -148. -152. -130.\n",
            " -116. -168. -118. -115. -186. -144. -121. -117. -147. -173. -154. -127.\n",
            " -214. -130. -213. -150. -133. -117. -121. -121. -156. -127. -119. -146.\n",
            " -115. -151. -121. -198. -237. -120. -124. -153. -119. -123. -121. -152.\n",
            " -110. -116. -115. -165. -119. -118. -118. -123. -117. -122. -123. -201.\n",
            " -119. -120. -123. -120. -123. -154. -120. -118. -182. -202. -160. -159.\n",
            " -126. -168. -216. -158. -120. -123. -124. -123. -125. -133. -157. -159.\n",
            " -127. -208. -151. -147. -120. -114. -207. -122. -160. -150. -193. -120.\n",
            " -173. -123. -119. -182. -178. -233. -154. -155. -117. -176. -231. -141.\n",
            " -174. -188. -120. -194. -127. -184. -121. -207. -120. -249. -175. -156.\n",
            " -125. -180. -135. -201. -181. -124. -161. -121. -123. -114. -127. -183.\n",
            " -122. -118. -120. -121. -152. -119. -160. -156. -176. -127.]\n",
            "42\n"
          ],
          "name": "stdout"
        },
        {
          "output_type": "stream",
          "text": [
            "/usr/local/lib/python3.7/dist-packages/ipykernel_launcher.py:53: VisibleDeprecationWarning: Creating an ndarray from ragged nested sequences (which is a list-or-tuple of lists-or-tuples-or ndarrays with different lengths or shapes) is deprecated. If you meant to do this, you must specify 'dtype=object' when creating the ndarray\n"
          ],
          "name": "stderr"
        },
        {
          "output_type": "stream",
          "text": [
            "[-163. -140. -122. -165. -126. -156. -120. -115. -131. -150. -120. -156.\n",
            " -155. -123. -120. -116. -147. -132. -119. -175. -214. -197. -164. -116.\n",
            " -180. -123. -158. -173. -117. -117. -158. -169. -119. -152. -119. -155.\n",
            " -129. -155. -125. -119. -179. -118. -190. -119. -127. -119. -119. -157.\n",
            " -153. -121. -188. -151. -113. -127. -154. -208. -174. -120. -121. -117.\n",
            " -122. -200. -158. -171. -117. -175. -198. -122. -174. -164. -129. -156.\n",
            " -161. -200. -123. -120. -128. -118. -143. -195. -121. -118. -116. -121.\n",
            " -116. -123. -146. -178. -118. -201. -118. -200. -157. -117. -117. -161.\n",
            " -154. -171. -135. -159. -114. -119. -113. -183. -157. -178. -117. -190.\n",
            " -115. -120. -148. -119. -118. -118. -122. -114. -121. -170. -128. -146.\n",
            " -115. -127. -172. -161. -223. -146. -163. -161. -134. -132. -117. -119.\n",
            " -117. -118. -143. -116. -120. -204. -117. -117. -132. -192. -114. -197.\n",
            " -201. -155. -194. -127. -123. -178. -153. -120. -123. -161. -142. -113.\n",
            " -123. -176. -149. -158. -173. -176. -164. -149. -123. -144. -124. -137.\n",
            " -121. -154. -152. -118. -196. -149. -120. -152. -127. -116. -180. -118.\n",
            " -151. -148. -115. -122. -114. -117. -197. -151. -117. -121. -202. -126.\n",
            " -130. -126. -148. -114. -118. -117. -153. -113. -148. -147. -117. -155.\n",
            " -117. -116. -120. -164. -131. -120. -181. -139. -121. -119. -121. -128.\n",
            " -158. -122. -157. -118. -123. -117. -141. -149. -190. -119. -155. -187.\n",
            " -121. -180. -126. -116. -121. -164. -122. -117. -256. -147. -148. -148.\n",
            " -126. -116. -116. -195. -150. -179. -121. -116. -166. -205.]\n",
            "43\n"
          ],
          "name": "stdout"
        },
        {
          "output_type": "stream",
          "text": [
            "/usr/local/lib/python3.7/dist-packages/ipykernel_launcher.py:53: VisibleDeprecationWarning: Creating an ndarray from ragged nested sequences (which is a list-or-tuple of lists-or-tuples-or ndarrays with different lengths or shapes) is deprecated. If you meant to do this, you must specify 'dtype=object' when creating the ndarray\n"
          ],
          "name": "stderr"
        },
        {
          "output_type": "stream",
          "text": [
            "[-139. -118. -118. -129. -117. -144. -132. -119. -208. -119. -173. -125.\n",
            " -127. -115. -151. -122. -113. -118. -155. -120. -118. -139. -121. -125.\n",
            " -168. -122. -126. -130. -120. -122. -121. -151. -119. -162. -122. -202.\n",
            " -129. -124. -150. -213. -208. -117. -194. -123. -135. -164. -187. -245.\n",
            " -117. -139. -164. -149. -120. -142. -155. -209. -119. -115. -168. -224.\n",
            " -123. -167. -221. -189. -120. -129. -120. -172. -157. -117. -117. -116.\n",
            " -120. -152. -148. -128. -225. -191. -117. -131. -126. -151. -115. -211.\n",
            " -124. -153. -119. -168. -149. -118. -115. -159. -239. -171. -128. -117.\n",
            " -114. -121. -152. -154. -133. -119. -118. -191. -135. -119. -121. -119.\n",
            " -116. -113. -145. -152. -116. -118. -123. -183. -146. -177. -119. -145.\n",
            " -221. -151. -148. -118. -220. -120. -123. -119. -128. -122. -183. -118.\n",
            " -164. -117. -119. -149. -120. -130. -121. -191. -119. -122. -125. -166.\n",
            " -120. -180. -164. -122. -119. -119. -211. -121. -125. -143. -119. -141.\n",
            " -168. -183. -149. -156. -145. -119. -115. -127. -122. -141. -154. -151.\n",
            " -115. -118. -119. -116. -154. -156. -150. -159. -122. -119. -112. -155.\n",
            " -124. -153. -119. -148. -119. -117. -120. -121. -118. -121. -195. -153.\n",
            " -192. -129. -111. -118. -119. -125. -122. -184. -155. -117. -121. -116.\n",
            " -119. -117. -117. -168. -113. -170. -170. -118. -218. -122. -118. -116.\n",
            " -129. -117. -156. -244. -126. -181. -212. -160. -143. -120. -130. -130.\n",
            " -115. -119. -122. -189. -182. -118. -134. -116. -116. -120. -157. -215.\n",
            " -198. -159. -161. -174. -116. -162. -121. -166. -155. -114.]\n",
            "44\n"
          ],
          "name": "stdout"
        },
        {
          "output_type": "stream",
          "text": [
            "/usr/local/lib/python3.7/dist-packages/ipykernel_launcher.py:53: VisibleDeprecationWarning: Creating an ndarray from ragged nested sequences (which is a list-or-tuple of lists-or-tuples-or ndarrays with different lengths or shapes) is deprecated. If you meant to do this, you must specify 'dtype=object' when creating the ndarray\n"
          ],
          "name": "stderr"
        },
        {
          "output_type": "stream",
          "text": [
            "[-113. -146. -239. -194. -147. -118. -126. -156. -159. -148. -214. -130.\n",
            " -168. -128. -208. -207. -180. -143. -121. -135. -154. -235. -125. -123.\n",
            " -157. -155. -120.  -90. -125. -119. -148. -172. -115. -120. -156. -140.\n",
            " -118. -170. -146. -151. -117. -123. -156. -165. -160. -151. -123. -160.\n",
            " -195. -123. -177. -166. -199. -122. -117. -194. -121. -121. -121. -123.\n",
            " -117. -204. -190. -176. -122. -121. -121. -165. -113. -121. -121. -168.\n",
            " -120. -118. -117. -117. -117. -123. -119. -148. -129. -153. -129. -115.\n",
            " -119. -116. -162. -197. -136. -201. -192. -138. -226. -162. -128. -121.\n",
            " -152. -150. -139. -124. -132. -157. -123. -184. -117. -146. -157. -126.\n",
            " -117. -115. -143. -121. -117. -149. -199. -119. -116. -118. -113. -116.\n",
            " -139. -122. -115. -194. -121. -128. -120. -125. -130. -119. -120. -161.\n",
            " -166. -157. -117. -158. -123. -112. -122. -116. -127. -124. -177. -204.\n",
            " -160. -124. -120. -121. -122. -113. -129. -137. -119. -133. -151. -114.\n",
            " -125. -123. -117. -123. -116. -138. -124. -174. -120. -160. -113. -146.\n",
            " -120. -150. -126. -153. -143. -118. -162. -197. -141. -155. -153. -162.\n",
            " -122. -236. -134. -122. -122. -123. -144. -121. -158. -206. -128. -160.\n",
            " -123. -120. -177. -112. -152. -117. -120. -162. -118. -188. -115. -148.\n",
            " -151. -118. -118. -120. -151. -118. -119. -169. -117. -188. -151. -158.\n",
            " -123. -166. -127. -154. -157. -153. -119. -119. -159. -118. -122. -152.\n",
            " -166. -134. -147. -115. -119. -118. -196. -172. -200. -206. -112. -128.\n",
            " -117. -143. -154. -125. -120. -123. -115. -125. -120. -122.]\n",
            "45\n"
          ],
          "name": "stdout"
        },
        {
          "output_type": "stream",
          "text": [
            "/usr/local/lib/python3.7/dist-packages/ipykernel_launcher.py:53: VisibleDeprecationWarning: Creating an ndarray from ragged nested sequences (which is a list-or-tuple of lists-or-tuples-or ndarrays with different lengths or shapes) is deprecated. If you meant to do this, you must specify 'dtype=object' when creating the ndarray\n"
          ],
          "name": "stderr"
        },
        {
          "output_type": "stream",
          "text": [
            "[-119. -116. -150. -166. -159. -152. -147. -124. -126. -116. -116. -115.\n",
            " -118. -153. -185. -119. -125. -170. -148. -113. -142. -149. -155. -117.\n",
            " -146. -121. -114. -123. -160. -162. -212. -193. -169. -128. -122. -159.\n",
            " -118. -122. -117. -153. -155. -151. -116. -120. -160. -118. -113. -118.\n",
            " -206. -117. -207. -183. -115. -120. -156. -151. -140. -126. -172. -144.\n",
            " -157. -116. -178. -171. -120. -166. -120. -114. -120. -121. -118. -116.\n",
            " -113. -113. -120. -114. -117. -209. -150. -167. -148. -145. -115. -151.\n",
            " -116. -170. -166. -188. -120. -198. -156. -150. -166. -149. -116. -121.\n",
            " -121. -116. -159. -118. -195. -128. -196. -150.  -91. -116. -185. -116.\n",
            " -239. -152. -125. -144. -150. -157. -147. -113. -129. -115. -221. -125.\n",
            " -118. -196. -219. -157. -164. -148. -124. -153. -123. -125. -117. -144.\n",
            " -112. -165. -158. -157. -123. -146. -206. -144. -162. -120. -146. -120.\n",
            " -116. -117. -148. -133. -118. -155. -122. -116. -115. -190. -135. -172.\n",
            " -110. -158. -150. -126. -117. -123. -150. -140. -154. -171. -180. -149.\n",
            " -118. -121. -166. -185. -116. -148. -120. -150. -117. -119. -158. -156.\n",
            " -120. -160. -196. -115. -118. -180. -112. -132. -142. -117. -117. -114.\n",
            " -123. -127. -113. -202. -132. -119. -120. -119. -224. -155. -126. -172.\n",
            " -152. -118. -118. -154. -136. -123. -207. -121. -119. -117. -112. -157.\n",
            " -150. -126. -118. -124. -119. -197. -128. -157. -190. -160. -147. -122.\n",
            " -184. -171. -122. -186. -118. -116. -145. -120. -149. -155. -119. -186.\n",
            " -117. -193. -149. -119. -198. -157. -150. -152. -123. -262.]\n",
            "46\n"
          ],
          "name": "stdout"
        },
        {
          "output_type": "stream",
          "text": [
            "/usr/local/lib/python3.7/dist-packages/ipykernel_launcher.py:53: VisibleDeprecationWarning: Creating an ndarray from ragged nested sequences (which is a list-or-tuple of lists-or-tuples-or ndarrays with different lengths or shapes) is deprecated. If you meant to do this, you must specify 'dtype=object' when creating the ndarray\n"
          ],
          "name": "stderr"
        },
        {
          "output_type": "stream",
          "text": [
            "[-146. -152. -152. -154. -162. -124. -117. -180. -161. -116. -123. -112.\n",
            " -178. -117. -123. -145. -120. -205. -221. -141. -119. -207. -125. -115.\n",
            " -153. -162. -120. -115. -117. -126. -177. -119. -115. -117. -150. -218.\n",
            " -121. -152. -121. -155. -146. -119. -151.  -96.  -95. -154. -115. -136.\n",
            " -159. -132. -146. -118. -146. -117. -150. -149. -158. -203. -120. -160.\n",
            " -118. -119. -126. -120. -120. -152. -195. -154. -122. -120. -123. -118.\n",
            " -156. -113. -120. -153. -150. -114. -177. -127. -190. -117. -121. -143.\n",
            " -118. -151. -126. -228. -158. -118. -164. -121. -120. -190. -196. -145.\n",
            " -116. -170. -156. -114. -145. -114. -154. -146. -143. -113. -117. -114.\n",
            " -199. -133. -174. -123. -118. -144. -148. -150. -152. -212. -150. -123.\n",
            " -122. -149. -162. -159. -123. -153. -124. -161. -119. -119. -123. -122.\n",
            " -158. -145. -159. -146.  -90. -159. -113. -116. -114. -114. -118. -198.\n",
            " -212. -169. -163. -120. -146. -165. -115. -214. -118. -156. -121. -126.\n",
            " -159. -126. -146. -150. -155. -117. -149. -198. -113. -126. -171. -144.\n",
            " -160. -148. -120. -117. -160. -191. -163. -167. -117. -117. -157. -176.\n",
            " -124. -123. -117. -118. -170. -122. -116. -119. -146. -131. -140. -158.\n",
            " -117. -146. -164. -188. -206. -133. -157. -153. -142. -120. -154. -119.\n",
            " -160. -120. -142. -136. -131. -119. -120. -164. -150. -180. -189. -148.\n",
            " -163. -151. -114. -144. -189. -146. -115. -180. -190. -122. -118. -139.\n",
            " -175. -152. -117. -148. -148. -115. -117. -158. -113. -147. -150. -124.\n",
            " -209. -159. -194. -133. -157. -117. -116. -122. -141. -153.]\n",
            "47\n"
          ],
          "name": "stdout"
        },
        {
          "output_type": "stream",
          "text": [
            "/usr/local/lib/python3.7/dist-packages/ipykernel_launcher.py:53: VisibleDeprecationWarning: Creating an ndarray from ragged nested sequences (which is a list-or-tuple of lists-or-tuples-or ndarrays with different lengths or shapes) is deprecated. If you meant to do this, you must specify 'dtype=object' when creating the ndarray\n"
          ],
          "name": "stderr"
        },
        {
          "output_type": "stream",
          "text": [
            "[-152. -153. -161. -116. -159. -153. -186. -154. -126. -117. -145. -116.\n",
            " -121. -156. -155. -167. -122. -123. -113. -150. -160. -129. -148. -144.\n",
            " -154. -163. -161. -129. -117. -118. -118. -117. -166. -151. -138. -152.\n",
            " -150. -119. -127. -131. -189. -159. -117. -118. -158. -117. -140. -177.\n",
            " -116. -118. -115. -159. -118. -115.  -94. -114. -156. -114. -117. -132.\n",
            " -196. -113.  -93. -180. -147. -163. -144. -125. -119. -111.  -94. -130.\n",
            " -116. -150. -143. -148. -148. -154. -124. -121. -123. -151. -115. -114.\n",
            " -215. -163. -162. -122. -141. -147. -118. -116. -117. -149. -137. -116.\n",
            " -121. -125. -124. -122. -142. -119. -128. -185. -143. -158. -118. -155.\n",
            " -147. -144. -157. -122. -155. -129. -145. -159. -119. -163. -149. -155.\n",
            " -175. -167. -119. -174. -151. -146. -190. -140. -160. -151. -132. -165.\n",
            " -117. -110. -143. -151. -162. -125. -176. -165. -127. -171. -155. -195.\n",
            " -124. -120. -117. -167. -189. -120. -143. -188. -143. -119. -120. -125.\n",
            " -144. -119. -159. -117. -152. -171. -143. -153. -119. -153. -170. -117.\n",
            " -152. -117. -137. -112. -157. -119. -185. -152. -156. -177. -113. -157.\n",
            " -124. -116. -114. -150. -118. -120. -236. -116. -113. -164. -164. -165.\n",
            " -164. -121. -154. -128. -162. -152. -149. -149. -151. -172. -161. -116.\n",
            " -116. -117. -146. -126. -103. -162. -152. -115. -154. -194. -117. -142.\n",
            " -118. -114. -100. -152. -151. -194. -120. -121. -126. -167. -157. -134.\n",
            " -132. -146. -148. -201. -116. -113. -127. -153. -140. -154. -119. -119.\n",
            " -118. -119. -148. -165. -119. -117. -123. -119. -118. -120.]\n",
            "48\n"
          ],
          "name": "stdout"
        },
        {
          "output_type": "stream",
          "text": [
            "/usr/local/lib/python3.7/dist-packages/ipykernel_launcher.py:53: VisibleDeprecationWarning: Creating an ndarray from ragged nested sequences (which is a list-or-tuple of lists-or-tuples-or ndarrays with different lengths or shapes) is deprecated. If you meant to do this, you must specify 'dtype=object' when creating the ndarray\n"
          ],
          "name": "stderr"
        },
        {
          "output_type": "stream",
          "text": [
            "[-149. -166. -137. -160. -147. -168. -164. -175. -114. -118. -157. -145.\n",
            " -120. -155. -152. -143. -121. -190. -157. -116. -154. -113. -164. -149.\n",
            " -160. -100. -113. -119. -169. -171. -120. -115. -195. -158. -116. -123.\n",
            " -150. -150. -119. -158. -127. -167. -146. -142. -124. -113. -159. -164.\n",
            " -122. -146. -156. -115. -161. -155.  -87. -222. -175. -117. -158. -175.\n",
            " -152. -159. -146. -129. -118. -153. -143. -141. -115. -141. -153. -152.\n",
            " -151. -168. -123. -154. -122. -193. -160. -155. -155. -126. -119. -168.\n",
            " -157. -115. -145. -176. -171. -159. -113. -144. -122. -152. -161. -149.\n",
            " -144. -143. -142. -213. -170. -113. -193. -156. -120. -164. -152. -154.\n",
            " -192. -153. -114. -149. -122. -113. -150.  -87. -141. -113. -126. -192.\n",
            " -154. -153. -147. -118. -117. -155. -178. -119. -156. -158. -121. -156.\n",
            " -156. -118. -156. -155. -158. -118. -204. -154. -117. -119.  -90. -153.\n",
            " -117. -173. -105. -131. -144. -146. -148. -164. -160.  -88. -140. -156.\n",
            " -116. -148. -153. -168. -120. -126. -129. -186. -126. -163. -186. -123.\n",
            " -162. -149. -157. -158. -115. -152. -152. -173. -146. -147. -166. -156.\n",
            " -164. -158. -121. -148. -176. -195. -117. -151. -115. -207. -124. -151.\n",
            "  -96. -147. -162. -146. -143. -158. -121. -114. -160. -125. -143. -151.\n",
            " -125. -154. -115. -151. -146. -131. -122. -158. -144. -157. -154. -139.\n",
            " -139. -152. -143. -167. -161. -113. -183. -116. -124. -186. -185. -203.\n",
            " -113. -152. -121. -116. -145. -164. -141. -207. -158. -120. -136. -148.\n",
            " -116. -121. -160. -148. -143. -120. -122. -155. -118. -157.]\n",
            "49\n"
          ],
          "name": "stdout"
        },
        {
          "output_type": "stream",
          "text": [
            "/usr/local/lib/python3.7/dist-packages/ipykernel_launcher.py:53: VisibleDeprecationWarning: Creating an ndarray from ragged nested sequences (which is a list-or-tuple of lists-or-tuples-or ndarrays with different lengths or shapes) is deprecated. If you meant to do this, you must specify 'dtype=object' when creating the ndarray\n"
          ],
          "name": "stderr"
        },
        {
          "output_type": "stream",
          "text": [
            "[-124. -158. -120. -130. -123. -121. -132. -156. -146. -155. -148. -151.\n",
            " -163. -118. -120. -157. -149. -169. -117. -141. -118. -144. -118. -153.\n",
            " -151. -171. -146. -157. -123. -112. -124. -155. -157. -136. -117. -162.\n",
            " -150. -114. -144. -148. -141. -157. -163. -125. -121. -147. -114. -153.\n",
            " -118. -153. -109. -161. -153. -144. -153. -142. -150. -236. -164. -157.\n",
            " -119. -147. -156. -173. -162. -115. -122. -154. -149. -123. -164.  -91.\n",
            "  -87. -118. -109. -152. -144. -156. -112. -128. -176. -163. -113. -117.\n",
            " -160. -121. -159. -115. -158. -149. -118. -145. -153. -156. -167. -150.\n",
            " -117. -114. -144. -120. -116. -113. -147. -125. -115. -117. -163. -119.\n",
            " -143.  -91. -163. -158. -190. -124. -148. -190. -147. -163. -138. -113.\n",
            " -162. -161. -183. -151. -143. -115. -106. -147. -115. -121. -119. -114.\n",
            " -195. -157. -164. -116. -118. -137. -216. -119. -144. -115. -150. -119.\n",
            " -150. -132. -116. -120. -161.  -86. -141. -116. -113. -114. -134. -148.\n",
            " -127.  -92. -140. -115. -167. -157. -112. -119. -155. -148. -119. -137.\n",
            " -163. -121. -163. -151. -160. -114. -158. -149. -119. -175. -158. -156.\n",
            " -118. -149. -143. -115. -133. -143. -164. -151. -150. -180. -119. -166.\n",
            " -156. -123. -180. -156. -180. -120. -123. -122. -112. -131. -182. -124.\n",
            " -126. -125. -115.  -90. -147. -145. -121. -164. -150. -123. -117. -153.\n",
            " -134. -116. -138. -124. -125. -169. -161. -116. -137. -122. -117. -166.\n",
            " -167. -173. -119. -116. -147. -119. -157. -125. -119. -153. -154. -145.\n",
            " -152. -147. -126. -115. -147. -113. -189. -116. -116.  -94.]\n",
            "50\n"
          ],
          "name": "stdout"
        },
        {
          "output_type": "stream",
          "text": [
            "/usr/local/lib/python3.7/dist-packages/ipykernel_launcher.py:53: VisibleDeprecationWarning: Creating an ndarray from ragged nested sequences (which is a list-or-tuple of lists-or-tuples-or ndarrays with different lengths or shapes) is deprecated. If you meant to do this, you must specify 'dtype=object' when creating the ndarray\n"
          ],
          "name": "stderr"
        },
        {
          "output_type": "stream",
          "text": [
            "[-114. -116. -132. -128. -150. -116. -152. -117. -154. -119. -133. -123.\n",
            " -178. -153. -123. -160. -154. -169. -114. -127. -155. -172. -116. -134.\n",
            " -120. -158. -145. -146. -120. -134. -182. -128. -115. -118. -122. -115.\n",
            " -119. -173. -126. -119. -151. -119. -115. -114. -150. -149. -148. -115.\n",
            " -150. -117. -117. -145. -160. -121. -160. -120. -150. -134. -122. -158.\n",
            " -121. -148. -120. -183. -162. -114. -147. -141. -118. -113. -118. -117.\n",
            " -118. -121. -117. -113. -193. -158. -115. -118. -118. -120. -152. -120.\n",
            " -146. -117.  -98. -118. -120. -152. -113. -154. -146. -152. -164. -114.\n",
            " -122. -116. -122. -145. -125. -150. -129. -157. -119. -119. -117. -122.\n",
            " -133. -162. -158. -117. -118. -157. -132. -120. -147. -148. -134. -119.\n",
            " -216. -185. -155. -121. -116. -192. -195. -114. -133. -114. -146. -164.\n",
            " -117. -174. -118. -126. -141. -117. -163. -160. -154. -152. -150. -116.\n",
            " -197. -171. -121. -153. -136. -152. -115. -186. -173. -167. -116. -116.\n",
            " -166. -124. -118. -122. -148. -158. -115. -155. -202. -154. -112. -114.\n",
            " -112. -159. -177. -121. -113. -114. -120. -119. -126. -112. -153. -143.\n",
            " -173. -120. -148. -114. -168. -174. -123. -119. -125. -119. -118. -115.\n",
            " -113. -160. -118. -134. -152. -143. -117. -119. -114. -150. -119. -116.\n",
            " -148. -160. -137. -132. -118. -158. -158. -137. -174. -138. -113. -121.\n",
            " -122. -150. -116. -115. -169. -148. -156. -198. -143. -154. -153. -115.\n",
            " -160. -162. -114. -117. -117. -180. -139. -180. -144. -115. -114. -197.\n",
            " -122. -135. -120. -122. -165. -204. -121. -118. -117. -119.]\n",
            "51\n"
          ],
          "name": "stdout"
        },
        {
          "output_type": "stream",
          "text": [
            "/usr/local/lib/python3.7/dist-packages/ipykernel_launcher.py:53: VisibleDeprecationWarning: Creating an ndarray from ragged nested sequences (which is a list-or-tuple of lists-or-tuples-or ndarrays with different lengths or shapes) is deprecated. If you meant to do this, you must specify 'dtype=object' when creating the ndarray\n"
          ],
          "name": "stderr"
        },
        {
          "output_type": "stream",
          "text": [
            "[-154. -117. -163. -112. -157.  -88. -156. -119. -119. -118. -155. -158.\n",
            " -113. -114. -115. -131. -155. -116. -127. -116. -118. -179. -115. -149.\n",
            " -116. -161. -158. -175. -119. -115. -152. -167. -145. -119. -123. -116.\n",
            " -120. -146. -130. -117. -123. -116. -190. -121. -125. -122. -162. -155.\n",
            " -172. -116. -150. -165. -144. -161. -118. -177. -116. -113. -142. -118.\n",
            " -120. -114. -171. -127. -190. -112. -167. -118. -198. -172. -116.  -93.\n",
            " -168. -186. -101. -112. -117. -158. -165. -135. -143. -151. -164. -147.\n",
            " -152. -125. -145. -177. -147. -117. -185. -131. -114. -155. -120. -113.\n",
            " -157. -168. -161. -136. -115. -206. -149. -147. -115. -159. -117. -155.\n",
            " -123. -126. -138. -121. -157. -119. -115. -163. -195.  -91. -117.  -88.\n",
            " -119. -149. -151. -158. -117. -117. -152. -113. -153. -171. -116. -119.\n",
            " -115. -112. -151. -118. -115. -146. -167. -145. -115. -117. -174. -153.\n",
            " -161. -118. -173. -174. -144. -166. -119. -145. -150. -112. -183. -131.\n",
            " -115. -117. -172. -150. -130. -123. -151. -123. -115. -189. -138. -179.\n",
            " -117. -125. -150. -146. -152. -148. -118. -133. -152. -149. -147. -117.\n",
            " -110. -151. -113. -119. -123. -156. -119. -150. -155. -115. -142. -153.\n",
            " -119. -112. -147. -113. -113. -153. -166. -149. -122. -116. -117. -147.\n",
            " -115. -145. -173. -168. -120. -192. -114. -190. -166. -169. -121. -117.\n",
            " -155. -157. -115. -149. -147. -156. -197. -120. -121. -144. -121. -127.\n",
            " -115. -120. -160. -157. -116. -113. -118. -120. -146. -113. -114. -115.\n",
            " -116. -115. -171. -139. -146. -123. -161. -145. -119. -116.]\n",
            "52\n"
          ],
          "name": "stdout"
        },
        {
          "output_type": "stream",
          "text": [
            "/usr/local/lib/python3.7/dist-packages/ipykernel_launcher.py:53: VisibleDeprecationWarning: Creating an ndarray from ragged nested sequences (which is a list-or-tuple of lists-or-tuples-or ndarrays with different lengths or shapes) is deprecated. If you meant to do this, you must specify 'dtype=object' when creating the ndarray\n"
          ],
          "name": "stderr"
        },
        {
          "output_type": "stream",
          "text": [
            "[-150. -118. -159. -110. -115. -115. -119. -153. -125. -141. -120. -115.\n",
            " -113. -145. -151. -142. -113. -120. -122.  -95. -151. -156. -122. -149.\n",
            " -118. -120. -120. -149. -123. -185. -121. -155. -119. -183. -154. -123.\n",
            " -219. -147. -148. -157. -119. -160. -117. -154. -156. -116. -126. -115.\n",
            " -158. -112. -117. -125. -168. -142. -117. -118. -158. -115. -113. -130.\n",
            " -125. -110. -120. -147. -159. -166. -124. -154. -113. -154. -119. -151.\n",
            " -186. -123. -129. -115. -143. -202. -151. -155. -113. -121. -120. -122.\n",
            " -203. -119. -172. -122. -156. -121. -124. -116. -150. -123. -119. -124.\n",
            " -119. -118. -161. -166. -163. -116. -207. -151. -117. -149. -123. -156.\n",
            " -120. -122. -118. -147. -170. -197. -122. -153. -189. -147. -180. -121.\n",
            " -121. -168. -116. -114. -184. -112. -115. -143. -113. -118. -115. -135.\n",
            " -119. -181. -121. -124. -123. -128. -163. -148. -173. -127. -156. -116.\n",
            " -146. -157. -152. -131. -147. -169. -120. -129. -114. -110. -143. -143.\n",
            " -148. -118. -128. -121. -115. -152. -113. -122. -116. -128. -148. -159.\n",
            " -117. -119. -147. -116. -124. -120. -121. -145. -117. -169. -112. -124.\n",
            " -209. -163. -119. -116. -117. -115. -117. -126. -122. -118. -126. -115.\n",
            " -123. -122. -163. -174. -129. -119. -117. -115. -119. -163. -117. -117.\n",
            " -118. -142. -118. -123. -116. -137. -113. -110. -118. -113. -157. -156.\n",
            " -120. -149. -146. -119. -133. -175. -146. -208. -133. -114. -159. -162.\n",
            " -158. -157. -134. -177. -124. -137. -113. -118. -158. -155. -113. -116.\n",
            " -120. -181. -154. -118. -156. -164. -124. -149. -126. -119.]\n",
            "53\n"
          ],
          "name": "stdout"
        },
        {
          "output_type": "stream",
          "text": [
            "/usr/local/lib/python3.7/dist-packages/ipykernel_launcher.py:53: VisibleDeprecationWarning: Creating an ndarray from ragged nested sequences (which is a list-or-tuple of lists-or-tuples-or ndarrays with different lengths or shapes) is deprecated. If you meant to do this, you must specify 'dtype=object' when creating the ndarray\n"
          ],
          "name": "stderr"
        },
        {
          "output_type": "stream",
          "text": [
            "[-111. -237. -161. -121. -157. -181. -154. -123. -116. -117. -113. -120.\n",
            " -146. -154. -117. -122. -117. -119. -123. -121. -147. -186. -122. -158.\n",
            " -168. -146. -132.  -89. -112. -118. -116. -149. -150. -166. -154. -153.\n",
            " -143. -185. -115. -118. -118. -116. -177. -153. -113. -117. -170. -127.\n",
            " -140. -116. -157. -117. -121. -221. -197. -125. -115. -154. -123. -121.\n",
            " -137. -119. -130. -158. -113. -152. -113. -116. -153. -155. -113. -117.\n",
            " -149. -113. -120. -156. -154. -157. -154. -115. -152. -130. -118. -151.\n",
            " -149. -122. -116. -117. -185. -166. -123. -117. -157. -116. -146. -119.\n",
            " -119. -166. -116. -117. -210. -160. -121. -126. -149. -111. -114. -118.\n",
            " -158. -176. -179. -152. -115. -149. -124. -178. -117. -120. -123. -129.\n",
            " -151. -171. -115. -113. -121. -121. -123. -184. -111. -119. -121. -159.\n",
            " -186. -119. -109. -150. -116. -164. -114. -117. -182. -192. -156. -118.\n",
            " -119. -144. -190. -154. -112. -155. -151. -115. -155. -134. -149. -116.\n",
            " -119. -145. -124. -146. -112. -117. -149. -114. -145. -116. -117. -134.\n",
            " -150. -179. -116. -110. -130. -142. -116. -117. -151. -117. -115. -120.\n",
            " -127. -156. -114. -144. -116. -120. -146. -127. -117. -162. -135. -171.\n",
            " -146. -162. -180. -122. -157. -139. -156. -119. -157. -128. -157. -185.\n",
            " -142. -116. -117. -121. -117. -116. -143. -154. -113. -141. -117. -114.\n",
            " -120. -164. -196. -160. -151. -109. -194. -116. -119. -117. -149. -134.\n",
            " -116. -115. -146. -114. -176. -147. -150. -151. -153. -113. -165. -155.\n",
            " -124. -113. -144. -121. -160. -115. -114. -119. -115. -121.]\n",
            "54\n"
          ],
          "name": "stdout"
        },
        {
          "output_type": "stream",
          "text": [
            "/usr/local/lib/python3.7/dist-packages/ipykernel_launcher.py:53: VisibleDeprecationWarning: Creating an ndarray from ragged nested sequences (which is a list-or-tuple of lists-or-tuples-or ndarrays with different lengths or shapes) is deprecated. If you meant to do this, you must specify 'dtype=object' when creating the ndarray\n"
          ],
          "name": "stderr"
        },
        {
          "output_type": "stream",
          "text": [
            "[-112. -149. -118. -115. -147. -129. -119. -113. -118. -117. -152. -120.\n",
            " -122. -113. -179. -112. -118. -115. -148. -118. -124. -169. -113. -172.\n",
            " -119. -153. -153. -148. -118. -116. -127. -127. -115. -161. -114. -115.\n",
            " -111. -112. -115. -142. -121. -151. -142. -156. -142. -171. -186. -119.\n",
            " -160. -124. -145. -114. -138. -119. -117. -118. -118. -117. -122. -115.\n",
            " -153. -187. -156. -113. -117. -119. -116. -122. -159. -121. -119. -187.\n",
            " -146. -118. -115. -115. -139. -114. -136. -129. -145. -117. -117. -217.\n",
            " -112. -152. -121. -116. -146. -113. -115. -132. -114. -177. -165. -136.\n",
            " -152. -143. -115. -126. -114. -117. -115. -114. -185. -150. -120. -142.\n",
            " -117. -152. -153. -142. -200. -143. -171. -115. -113. -115. -138. -119.\n",
            " -156. -133. -204. -149. -143. -113. -115. -146. -114. -117. -163. -120.\n",
            " -191. -126. -169. -144. -145.  -90. -110. -119. -152. -141. -155. -114.\n",
            " -147. -116. -114. -115. -155. -118. -113. -173. -118. -120. -117. -111.\n",
            " -119. -125. -112. -121. -157. -116. -144. -144. -119. -123. -115. -120.\n",
            " -150. -117. -155. -137. -118. -199. -118. -117. -187. -162. -117. -157.\n",
            " -227. -118. -129. -173. -113. -113. -190. -118. -148. -142. -147. -197.\n",
            " -150. -116. -150. -153. -114. -114. -115. -167. -167. -157. -116. -117.\n",
            " -151. -117. -150. -116. -124. -127. -156. -123. -116. -117. -203. -116.\n",
            " -138. -114. -195. -147. -121. -151. -148. -118. -163. -160. -114. -177.\n",
            " -113. -123. -129. -113. -116. -158. -100. -152. -116. -151. -170. -142.\n",
            " -145. -118. -150. -114. -123. -118. -148. -113. -116. -152.]\n",
            "55\n"
          ],
          "name": "stdout"
        },
        {
          "output_type": "stream",
          "text": [
            "/usr/local/lib/python3.7/dist-packages/ipykernel_launcher.py:53: VisibleDeprecationWarning: Creating an ndarray from ragged nested sequences (which is a list-or-tuple of lists-or-tuples-or ndarrays with different lengths or shapes) is deprecated. If you meant to do this, you must specify 'dtype=object' when creating the ndarray\n"
          ],
          "name": "stderr"
        },
        {
          "output_type": "stream",
          "text": [
            "[-115. -156. -112. -115. -150. -121. -223. -156. -159. -117. -154. -121.\n",
            " -149. -141. -192. -114. -114. -161. -169. -115. -149. -118. -201. -113.\n",
            " -143. -116. -160. -172. -114. -152. -155. -120. -114. -117. -146. -141.\n",
            " -148. -117. -144. -113.  -97. -116. -116. -144. -157. -150. -116. -194.\n",
            " -160. -120. -150. -115. -119. -145. -201. -117. -125. -124. -136. -111.\n",
            " -114. -122. -115. -112. -145. -141. -149. -123. -166. -139. -123. -161.\n",
            " -112. -151. -119. -117. -113. -139. -172. -159. -121. -115. -146. -117.\n",
            " -159. -157. -119. -154. -113. -197. -195. -205. -145. -170. -114. -209.\n",
            " -144. -146. -120. -116. -116. -177. -117. -113. -157. -115. -120. -120.\n",
            " -115. -147. -121. -174. -175. -154. -111. -120. -115. -116. -116. -116.\n",
            " -117. -114. -128. -138. -125. -169. -124. -115. -161. -161. -114. -124.\n",
            " -210. -113. -147. -160. -120. -150. -116. -175. -112. -135. -115. -119.\n",
            " -115. -138. -115. -112. -179. -113. -115. -206. -137. -116. -189. -123.\n",
            " -117. -210. -138. -126. -176. -116. -116. -126. -152. -153. -118. -152.\n",
            " -121. -121. -154. -115. -116. -120. -192. -113. -117. -114. -179. -204.\n",
            " -128. -120. -181. -151. -210. -151. -150. -157. -121. -120. -183. -113.\n",
            " -142. -123. -115. -117. -116. -114. -193. -113. -172. -118. -197. -115.\n",
            " -113. -138. -158. -156. -119. -124. -157. -126. -115. -154. -186. -120.\n",
            " -127. -153. -151. -156. -152. -113. -141. -188. -115. -115. -158. -115.\n",
            " -151. -156. -125. -151. -151. -115. -122. -118. -115. -115. -118. -118.\n",
            " -145. -153. -140. -114. -115. -119. -118. -114. -115. -147.]\n",
            "56\n"
          ],
          "name": "stdout"
        },
        {
          "output_type": "stream",
          "text": [
            "/usr/local/lib/python3.7/dist-packages/ipykernel_launcher.py:53: VisibleDeprecationWarning: Creating an ndarray from ragged nested sequences (which is a list-or-tuple of lists-or-tuples-or ndarrays with different lengths or shapes) is deprecated. If you meant to do this, you must specify 'dtype=object' when creating the ndarray\n"
          ],
          "name": "stderr"
        },
        {
          "output_type": "stream",
          "text": [
            "[-131. -114. -117. -150. -120. -121. -135. -117. -118. -142. -114. -124.\n",
            " -144. -118. -153. -201. -115. -118. -117. -119. -147. -155. -118. -178.\n",
            " -119. -114. -114. -115. -163. -115. -149. -154. -153. -142. -115. -152.\n",
            " -175. -205. -142. -119. -112. -116. -150. -115. -118. -146. -113. -179.\n",
            " -117. -125. -118. -115. -117. -116. -113. -112. -146. -218. -170. -152.\n",
            " -129. -170. -116. -154. -131. -155. -186. -170. -118. -114. -144. -117.\n",
            " -115. -150. -116. -187. -124. -116. -125. -114. -130. -214. -118. -120.\n",
            " -120. -143. -187. -114. -111. -126. -114. -117. -118. -197. -132. -115.\n",
            " -114. -114. -119. -116. -120. -128. -167. -143. -111. -182. -124. -135.\n",
            " -141. -116. -112. -116. -116. -113. -116. -117. -119. -144. -154. -134.\n",
            " -111. -210. -112. -112. -149. -179. -116. -112. -117. -172. -180. -213.\n",
            " -117. -116. -156. -118. -112. -113. -113. -198. -215. -115. -116. -167.\n",
            " -113. -113. -160. -113. -119. -152. -121. -143. -183. -118. -117. -159.\n",
            " -130. -178. -112. -119. -160. -141. -119. -119. -117. -143. -195. -120.\n",
            " -183. -122. -116. -148. -143. -152. -114. -150. -150. -147. -117. -121.\n",
            " -153. -182. -153. -115. -116. -118. -170. -173. -174. -115. -177. -161.\n",
            " -115. -119. -116. -113. -158. -119. -124. -183. -155. -118. -181. -118.\n",
            " -150. -117. -118. -116. -157. -175. -118. -135. -163. -130. -147. -144.\n",
            " -116. -226. -113. -157. -116. -151. -120. -121. -121. -152. -113. -132.\n",
            " -124. -117. -160. -115. -119. -117. -117. -118. -118. -136. -157. -142.\n",
            " -121. -140. -117. -117. -146. -114. -126. -154. -113. -115.]\n",
            "57\n"
          ],
          "name": "stdout"
        },
        {
          "output_type": "stream",
          "text": [
            "/usr/local/lib/python3.7/dist-packages/ipykernel_launcher.py:53: VisibleDeprecationWarning: Creating an ndarray from ragged nested sequences (which is a list-or-tuple of lists-or-tuples-or ndarrays with different lengths or shapes) is deprecated. If you meant to do this, you must specify 'dtype=object' when creating the ndarray\n"
          ],
          "name": "stderr"
        },
        {
          "output_type": "stream",
          "text": [
            "[-156. -159. -152. -113. -154. -155. -127. -157. -142. -125. -113. -195.\n",
            " -114. -151. -126. -154. -219. -120. -140. -164. -158. -184. -110. -119.\n",
            " -163. -117. -115. -125. -114. -126. -151. -147. -115. -199. -148. -113.\n",
            " -113. -199. -169. -119. -118. -161. -128. -131. -116. -114. -190. -152.\n",
            " -118. -122. -112. -152. -116. -152. -141. -114. -114. -118. -118. -124.\n",
            " -144. -123. -156. -113. -114. -112. -182. -167. -171. -116. -182. -148.\n",
            " -155. -125. -155. -120. -157. -116. -149. -174. -120. -155. -116. -118.\n",
            " -112. -114. -149. -113. -165. -141. -115. -170. -124. -152. -139. -125.\n",
            " -112. -116. -114. -118. -117. -128. -115. -128. -140. -113. -177. -122.\n",
            " -119. -116. -115. -113. -212. -221. -116. -115. -147. -116. -152. -117.\n",
            " -114. -114. -113. -161. -116. -115. -118. -143. -115. -113. -155. -155.\n",
            " -154. -157. -162. -191. -162. -147. -113. -114. -118. -200. -144. -120.\n",
            " -169. -117. -144. -113. -152. -176. -112. -119. -121. -143. -150. -117.\n",
            " -155. -158. -117. -114. -147. -118. -116. -189. -130. -114. -113. -116.\n",
            " -116. -143. -113. -122. -172. -115. -115. -118. -118. -117. -118. -120.\n",
            " -115. -113. -155. -116. -119. -142. -119. -117. -115. -124. -121. -120.\n",
            " -156. -121. -153. -150. -114. -116. -126. -152. -117. -113. -113. -117.\n",
            " -153. -180. -116. -117. -116. -112. -116. -123. -136. -131. -174. -173.\n",
            " -116. -119. -115. -154. -118. -112. -151. -142. -121. -146. -156. -135.\n",
            " -211. -115. -125. -117. -119. -114. -114. -117. -112. -115. -152. -148.\n",
            " -153. -119. -114. -116. -115. -116. -154. -113. -118. -174.]\n",
            "58\n"
          ],
          "name": "stdout"
        },
        {
          "output_type": "stream",
          "text": [
            "/usr/local/lib/python3.7/dist-packages/ipykernel_launcher.py:53: VisibleDeprecationWarning: Creating an ndarray from ragged nested sequences (which is a list-or-tuple of lists-or-tuples-or ndarrays with different lengths or shapes) is deprecated. If you meant to do this, you must specify 'dtype=object' when creating the ndarray\n"
          ],
          "name": "stderr"
        },
        {
          "output_type": "stream",
          "text": [
            "[-127. -160. -154. -113. -114. -138. -114. -118. -113. -115. -141. -115.\n",
            " -160. -117. -113. -116. -187. -115. -117. -117. -117. -115. -145. -158.\n",
            " -197. -113. -171. -149. -114. -117. -112. -194. -159. -114. -116. -153.\n",
            " -118. -117. -113. -111. -172. -175. -154. -116. -145. -113. -185. -114.\n",
            " -157. -110. -148. -148. -117. -131. -131. -146. -115. -148. -136. -113.\n",
            " -135. -157. -116. -119. -118. -226. -117. -117. -132. -112. -117. -113.\n",
            " -115. -157. -111. -127. -138. -112. -118. -114. -152. -119. -115. -112.\n",
            " -118. -117. -113. -141. -146. -160. -152. -114. -114. -147. -115. -124.\n",
            " -155. -155. -120. -111. -123. -148. -119. -116. -113. -140. -144. -165.\n",
            " -112. -150. -165. -114. -198. -119. -148. -112. -156. -193. -112. -112.\n",
            " -147. -114. -124. -123. -113. -152. -187. -151. -114. -146. -119. -116.\n",
            " -178. -117. -189. -111. -118. -147. -116. -117. -149. -146. -153. -111.\n",
            " -150. -111. -156. -149. -157. -115. -114. -118. -116. -121. -155. -117.\n",
            " -116. -114. -120. -112. -116. -162. -120. -195. -164. -116. -112. -115.\n",
            " -145. -160. -123. -119. -151. -174. -116. -116. -163. -118. -115. -113.\n",
            " -117. -150. -118. -163. -116. -120. -155. -183. -117. -118. -117. -146.\n",
            " -111. -115. -153. -114. -179. -120. -114. -114. -114. -115. -187. -114.\n",
            " -161. -116. -114. -198. -145. -112. -114. -192. -111. -117. -116. -114.\n",
            " -114. -153. -179. -192. -164. -120. -113. -117. -115. -124. -113. -114.\n",
            " -181. -120. -182. -148. -118. -147. -118. -114. -121. -118. -114. -115.\n",
            " -116. -155. -174. -159. -115. -184. -113. -151. -144. -197.]\n",
            "59\n"
          ],
          "name": "stdout"
        },
        {
          "output_type": "stream",
          "text": [
            "/usr/local/lib/python3.7/dist-packages/ipykernel_launcher.py:53: VisibleDeprecationWarning: Creating an ndarray from ragged nested sequences (which is a list-or-tuple of lists-or-tuples-or ndarrays with different lengths or shapes) is deprecated. If you meant to do this, you must specify 'dtype=object' when creating the ndarray\n"
          ],
          "name": "stderr"
        },
        {
          "output_type": "stream",
          "text": [
            "[-149. -112. -115. -115. -121. -120. -120. -111. -117. -179. -197. -149.\n",
            " -115. -183. -115. -118. -124. -118. -112. -114. -130. -170. -116. -134.\n",
            " -112. -114. -114. -206. -115. -112. -153. -135. -116. -131. -119. -114.\n",
            " -114. -124. -112. -201. -115. -169. -117. -123. -198. -114. -114. -120.\n",
            " -149. -115. -114. -121. -130. -120. -184. -143. -155. -134. -115. -113.\n",
            " -131. -128. -180. -115. -129. -117. -114. -114. -116. -111. -149. -187.\n",
            " -144. -119. -153. -114. -113. -114. -116. -144. -111. -144. -121. -114.\n",
            " -116. -111. -204. -115. -112. -174. -112. -112. -112. -116. -116. -211.\n",
            " -171. -144. -113. -156. -152. -111. -168. -153. -178. -115. -155. -118.\n",
            " -115. -119. -154. -146. -126. -118. -115. -148. -146. -115. -143. -116.\n",
            " -198. -114. -116. -121. -113. -121. -115. -117. -141. -112. -151. -145.\n",
            " -119. -113. -157. -128. -149. -145. -118. -153. -111. -118. -139. -122.\n",
            " -111. -113. -120. -149. -115. -112. -114. -156. -163. -117. -197. -154.\n",
            " -207. -112. -114. -115. -114. -137. -113. -116. -115. -117. -119. -114.\n",
            " -119. -138. -120. -114. -112. -215. -138. -141. -115. -140. -148. -158.\n",
            " -187. -196. -115. -114. -182. -153. -122. -123. -147. -143. -154. -144.\n",
            " -193. -118. -113. -113. -162. -114. -223. -114. -118. -171. -119. -147.\n",
            " -114. -111. -115. -115. -112. -120. -160. -114. -133. -113. -112. -117.\n",
            " -116. -118. -115. -119. -118. -130. -114. -116. -171. -122. -114. -111.\n",
            " -116. -159. -146. -114. -113. -114. -110. -197. -126. -115. -206. -116.\n",
            " -140. -184. -113. -147. -127. -143. -115. -123. -116. -118.]\n",
            "60\n"
          ],
          "name": "stdout"
        },
        {
          "output_type": "stream",
          "text": [
            "/usr/local/lib/python3.7/dist-packages/ipykernel_launcher.py:53: VisibleDeprecationWarning: Creating an ndarray from ragged nested sequences (which is a list-or-tuple of lists-or-tuples-or ndarrays with different lengths or shapes) is deprecated. If you meant to do this, you must specify 'dtype=object' when creating the ndarray\n"
          ],
          "name": "stderr"
        },
        {
          "output_type": "stream",
          "text": [
            "[-153. -114. -116. -150. -115. -136. -150. -116. -118. -115. -114. -119.\n",
            " -114. -151. -111. -141. -116. -154. -178. -178. -113. -116. -116. -183.\n",
            " -172. -115. -150. -122. -116. -153. -112. -148. -113. -114. -150. -116.\n",
            " -162. -113. -115. -114. -154. -116. -144. -154. -141. -115. -114. -146.\n",
            " -111. -144. -160. -186. -118. -187. -151. -112. -152. -166. -137. -114.\n",
            " -111. -172. -116. -116. -146. -169. -115. -195. -120. -114. -188. -144.\n",
            " -113. -149. -115. -170. -142. -112. -113. -111. -116. -163. -115. -115.\n",
            " -115. -175. -175. -110. -115. -114. -155. -114. -117. -115. -115. -115.\n",
            " -118. -116. -151. -180. -149. -114. -114. -147. -114. -189. -115. -113.\n",
            " -180. -115. -121. -112. -150. -155. -197. -113. -114. -113. -118. -124.\n",
            " -150. -190. -112. -117. -143. -112. -122. -117. -112. -145. -140. -147.\n",
            " -203. -194. -115. -115. -114. -149. -192. -113. -152. -114. -153. -114.\n",
            " -147. -142. -114. -160. -113. -115. -146. -180. -114. -117. -142. -117.\n",
            " -175. -113. -116. -119. -114. -114. -116. -118. -153. -141. -143. -143.\n",
            " -145. -139. -114. -114. -113. -147. -112. -114. -113. -116. -148. -111.\n",
            " -117. -114. -177. -127. -118. -144. -114. -149. -199. -117. -149. -112.\n",
            " -115. -122. -140. -176. -154. -117. -116. -115. -113. -152. -122. -111.\n",
            " -180. -116. -116. -142. -114. -119. -114. -196. -149. -113. -116. -120.\n",
            " -114. -111. -178. -118. -114. -115. -196. -114. -188. -116. -114. -137.\n",
            " -119. -115. -163. -114. -119. -146. -111. -111. -114. -185. -152. -111.\n",
            " -190. -157. -115. -149. -202. -115. -113. -118. -111. -112.]\n",
            "61\n"
          ],
          "name": "stdout"
        },
        {
          "output_type": "stream",
          "text": [
            "/usr/local/lib/python3.7/dist-packages/ipykernel_launcher.py:53: VisibleDeprecationWarning: Creating an ndarray from ragged nested sequences (which is a list-or-tuple of lists-or-tuples-or ndarrays with different lengths or shapes) is deprecated. If you meant to do this, you must specify 'dtype=object' when creating the ndarray\n"
          ],
          "name": "stderr"
        },
        {
          "output_type": "stream",
          "text": [
            "[-118. -114. -114. -113. -119. -153. -113. -131. -158. -112. -114. -161.\n",
            " -114. -196. -116. -113. -112. -112. -112. -190. -118. -114. -114. -113.\n",
            " -114. -111. -113. -113. -124. -141. -116. -114. -149. -161. -112. -114.\n",
            " -115. -166. -146. -110. -192. -116. -148. -177. -112. -196. -112. -114.\n",
            " -145. -112. -111. -151. -194. -111. -110. -111. -115. -116. -121. -114.\n",
            " -158. -167. -158. -114. -114. -114. -166. -119. -113. -119. -155. -113.\n",
            " -117. -114. -113. -115. -117. -115. -196. -126. -115. -146. -116. -117.\n",
            " -112. -117. -112. -157. -110. -116. -114. -122. -194. -116. -219. -120.\n",
            " -156. -114. -115. -151. -147. -112. -111. -150. -157. -114. -120. -112.\n",
            " -154. -188. -174. -143. -115. -112. -117. -114. -112. -139. -141. -112.\n",
            " -113. -133. -116. -165. -114. -154. -113. -114. -114. -115. -147. -115.\n",
            " -112. -153. -113. -114. -115. -113. -113. -111. -152. -112. -118. -180.\n",
            " -164. -167. -153. -147. -115. -183. -123. -112. -169. -117. -112. -122.\n",
            " -153. -115. -117. -124. -114. -155. -116. -117. -120. -110. -111. -124.\n",
            " -117. -111. -111. -112. -193. -114. -174. -151. -113. -140. -130. -117.\n",
            " -113. -115. -189. -114. -175. -113. -112. -114. -196. -147. -112. -113.\n",
            " -114. -114. -147. -112. -113. -113. -112. -160. -152. -190. -111. -206.\n",
            " -114. -117. -115. -115. -112. -157. -112. -111. -198. -114. -117. -112.\n",
            " -113. -115. -154. -181. -153. -117. -141. -118. -143. -117. -111. -138.\n",
            " -153. -145. -113. -119. -147. -184. -115. -166. -112. -112. -151. -143.\n",
            " -162. -148. -112. -112. -115. -115. -113. -119. -146. -159.]\n",
            "62\n"
          ],
          "name": "stdout"
        },
        {
          "output_type": "stream",
          "text": [
            "/usr/local/lib/python3.7/dist-packages/ipykernel_launcher.py:53: VisibleDeprecationWarning: Creating an ndarray from ragged nested sequences (which is a list-or-tuple of lists-or-tuples-or ndarrays with different lengths or shapes) is deprecated. If you meant to do this, you must specify 'dtype=object' when creating the ndarray\n"
          ],
          "name": "stderr"
        },
        {
          "output_type": "stream",
          "text": [
            "[-111. -196. -114. -122. -126. -120. -112. -118. -186. -113. -114. -114.\n",
            " -114. -115. -112. -114. -115. -114. -171. -137. -196. -114. -191. -112.\n",
            " -112. -113. -114. -112. -114. -118. -110. -109. -111. -114. -110. -136.\n",
            " -108. -113. -151. -113. -113. -111. -113. -184. -184. -111. -140. -114.\n",
            " -115. -153. -148. -114. -112. -110. -116. -110. -157. -166. -112. -110.\n",
            " -113. -114. -116. -113. -113. -124. -147. -109. -112. -109. -114. -115.\n",
            " -113. -119. -110. -115. -112. -152. -117. -113. -165. -111. -116. -120.\n",
            " -151. -110. -116. -177. -112. -114. -113. -121. -112. -133. -111. -113.\n",
            " -155. -115. -114. -116. -150. -117. -128. -115. -114. -182. -145. -213.\n",
            " -122. -126. -119. -184. -114. -153. -173. -116. -125. -118. -118. -118.\n",
            " -138. -199. -149. -147. -178. -111. -114. -112. -113. -112. -114. -184.\n",
            " -149. -150. -188. -113. -143. -114. -178. -114. -152. -115. -115. -115.\n",
            " -149. -112. -154. -111. -156. -199. -112. -117. -113. -165. -173. -175.\n",
            " -128. -121. -114. -111. -179. -122. -115. -186. -112. -112. -150. -175.\n",
            " -148. -206. -110. -158. -115. -118. -144. -114. -111. -116. -121. -149.\n",
            " -115. -114. -122. -110. -164. -115. -112. -154. -148. -175. -112. -116.\n",
            " -146. -112. -115. -111. -147. -159. -115. -118. -115. -152. -159. -155.\n",
            " -204. -155. -114. -144. -149. -114. -114. -193. -119. -110. -117. -113.\n",
            " -151. -114. -116. -116. -150. -116. -154. -150. -112. -113. -150. -114.\n",
            " -144. -114. -140. -113. -112. -144. -112. -148. -111. -129. -148. -112.\n",
            " -156. -152. -156. -187. -117. -118. -145. -112. -116. -145.]\n",
            "63\n"
          ],
          "name": "stdout"
        },
        {
          "output_type": "stream",
          "text": [
            "/usr/local/lib/python3.7/dist-packages/ipykernel_launcher.py:53: VisibleDeprecationWarning: Creating an ndarray from ragged nested sequences (which is a list-or-tuple of lists-or-tuples-or ndarrays with different lengths or shapes) is deprecated. If you meant to do this, you must specify 'dtype=object' when creating the ndarray\n"
          ],
          "name": "stderr"
        },
        {
          "output_type": "stream",
          "text": [
            "[-110. -112. -114. -117. -113. -153. -192. -117. -148. -113. -116. -121.\n",
            " -116. -114. -153. -109. -149. -111. -111. -135. -168. -155. -114. -116.\n",
            " -149. -114. -163. -112. -112. -113. -119. -118. -112. -113. -171. -156.\n",
            " -116. -114. -215. -110. -114. -191. -143. -157. -117. -111. -189. -113.\n",
            " -114. -112. -116. -112. -112. -149. -147. -116. -152. -151. -140. -114.\n",
            " -113. -111. -165. -126. -121. -113. -114. -120. -113. -112. -156. -111.\n",
            " -149. -164. -111. -115. -117. -116. -111. -146. -114. -132. -120. -144.\n",
            " -110. -113. -119. -117. -112. -114. -116. -114. -158. -157. -150. -117.\n",
            " -111. -152. -112. -196. -115. -112. -114. -148. -170. -155. -116. -117.\n",
            " -152. -116. -114. -112. -112. -140. -109. -115. -114. -113. -173. -113.\n",
            " -115. -112. -114. -122. -154. -108. -145. -141. -148. -152. -115. -112.\n",
            " -113. -113. -153. -112. -120. -111. -116. -113. -113. -114. -142. -112.\n",
            " -112. -112. -119. -142. -174. -115. -146. -108. -113. -139. -117. -118.\n",
            " -115. -192. -113. -117. -114. -110. -209. -110. -185. -113. -121. -112.\n",
            " -122. -111. -113. -110. -114. -114. -113. -151. -170. -205. -151. -128.\n",
            " -113. -151. -114. -122. -112. -111. -212. -174. -160. -114. -115. -112.\n",
            " -113. -114. -112. -182. -138. -174. -112. -109. -111. -114. -192. -111.\n",
            " -120. -145. -149. -119. -149. -112. -166. -112. -116. -184. -212. -176.\n",
            " -112. -112. -126. -146. -148. -110. -110. -190. -114. -186. -119. -111.\n",
            " -142. -114. -115. -124. -163. -161. -115. -118. -157. -110. -116. -208.\n",
            " -148. -142. -113. -114. -119. -199. -113. -111. -158. -113.]\n",
            "64\n"
          ],
          "name": "stdout"
        },
        {
          "output_type": "stream",
          "text": [
            "/usr/local/lib/python3.7/dist-packages/ipykernel_launcher.py:53: VisibleDeprecationWarning: Creating an ndarray from ragged nested sequences (which is a list-or-tuple of lists-or-tuples-or ndarrays with different lengths or shapes) is deprecated. If you meant to do this, you must specify 'dtype=object' when creating the ndarray\n"
          ],
          "name": "stderr"
        },
        {
          "output_type": "stream",
          "text": [
            "[-115. -126. -112. -145. -115. -176. -146. -123. -157. -118. -157. -129.\n",
            " -151. -148. -108. -117. -113. -147. -110. -157. -205. -115. -117. -114.\n",
            " -114. -114. -111. -114. -214. -115. -147. -115. -112. -112. -111. -114.\n",
            " -152. -114. -112. -144. -110. -114. -155. -155. -119. -149. -116. -112.\n",
            " -117. -113. -112. -128. -112. -158. -143. -112. -115. -115. -111. -115.\n",
            " -112. -148. -117. -108. -113. -137. -114. -153. -150. -113. -112. -194.\n",
            " -111. -112. -110. -111. -116. -147. -112. -154. -115. -111. -117. -152.\n",
            " -121. -115. -151. -145. -126. -156. -117. -116. -149. -145. -112. -113.\n",
            " -174. -113. -110. -110. -114. -121. -113. -226. -113. -153. -183. -119.\n",
            " -176. -111. -151. -121. -112. -155. -141. -115. -118. -128. -149. -114.\n",
            " -110. -113. -112. -115. -147. -120. -118. -142. -148. -114. -114. -111.\n",
            " -116. -113. -140. -114. -140. -112. -145. -204. -111. -194. -113. -112.\n",
            " -155. -112. -129. -152. -112. -112. -111. -112. -154. -145. -150. -111.\n",
            " -114. -153. -110. -112. -151. -152. -150. -119. -112. -143. -113. -112.\n",
            " -171. -158. -112. -115. -118. -109. -110. -198. -114. -129. -110. -114.\n",
            " -113. -116. -110. -112. -111. -148. -116. -114. -114. -115. -113. -111.\n",
            " -120. -115. -114. -148. -163. -222. -111. -114. -161. -114. -176. -163.\n",
            " -186. -114. -111. -115. -112. -112. -122. -158. -118. -115. -191. -118.\n",
            " -143. -116. -120. -125. -112. -162. -115. -119. -119. -110. -115. -117.\n",
            " -192. -117. -112. -149. -148. -161. -113. -148. -107. -115. -153. -110.\n",
            " -151. -117. -114. -114. -147. -160. -164. -156. -174. -114.]\n",
            "65\n"
          ],
          "name": "stdout"
        },
        {
          "output_type": "stream",
          "text": [
            "/usr/local/lib/python3.7/dist-packages/ipykernel_launcher.py:53: VisibleDeprecationWarning: Creating an ndarray from ragged nested sequences (which is a list-or-tuple of lists-or-tuples-or ndarrays with different lengths or shapes) is deprecated. If you meant to do this, you must specify 'dtype=object' when creating the ndarray\n"
          ],
          "name": "stderr"
        },
        {
          "output_type": "stream",
          "text": [
            "[-114. -126. -176. -146. -138. -180. -112. -117. -113. -115. -113. -112.\n",
            " -118. -109. -151. -182. -157. -197. -197. -163. -110. -175. -110. -188.\n",
            " -114. -196. -169. -142. -115. -117. -111. -112. -148. -113. -113. -167.\n",
            " -112. -142. -112. -150. -114. -112. -144. -113. -110. -113. -164. -142.\n",
            " -131. -110. -143. -115. -107. -175. -112. -119. -112. -113. -113. -147.\n",
            " -114. -150. -115. -115. -154. -166. -111. -153. -115. -150. -110. -113.\n",
            " -160. -117. -154. -156. -119. -113. -110. -118. -112. -153. -114. -173.\n",
            " -127. -111. -145. -113. -149. -111. -111. -156. -144. -146. -144. -114.\n",
            " -154. -152. -112. -114. -146. -120. -120. -147. -155. -169. -118. -161.\n",
            " -112. -112. -114. -111. -114. -161. -114. -113. -158. -161. -141. -114.\n",
            " -140. -116. -116. -113. -113. -115. -112. -119. -111. -140. -112. -141.\n",
            " -157. -114. -110. -109. -133. -153. -137. -113. -111. -112. -116. -113.\n",
            " -111. -108. -119. -182. -183. -195. -112. -145. -111. -123. -115. -153.\n",
            " -124. -114. -113. -116. -115. -143. -152. -146. -147. -198. -114. -156.\n",
            " -112. -114. -136. -113. -108. -120. -153. -155. -115. -112. -115. -112.\n",
            " -118. -111. -180. -159. -148. -148. -148. -124. -148. -114. -114. -154.\n",
            " -137. -116. -177. -144. -113. -114. -142. -115. -195. -112. -116. -160.\n",
            " -112. -119. -111. -113. -114. -177. -114. -112. -113. -113. -147. -113.\n",
            " -114. -114. -157. -113. -112. -111. -114. -112. -145. -123. -171. -115.\n",
            " -115. -112. -154. -113. -115. -112. -156. -114. -145. -115. -112. -111.\n",
            " -159. -155. -114. -146. -190. -114. -114. -204. -113. -116.]\n",
            "66\n"
          ],
          "name": "stdout"
        },
        {
          "output_type": "stream",
          "text": [
            "/usr/local/lib/python3.7/dist-packages/ipykernel_launcher.py:53: VisibleDeprecationWarning: Creating an ndarray from ragged nested sequences (which is a list-or-tuple of lists-or-tuples-or ndarrays with different lengths or shapes) is deprecated. If you meant to do this, you must specify 'dtype=object' when creating the ndarray\n"
          ],
          "name": "stderr"
        },
        {
          "output_type": "stream",
          "text": [
            "[-197. -116. -112. -150. -143. -111. -113. -181. -116. -110. -182. -135.\n",
            " -112. -109. -145. -114. -115. -113. -173. -113. -115. -203. -153. -112.\n",
            " -110. -110. -113. -113. -113. -114. -112. -153. -112. -114. -113. -149.\n",
            " -117. -115. -167. -109. -145. -111. -117. -195. -116. -122. -115. -112.\n",
            " -150. -178. -122. -114. -130. -110. -192. -161. -115. -114. -143. -182.\n",
            " -111. -115. -111. -184. -185. -115. -114. -115. -113. -153. -150. -275.\n",
            " -193. -113. -119. -113. -168. -115. -115. -148. -151. -168. -116. -112.\n",
            " -149. -150. -112. -163. -143. -112. -156. -112. -190. -182. -112. -112.\n",
            " -143. -111. -113. -142. -115. -149. -114. -112. -153. -113. -112. -154.\n",
            " -144. -113. -114. -119. -112. -187. -114. -113. -113. -114. -111. -114.\n",
            " -112. -113. -115. -114. -113. -186. -108. -116. -111. -166. -113. -210.\n",
            " -113. -120. -112. -148. -148. -114. -150. -114. -114. -112. -158. -115.\n",
            " -152. -115. -114. -152. -114. -117. -168. -111. -114. -151. -114. -113.\n",
            " -187. -116. -114. -172. -115. -118. -112. -111. -208. -153. -114. -148.\n",
            " -146. -112. -113. -113. -113. -114. -114. -173. -151. -193. -179. -116.\n",
            " -116. -110. -122. -159. -113. -111. -114. -112. -117. -113. -113. -146.\n",
            " -113. -111. -150. -114. -122. -177. -158. -112. -213. -112. -112. -115.\n",
            " -142. -118. -113. -114. -118. -147. -111. -214. -189. -128. -112. -116.\n",
            " -116. -121. -114. -187. -116. -113. -145. -115. -123. -122. -152. -113.\n",
            " -112. -115. -113. -111. -112. -114. -150. -172. -191. -111. -111. -117.\n",
            " -111. -164. -158. -114. -139. -115. -124. -116. -193. -113.]\n",
            "67\n"
          ],
          "name": "stdout"
        },
        {
          "output_type": "stream",
          "text": [
            "/usr/local/lib/python3.7/dist-packages/ipykernel_launcher.py:53: VisibleDeprecationWarning: Creating an ndarray from ragged nested sequences (which is a list-or-tuple of lists-or-tuples-or ndarrays with different lengths or shapes) is deprecated. If you meant to do this, you must specify 'dtype=object' when creating the ndarray\n"
          ],
          "name": "stderr"
        },
        {
          "output_type": "stream",
          "text": [
            "[-115. -113. -114. -124. -142. -126. -112. -114. -113. -115. -133. -114.\n",
            " -110. -113. -113. -111. -149. -111. -131. -149. -114. -177. -112. -115.\n",
            " -115. -158. -112. -120. -113. -153. -109. -113. -157. -113. -113. -193.\n",
            " -114. -111. -109. -194. -145. -197. -112. -203. -112. -111. -152. -184.\n",
            " -113. -204. -158. -116. -115. -115. -114. -147. -153. -110. -197. -112.\n",
            " -114. -113. -112. -115. -116. -114. -112. -175. -159. -111. -112. -113.\n",
            " -108. -141. -145. -112. -113. -112. -211. -110. -124. -203. -115. -171.\n",
            " -110. -112. -112. -155. -116. -155. -151. -112. -113. -112. -150. -141.\n",
            " -111. -179. -130. -143. -111. -119. -146. -114. -115. -171. -207. -183.\n",
            " -132. -112. -111. -208. -197. -112. -123. -115. -110. -111. -111. -154.\n",
            " -114. -112. -113. -111. -188. -182. -111. -113. -113. -116. -130. -148.\n",
            " -113. -143. -116. -186. -111. -112. -118. -189. -110. -112. -175. -113.\n",
            " -148. -116. -138. -161. -116. -151. -113. -150. -114. -148. -151. -150.\n",
            " -113. -116. -119. -166. -114. -112. -118. -110. -112. -113. -113. -156.\n",
            " -113. -113. -113. -113. -113. -115. -148. -155. -114. -144. -112. -152.\n",
            " -112. -114. -112. -113. -114. -153. -149. -157. -115. -116. -206. -113.\n",
            " -193. -112. -149. -112. -113. -114. -112. -145. -116. -121. -199. -114.\n",
            " -113. -179. -112. -122. -160. -133. -156. -111. -160. -112. -113. -116.\n",
            " -111. -115. -135. -112. -112. -186. -110. -117. -113. -116. -113. -112.\n",
            " -111. -119. -113. -156. -143. -143. -112. -114. -116. -112. -147. -153.\n",
            " -194. -111. -113. -113. -149. -117. -111. -113. -156. -110.]\n",
            "68\n"
          ],
          "name": "stdout"
        },
        {
          "output_type": "stream",
          "text": [
            "/usr/local/lib/python3.7/dist-packages/ipykernel_launcher.py:53: VisibleDeprecationWarning: Creating an ndarray from ragged nested sequences (which is a list-or-tuple of lists-or-tuples-or ndarrays with different lengths or shapes) is deprecated. If you meant to do this, you must specify 'dtype=object' when creating the ndarray\n"
          ],
          "name": "stderr"
        },
        {
          "output_type": "stream",
          "text": [
            "[-115. -113. -113. -109. -154. -153. -111. -113. -112. -114. -113. -113.\n",
            " -113. -110. -138. -113. -149. -137. -117. -110. -116. -195. -120. -118.\n",
            " -148. -108. -149. -148. -112. -112. -144. -143. -115. -131. -115. -112.\n",
            " -147. -129. -203. -146. -112. -113. -185. -157. -163. -112. -187. -116.\n",
            " -143. -136. -164. -109. -115. -113. -152. -147. -190. -111. -113. -140.\n",
            " -112. -113. -111. -116. -114. -112. -113. -113. -113. -149. -147. -150.\n",
            " -164. -113. -113. -113. -120. -111. -114. -153. -112. -116. -144. -199.\n",
            " -113. -112. -154. -198. -113. -192. -152. -142. -115. -110. -123. -138.\n",
            " -157. -114. -115. -114. -115. -139. -111. -165. -143. -151. -114. -114.\n",
            " -111. -154. -180. -113. -118. -110. -150. -111. -151. -108. -151. -192.\n",
            " -130. -153. -111. -109. -174. -148. -199. -111. -120. -114. -111. -156.\n",
            " -114. -146. -110. -114. -160. -112. -112. -113. -157. -146. -112. -189.\n",
            " -149. -183. -177. -115. -113. -174. -146. -110. -145. -154. -150. -156.\n",
            " -108. -184. -109. -153. -134. -111. -114. -115. -163. -124. -110. -124.\n",
            " -114. -141. -145. -109. -160. -119. -152. -115. -156. -145. -189. -114.\n",
            " -176. -115. -190. -128. -110. -157. -146. -112. -160. -114. -148. -122.\n",
            " -114. -158. -142. -114. -115. -215. -149. -193. -110. -145. -114. -155.\n",
            " -119. -151. -110. -142. -113. -139. -115. -114. -118. -116. -112. -152.\n",
            " -111. -111. -115. -115. -116. -176. -165. -148. -112. -115. -111. -159.\n",
            " -112. -111. -113. -142. -198. -149. -113. -111. -188. -113. -113. -112.\n",
            " -114. -124. -121. -147. -112. -196. -109. -113. -112. -145.]\n",
            "69\n"
          ],
          "name": "stdout"
        },
        {
          "output_type": "stream",
          "text": [
            "/usr/local/lib/python3.7/dist-packages/ipykernel_launcher.py:53: VisibleDeprecationWarning: Creating an ndarray from ragged nested sequences (which is a list-or-tuple of lists-or-tuples-or ndarrays with different lengths or shapes) is deprecated. If you meant to do this, you must specify 'dtype=object' when creating the ndarray\n"
          ],
          "name": "stderr"
        },
        {
          "output_type": "stream",
          "text": [
            "[-153. -113. -113. -150. -114. -149. -113. -115. -111. -143. -115. -112.\n",
            " -192. -121. -189. -114. -146. -151. -113. -144. -119. -118. -112. -113.\n",
            " -113. -114. -117. -111. -111. -109. -150. -112. -116. -147. -110. -114.\n",
            " -111. -115. -111. -165. -156. -153. -113. -113. -113. -201. -113. -155.\n",
            " -144. -113. -114. -151. -112. -115. -152. -113. -113. -132. -107. -113.\n",
            " -108. -112. -145. -144. -110. -141. -146. -151. -114. -123. -139. -113.\n",
            " -114. -146. -114. -110. -112. -113. -112. -166. -113. -111. -194. -110.\n",
            " -112. -113. -112. -113. -199. -151. -166. -143. -111. -154. -147. -141.\n",
            " -114. -140. -111. -113. -111. -153. -154. -113. -111. -112. -111. -113.\n",
            " -154. -112. -130. -112. -183. -112. -114. -113. -113. -146. -111. -109.\n",
            " -113. -169. -233. -198. -180. -111. -109. -158. -113. -108. -185. -169.\n",
            " -185. -112. -115. -115. -114. -111. -112. -111. -204. -115. -111. -149.\n",
            " -147. -111. -115. -191. -112. -114. -114. -114. -112. -153. -112. -144.\n",
            " -115. -122. -200. -139. -149. -149. -179. -114. -112. -114. -111. -140.\n",
            " -111. -131. -113. -117. -157. -116. -197. -139. -147. -184. -149. -115.\n",
            " -114. -112. -201. -167. -114. -141. -114. -112. -115. -113. -114. -116.\n",
            " -185. -109. -111. -111. -113. -128. -115. -111. -209. -136. -192. -153.\n",
            " -113. -116. -120. -143. -143. -109. -112. -111. -110. -111. -112. -115.\n",
            " -111. -114. -110. -110. -110. -146. -122. -112. -112. -111. -205. -114.\n",
            " -112. -120. -113. -113. -111. -195. -146. -110. -110. -176. -117. -113.\n",
            " -109. -143. -149. -148. -110. -153. -112. -129. -137. -108.]\n",
            "70\n"
          ],
          "name": "stdout"
        },
        {
          "output_type": "stream",
          "text": [
            "/usr/local/lib/python3.7/dist-packages/ipykernel_launcher.py:53: VisibleDeprecationWarning: Creating an ndarray from ragged nested sequences (which is a list-or-tuple of lists-or-tuples-or ndarrays with different lengths or shapes) is deprecated. If you meant to do this, you must specify 'dtype=object' when creating the ndarray\n"
          ],
          "name": "stderr"
        },
        {
          "output_type": "stream",
          "text": [
            "[-144. -154. -111. -112. -144. -117. -114. -122. -145. -158. -191. -147.\n",
            " -112. -110. -115. -164. -217. -109. -109. -113. -113. -141. -109. -114.\n",
            " -114. -146. -106. -112. -112. -110. -118. -143. -112. -142. -199. -112.\n",
            " -187. -141. -147. -111. -109. -111. -109. -109. -112. -112. -172. -118.\n",
            " -111. -110. -191. -144. -176. -153. -113. -112. -116. -150. -111. -121.\n",
            " -135. -151. -111. -109. -113. -110. -142. -112. -138. -190. -112. -110.\n",
            " -175. -110. -109. -173. -145. -159. -197. -146. -141. -111. -152. -144.\n",
            " -117. -111. -146. -154. -154. -156. -150. -137. -113. -111. -111. -149.\n",
            " -111. -116. -177. -140. -111. -147. -113. -115. -119. -196. -133. -142.\n",
            " -115. -148. -112. -111. -112. -114. -110. -141. -112. -110. -108. -108.\n",
            " -113. -142. -109. -110. -115. -148. -111. -154. -113. -114. -168. -115.\n",
            " -149. -195. -115. -126. -156. -114. -111. -116. -111. -146. -117. -112.\n",
            " -144. -141. -141. -109. -114. -150. -113. -110. -152. -112. -110. -111.\n",
            " -114. -110. -116. -179. -141. -112. -108. -115. -112. -116. -175. -171.\n",
            " -111. -211. -115. -118. -109. -146. -116. -109. -180. -112. -141. -175.\n",
            " -111. -138. -112. -110. -109. -119. -146. -150. -114. -146. -113. -113.\n",
            " -197. -116. -109. -144. -178. -195. -114. -142. -146. -144. -152. -132.\n",
            " -111. -124. -146. -114. -148. -140. -113. -143. -111. -109. -110. -114.\n",
            " -110. -147. -111. -114. -154. -152. -148. -110. -146. -142. -111. -146.\n",
            " -184. -186. -113. -116. -113. -145. -109. -109. -112. -144. -115. -112.\n",
            " -111. -109. -111. -115. -112. -114. -112. -151. -163. -114.]\n",
            "71\n"
          ],
          "name": "stdout"
        },
        {
          "output_type": "stream",
          "text": [
            "/usr/local/lib/python3.7/dist-packages/ipykernel_launcher.py:53: VisibleDeprecationWarning: Creating an ndarray from ragged nested sequences (which is a list-or-tuple of lists-or-tuples-or ndarrays with different lengths or shapes) is deprecated. If you meant to do this, you must specify 'dtype=object' when creating the ndarray\n"
          ],
          "name": "stderr"
        },
        {
          "output_type": "stream",
          "text": [
            "[-157. -110. -144. -110. -148. -109. -113. -112. -145. -114. -113. -114.\n",
            " -146. -142. -112. -112. -135. -176. -116. -109. -134. -116. -116. -111.\n",
            " -114. -111. -186. -111. -112. -120. -111. -109. -110. -148. -112. -112.\n",
            " -112. -144. -114. -114. -115. -120. -110. -145. -139. -111. -112. -147.\n",
            " -194. -152. -113. -110. -112. -114. -110. -112. -140. -177. -115. -115.\n",
            " -147. -113. -112. -110. -177. -113. -110. -114. -204. -113. -112. -111.\n",
            " -109. -108. -117. -110. -153. -114. -113. -150. -113. -110. -147. -109.\n",
            " -111. -110. -113. -114. -158. -113. -120. -113. -139. -112. -180. -110.\n",
            " -147. -111. -115. -132. -147. -112. -188. -124. -111. -112. -135. -186.\n",
            " -110. -145. -163. -115. -200. -134. -111. -117. -117. -110. -140. -140.\n",
            " -173. -114. -160. -142. -111. -112. -171. -113. -111. -115. -147. -111.\n",
            " -113. -141. -141. -113. -113. -163. -114. -194. -143. -143. -148. -112.\n",
            " -115. -113. -116. -111. -109. -113. -210. -111. -147. -147. -154. -164.\n",
            " -150. -111. -151. -115. -117. -110. -168. -114. -112. -114. -160. -112.\n",
            " -186. -111. -114. -112. -158. -147. -201. -114. -156. -153. -156. -111.\n",
            " -113. -189. -193. -150. -114. -109. -146. -201. -112. -144. -113. -144.\n",
            " -109. -109. -128. -145. -113. -115. -110. -110. -111. -112. -113. -116.\n",
            " -112. -109. -110. -142. -111. -201. -111. -114. -156. -113. -113. -123.\n",
            " -110. -144. -112. -112. -111. -113. -142. -176. -143. -113. -114. -192.\n",
            " -113. -125. -147. -145. -111. -176. -111. -142. -141. -173. -113. -148.\n",
            " -150. -139. -112. -112. -147. -118. -112. -120. -143. -107.]\n",
            "72\n"
          ],
          "name": "stdout"
        },
        {
          "output_type": "stream",
          "text": [
            "/usr/local/lib/python3.7/dist-packages/ipykernel_launcher.py:53: VisibleDeprecationWarning: Creating an ndarray from ragged nested sequences (which is a list-or-tuple of lists-or-tuples-or ndarrays with different lengths or shapes) is deprecated. If you meant to do this, you must specify 'dtype=object' when creating the ndarray\n"
          ],
          "name": "stderr"
        },
        {
          "output_type": "stream",
          "text": [
            "[-114. -111. -113. -180. -150. -150. -148. -113. -184. -115. -163. -143.\n",
            " -142. -112. -145. -112. -112. -145. -142. -151. -113. -149. -174. -145.\n",
            " -149. -115. -109. -145. -181. -114. -113. -111. -144. -112. -193. -179.\n",
            " -147. -176. -109. -112. -109. -149. -110. -110. -110. -114. -112. -171.\n",
            " -116. -113. -110. -111. -195. -145. -111. -141. -113. -111. -112. -112.\n",
            " -113. -112. -196. -200. -112. -113. -112. -153. -219. -111. -139. -154.\n",
            " -185. -141. -112. -112. -116. -109. -113. -183. -113. -110. -114. -108.\n",
            " -112. -149. -112. -115. -111. -190. -148. -170. -143. -144. -144. -148.\n",
            " -113. -112. -113. -129. -108. -109. -147. -110. -111. -113. -111. -113.\n",
            " -112. -154. -113. -110. -113. -174. -114. -113. -115. -111. -112. -141.\n",
            " -147. -174. -192. -110. -147. -123. -155. -112. -112. -124. -167. -154.\n",
            " -110. -109. -145. -141. -138. -177. -113. -112. -136. -113. -142. -115.\n",
            " -108. -154. -111. -145. -140. -142. -109. -153. -111. -114. -112. -156.\n",
            " -122. -113. -144. -111. -142. -111. -150. -159. -112. -139. -112. -111.\n",
            " -112. -112. -151. -110. -110. -185. -149. -140. -109. -176. -112. -175.\n",
            " -183. -114. -112. -112. -145. -113. -114. -112. -112. -149. -111. -116.\n",
            " -113. -157. -198. -111. -194. -112. -110. -113. -137. -180. -182. -109.\n",
            " -111. -179. -111. -112. -112. -111. -149. -111. -123. -144. -113. -110.\n",
            " -147. -117. -112. -127. -119. -110. -109. -111. -144. -109. -152. -109.\n",
            " -170. -112. -160. -146. -111. -206. -194. -111. -112. -111. -146. -138.\n",
            " -141. -109. -148. -117. -113. -161. -114. -110. -173. -114.]\n",
            "73\n"
          ],
          "name": "stdout"
        },
        {
          "output_type": "stream",
          "text": [
            "/usr/local/lib/python3.7/dist-packages/ipykernel_launcher.py:53: VisibleDeprecationWarning: Creating an ndarray from ragged nested sequences (which is a list-or-tuple of lists-or-tuples-or ndarrays with different lengths or shapes) is deprecated. If you meant to do this, you must specify 'dtype=object' when creating the ndarray\n"
          ],
          "name": "stderr"
        },
        {
          "output_type": "stream",
          "text": [
            "[-149. -193. -111. -111. -114. -188. -110. -111. -168. -145. -187. -111.\n",
            " -112. -138. -201. -113. -109. -116. -140. -150. -204. -146. -118. -186.\n",
            " -148. -115. -113. -112. -119. -108. -109. -187. -150. -112. -148. -125.\n",
            " -111. -115. -112. -140. -164. -147. -180. -173. -143. -116. -148. -113.\n",
            " -112. -141. -110. -112. -111. -109. -144. -111. -148. -111. -150. -180.\n",
            " -119. -146. -202. -112. -188. -138. -159. -111. -111. -146. -111. -116.\n",
            " -110. -108. -111. -112. -112. -148. -112. -150. -186. -116. -145. -145.\n",
            " -141. -155. -112. -150. -109. -147. -110. -147. -113. -111. -143. -175.\n",
            " -169. -110. -110. -125. -114. -116. -113. -111. -148. -114. -113. -112.\n",
            " -110. -115. -110. -113. -110. -177. -149. -152. -114. -144. -159. -109.\n",
            " -148. -113. -145. -114. -142. -110. -167. -112. -112. -113. -112. -112.\n",
            " -110. -132. -113. -149. -108. -148. -118. -115. -114. -111. -111. -110.\n",
            " -177. -146. -150. -147. -110. -109. -144. -111. -112. -142. -115. -112.\n",
            " -154. -112. -110. -175. -111. -155. -110. -146. -174. -129. -111. -112.\n",
            " -112. -183. -112. -115. -107. -113. -111. -112. -113. -200. -111. -147.\n",
            " -113. -114. -111. -112. -112. -198. -146. -111. -110. -117. -109. -110.\n",
            " -110. -143. -141. -114. -122. -112. -111. -202. -115. -118. -111. -148.\n",
            " -115. -111. -113. -148. -148. -208. -171. -114. -161. -112. -112. -109.\n",
            " -113. -111. -151. -177. -111. -112. -126. -113. -144. -113. -113. -115.\n",
            " -117. -182. -112. -188. -157. -113. -188. -114. -110. -148. -113. -122.\n",
            " -112. -162. -109. -119. -111. -141. -214. -145. -112. -141.]\n",
            "74\n"
          ],
          "name": "stdout"
        },
        {
          "output_type": "stream",
          "text": [
            "/usr/local/lib/python3.7/dist-packages/ipykernel_launcher.py:53: VisibleDeprecationWarning: Creating an ndarray from ragged nested sequences (which is a list-or-tuple of lists-or-tuples-or ndarrays with different lengths or shapes) is deprecated. If you meant to do this, you must specify 'dtype=object' when creating the ndarray\n"
          ],
          "name": "stderr"
        },
        {
          "output_type": "stream",
          "text": [
            "[-110. -114. -111. -113. -110. -109. -113. -120. -183. -108. -190. -146.\n",
            " -109. -154. -111. -145. -155. -113. -181. -165. -110. -113. -149. -141.\n",
            " -109. -112. -110. -108. -147. -146. -111. -116. -115. -196. -115. -118.\n",
            " -111. -159. -150. -117. -147. -111. -113. -110. -113. -109. -111. -143.\n",
            " -112. -116. -156. -110. -147. -112. -142. -108. -180. -110. -111. -111.\n",
            " -113. -201. -111. -151. -112. -122. -112. -112. -112. -157. -112. -110.\n",
            " -114. -204. -108. -119. -113. -167. -113. -110. -111. -113. -153. -111.\n",
            " -166. -112. -138. -111. -111. -148. -145. -153. -109. -115. -111. -112.\n",
            " -109. -151. -112. -112. -198. -113. -114. -142. -114. -192. -151. -149.\n",
            " -145. -154. -142. -148. -111. -179. -112. -113. -115. -115. -115. -147.\n",
            " -111. -113. -184. -148. -177. -137. -111. -113. -163. -112. -123. -111.\n",
            " -113. -111. -111. -111. -113. -109. -118. -153. -108. -148. -112. -110.\n",
            " -109. -113. -166. -110. -113. -168. -112. -119. -114. -112. -148. -165.\n",
            " -120. -117. -138. -140. -171. -112. -111. -111. -111. -112. -144. -198.\n",
            " -108. -111. -165. -107. -144. -110. -113. -109. -110. -110. -146. -111.\n",
            " -108. -150. -112. -117. -112. -144. -175. -111. -145. -173. -145. -144.\n",
            " -148. -113. -180. -112. -110. -111. -110. -152. -147. -140. -173. -113.\n",
            " -138. -112. -112. -172. -113. -111. -144. -112. -110. -148. -111. -133.\n",
            " -109. -113. -175. -150. -167. -200. -113. -144. -147. -109. -144. -114.\n",
            " -110. -113. -148. -147. -145. -116. -147. -150. -146. -158. -112. -141.\n",
            " -110. -112. -124. -139. -113. -111. -110. -110. -111. -115.]\n",
            "75\n"
          ],
          "name": "stdout"
        },
        {
          "output_type": "stream",
          "text": [
            "/usr/local/lib/python3.7/dist-packages/ipykernel_launcher.py:53: VisibleDeprecationWarning: Creating an ndarray from ragged nested sequences (which is a list-or-tuple of lists-or-tuples-or ndarrays with different lengths or shapes) is deprecated. If you meant to do this, you must specify 'dtype=object' when creating the ndarray\n"
          ],
          "name": "stderr"
        },
        {
          "output_type": "stream",
          "text": [
            "[-110. -149. -147. -111. -149. -109. -158. -112. -124. -115. -154. -152.\n",
            " -143. -113. -156. -110. -155. -109. -107. -117. -113. -142. -140. -127.\n",
            " -142. -151. -147. -112. -111. -111. -147. -180. -181. -118. -146. -149.\n",
            " -146. -116. -144. -123. -140. -145. -149. -112. -110. -113. -111. -145.\n",
            " -112. -120. -151. -114. -170. -112. -114. -150. -107. -114. -139. -111.\n",
            " -110. -154. -113. -152. -111. -113. -109. -108. -139. -111. -112. -113.\n",
            " -114. -144. -109. -203. -109. -110. -148. -160. -147. -110. -153. -150.\n",
            " -141. -115. -110. -176. -146. -113. -110. -110. -151. -110. -147. -114.\n",
            " -154. -110. -142. -149. -153. -116. -190. -147. -154. -113. -151. -113.\n",
            " -141. -111. -113. -108. -150. -112. -109. -150. -112. -154. -113. -147.\n",
            " -114. -111. -147. -112. -111. -108. -114. -111. -110. -111. -150. -151.\n",
            " -109. -121. -111. -147. -113. -142. -186. -110. -146. -110. -143. -155.\n",
            " -114. -148. -119. -144. -151. -152. -111. -119. -154. -143. -114. -117.\n",
            " -114. -148. -111. -143. -113. -145. -113. -110. -143. -148. -112. -114.\n",
            " -147. -145. -145. -112. -150. -109. -149. -113. -109. -158. -113. -150.\n",
            " -202. -114. -115. -144. -173. -113. -142. -109. -114. -142. -143. -143.\n",
            " -112. -192. -144. -185. -111. -111. -111. -112. -188. -140. -112. -113.\n",
            " -112. -146. -109. -155. -172. -206. -109. -167. -111. -110. -119. -148.\n",
            " -110. -110. -148. -112. -115. -111. -184. -112. -109. -116. -158. -145.\n",
            " -145. -116. -141. -144. -108. -145. -145. -112. -115. -108. -110. -194.\n",
            " -110. -151. -108. -110. -113. -112. -150. -143. -113. -117.]\n",
            "76\n"
          ],
          "name": "stdout"
        },
        {
          "output_type": "stream",
          "text": [
            "/usr/local/lib/python3.7/dist-packages/ipykernel_launcher.py:53: VisibleDeprecationWarning: Creating an ndarray from ragged nested sequences (which is a list-or-tuple of lists-or-tuples-or ndarrays with different lengths or shapes) is deprecated. If you meant to do this, you must specify 'dtype=object' when creating the ndarray\n"
          ],
          "name": "stderr"
        },
        {
          "output_type": "stream",
          "text": [
            "[-112. -112. -109. -111. -112. -143. -113. -148. -151. -144. -149. -144.\n",
            " -111. -184. -113. -112. -115. -110. -149. -111. -144. -109. -111. -150.\n",
            " -110. -149. -115. -109. -113. -153. -112. -153. -117. -113. -143. -131.\n",
            " -108. -108. -113. -107. -112. -113. -145. -144. -144. -109. -149. -111.\n",
            " -111. -200. -192. -112. -111. -153. -112. -110. -112. -153. -111. -112.\n",
            " -108. -148. -112. -175. -113. -158. -181. -111. -148. -112. -113. -114.\n",
            " -112. -152. -112. -113. -143. -110. -109. -111. -111. -186. -149. -143.\n",
            " -143. -115. -144. -110. -145. -112. -109. -111. -112. -147. -111. -114.\n",
            " -113. -112. -109. -150. -145. -110. -202. -150. -148. -145. -150. -115.\n",
            " -115. -126. -110. -114. -149. -150. -145. -111. -114. -151. -112. -176.\n",
            " -152. -111. -115. -187. -112. -150. -153. -122. -113. -151. -112. -153.\n",
            " -144. -158. -145. -112. -112. -118. -150. -111. -145. -112. -142. -112.\n",
            " -143. -147. -171. -113. -191. -205. -145. -112. -111. -111. -148. -113.\n",
            " -147. -144. -111. -150. -197. -112. -148. -110. -145. -144. -110. -110.\n",
            " -190. -111. -146. -157. -147. -155. -147. -112. -109. -151. -109. -111.\n",
            " -194. -111. -148. -110. -111. -111. -153. -184. -200. -112. -114. -109.\n",
            " -112. -111. -147. -113. -185. -113. -111. -112. -109. -111. -150. -114.\n",
            " -151. -150. -150. -114. -112. -144. -110. -110. -112. -110. -113. -111.\n",
            " -113. -151. -170. -121. -111. -149. -152. -110. -142. -113. -150. -147.\n",
            " -112. -160. -114. -149. -156. -112. -151. -114. -110. -160. -142. -183.\n",
            " -111. -184. -144. -144. -145. -147. -145. -113. -147. -112.]\n",
            "77\n"
          ],
          "name": "stdout"
        },
        {
          "output_type": "stream",
          "text": [
            "/usr/local/lib/python3.7/dist-packages/ipykernel_launcher.py:53: VisibleDeprecationWarning: Creating an ndarray from ragged nested sequences (which is a list-or-tuple of lists-or-tuples-or ndarrays with different lengths or shapes) is deprecated. If you meant to do this, you must specify 'dtype=object' when creating the ndarray\n"
          ],
          "name": "stderr"
        },
        {
          "output_type": "stream",
          "text": [
            "[-144. -109. -110. -112. -110. -148. -111. -155. -111. -147. -115. -152.\n",
            " -110. -111. -111. -110. -109. -179. -113. -113. -115. -112. -151. -109.\n",
            " -111. -113. -110. -115. -122. -143. -113. -108. -144. -110. -111. -151.\n",
            " -110. -112. -113. -150. -108. -159. -111. -112. -112. -116. -110. -112.\n",
            " -145. -126. -111. -114. -140. -113. -113. -205. -192. -139. -111. -119.\n",
            " -140. -117. -110. -112. -111. -112. -111. -110. -148. -144. -145. -109.\n",
            " -111. -179. -111. -140. -116. -111. -151. -108. -112. -157. -147. -151.\n",
            " -147. -111. -111. -152. -113. -139. -110. -112. -118. -146. -114. -151.\n",
            " -117. -114. -111. -108. -147. -113. -112. -143. -149. -111. -120. -163.\n",
            " -111. -111. -169. -111. -109. -142. -145. -120. -114. -153. -116. -112.\n",
            " -146. -146. -145. -110. -173. -111. -120. -113. -112. -127. -111. -112.\n",
            " -113. -110. -112. -129. -151. -149. -112. -111. -147. -112. -109. -115.\n",
            " -111. -110. -111. -112. -110. -108. -112. -139. -114. -142. -134. -155.\n",
            " -110. -112. -111. -111. -147. -111. -112. -108. -114. -108. -144. -113.\n",
            " -170. -166. -202. -114. -190. -197. -151. -154. -110. -152. -112. -114.\n",
            " -179. -107. -108. -114. -187. -144. -126. -112. -114. -143. -150. -195.\n",
            " -145. -126. -109. -146. -115. -110. -140. -189. -112. -144. -110. -147.\n",
            " -158. -154. -148. -190. -112. -110. -112. -148. -144. -158. -144. -113.\n",
            " -142. -112. -150. -110. -157. -114. -121. -112. -192. -112. -200. -113.\n",
            " -112. -113. -115. -195. -114. -148. -113. -112. -111. -112. -110. -155.\n",
            " -144. -113. -111. -114. -108. -147. -110. -152. -148. -113.]\n",
            "78\n"
          ],
          "name": "stdout"
        },
        {
          "output_type": "stream",
          "text": [
            "/usr/local/lib/python3.7/dist-packages/ipykernel_launcher.py:53: VisibleDeprecationWarning: Creating an ndarray from ragged nested sequences (which is a list-or-tuple of lists-or-tuples-or ndarrays with different lengths or shapes) is deprecated. If you meant to do this, you must specify 'dtype=object' when creating the ndarray\n"
          ],
          "name": "stderr"
        },
        {
          "output_type": "stream",
          "text": [
            "[-110. -150. -111. -109. -114. -110. -120. -111. -114. -193. -112. -111.\n",
            " -182. -110. -112. -155. -147. -111. -110. -111. -115. -120. -112. -112.\n",
            " -149. -146. -149. -111. -159. -114. -113. -110. -111. -110. -111. -110.\n",
            " -111. -110. -112. -151. -155. -109. -113. -109. -145. -112. -147. -149.\n",
            " -174. -112. -158. -128. -112. -113. -110. -151. -112. -199. -113. -113.\n",
            " -146. -147. -115. -149. -146. -113. -127. -147. -147. -161. -115. -113.\n",
            " -114. -161. -109. -113. -113. -147. -140. -145. -182. -114. -146. -113.\n",
            " -111. -184. -144. -110. -110. -112. -111. -112. -110. -110. -146. -110.\n",
            " -142. -108. -111. -114. -172. -111. -112. -112. -153. -151. -110. -112.\n",
            " -196. -118. -147. -111. -143. -158. -111. -151. -211. -109. -113. -112.\n",
            " -113. -113. -141. -109. -113. -113. -154. -109. -113. -160. -113. -113.\n",
            " -176. -114. -112. -112. -113. -109. -147. -113. -109. -112. -150. -139.\n",
            " -109. -119. -146. -192. -143. -179. -113. -115. -113. -148. -115. -111.\n",
            " -115. -160. -113. -141. -108. -146. -147. -150. -144. -112. -148. -150.\n",
            " -117. -161. -114. -153. -114. -152. -160. -112. -112. -108. -113. -111.\n",
            " -113. -153. -112. -110. -112. -110. -141. -110. -114. -109. -155. -111.\n",
            " -111. -136. -112. -111. -150. -114. -151. -152. -110. -126. -107. -122.\n",
            " -111. -148. -108. -111. -149. -110. -113. -198. -111. -147. -117. -147.\n",
            " -146. -193. -113. -112. -145. -147. -133. -112. -113. -117. -113. -109.\n",
            " -113. -107. -117. -170. -122. -147. -173. -110. -110. -146. -192. -111.\n",
            " -109. -156. -144. -110. -136. -109. -149. -109. -109. -147.]\n",
            "79\n"
          ],
          "name": "stdout"
        },
        {
          "output_type": "stream",
          "text": [
            "/usr/local/lib/python3.7/dist-packages/ipykernel_launcher.py:53: VisibleDeprecationWarning: Creating an ndarray from ragged nested sequences (which is a list-or-tuple of lists-or-tuples-or ndarrays with different lengths or shapes) is deprecated. If you meant to do this, you must specify 'dtype=object' when creating the ndarray\n"
          ],
          "name": "stderr"
        },
        {
          "output_type": "stream",
          "text": [
            "[-112. -144. -113. -112. -147. -123. -134. -111. -113. -111. -111. -110.\n",
            " -110. -108. -113. -113. -117. -113. -144. -141. -146. -142. -110. -112.\n",
            " -180. -144. -109. -149. -181. -167. -113. -110. -115. -110. -111. -113.\n",
            " -110. -113. -111. -113. -184. -120. -189. -113. -152. -113. -108. -113.\n",
            " -112. -143. -113. -110. -118. -153. -112. -107. -112. -110. -146. -180.\n",
            " -110. -125. -111. -111. -124. -114. -112. -112. -140. -113. -147. -149.\n",
            " -111. -113. -113. -145. -110. -206. -141. -119. -112. -111. -113. -181.\n",
            " -108. -113. -113. -114. -112. -143. -111. -166. -145. -113. -112. -112.\n",
            " -113. -143. -113. -112. -150. -112. -142. -112. -152. -142. -109. -114.\n",
            " -143. -111. -114. -112. -140. -111. -150. -161. -113. -142. -112. -110.\n",
            " -110. -110. -109. -110. -110. -143. -109. -112. -113. -147. -179. -114.\n",
            " -113. -114. -112. -111. -112. -118. -111. -144. -111. -109. -140. -107.\n",
            " -111. -114. -111. -204. -144. -143. -168. -189. -114. -152. -111. -110.\n",
            " -197. -192. -111. -108. -112. -110. -113. -188. -111. -144. -146. -113.\n",
            " -114. -114. -110. -147. -111. -143. -113. -109. -111. -113. -111. -134.\n",
            " -112. -110. -192. -202. -112. -112. -166. -108. -111. -197. -109. -156.\n",
            " -142. -111. -168. -111. -147. -109. -149. -116. -147. -110. -110. -111.\n",
            " -112. -110. -111. -166. -154. -140. -180. -113. -149. -148. -190. -129.\n",
            " -158. -162. -164. -183. -148. -110. -110. -213. -109. -114. -109. -112.\n",
            " -111. -141. -111. -140. -125. -135. -110. -115. -145. -168. -150. -110.\n",
            " -111. -153. -110. -110. -111. -110. -142. -114. -187. -203.]\n",
            "80\n"
          ],
          "name": "stdout"
        },
        {
          "output_type": "stream",
          "text": [
            "/usr/local/lib/python3.7/dist-packages/ipykernel_launcher.py:53: VisibleDeprecationWarning: Creating an ndarray from ragged nested sequences (which is a list-or-tuple of lists-or-tuples-or ndarrays with different lengths or shapes) is deprecated. If you meant to do this, you must specify 'dtype=object' when creating the ndarray\n"
          ],
          "name": "stderr"
        },
        {
          "output_type": "stream",
          "text": [
            "[-112. -110. -203. -148. -186. -146. -110. -124. -108. -113. -109. -192.\n",
            " -138. -113. -111. -116. -112. -144. -159. -110. -114. -148. -108. -110.\n",
            " -112. -109. -145. -147. -180. -109. -109. -146. -111. -109. -140. -112.\n",
            " -113. -111. -111. -177. -113. -111. -115. -114. -177. -140. -110. -111.\n",
            " -112. -113. -111. -111. -145. -109. -114. -109. -113. -117. -109. -111.\n",
            " -112. -113. -109. -112. -148. -144. -110. -110. -142. -109. -151. -210.\n",
            " -178. -114. -107. -166. -151. -112. -115. -111. -112. -153. -112. -149.\n",
            " -111. -149. -188. -148. -110. -144. -156. -111. -152. -232. -138. -147.\n",
            " -148. -111. -112. -150. -117. -113. -148. -148. -118. -146. -173. -112.\n",
            " -113. -195. -145. -112. -108. -112. -150. -110. -111. -114. -110. -163.\n",
            " -142. -112. -111. -146. -153. -190. -114. -110. -114. -143. -111. -113.\n",
            " -110. -143. -187. -203. -114. -113. -110. -113. -112. -112. -112. -111.\n",
            " -109. -110. -202. -111. -143. -163. -108. -112. -112. -109. -112. -114.\n",
            " -110. -113. -149. -111. -178. -109. -110. -108. -107. -111. -154. -112.\n",
            " -111. -143. -112. -110. -112. -149. -111. -190. -111. -111. -148. -111.\n",
            " -109. -109. -111. -113. -114. -111. -113. -177. -113. -110. -181. -110.\n",
            " -112. -109. -113. -113. -114. -112. -109. -109. -111. -108. -152. -114.\n",
            " -150. -113. -110. -146. -148. -170. -174. -116. -139. -138. -116. -112.\n",
            " -111. -135. -147. -163. -108. -111. -144. -110. -109. -175. -113. -144.\n",
            " -111. -185. -110. -115. -112. -113. -114. -135. -111. -108. -145. -112.\n",
            " -109. -149. -109. -113. -112. -157. -150. -110. -112. -109.]\n",
            "81\n"
          ],
          "name": "stdout"
        },
        {
          "output_type": "stream",
          "text": [
            "/usr/local/lib/python3.7/dist-packages/ipykernel_launcher.py:53: VisibleDeprecationWarning: Creating an ndarray from ragged nested sequences (which is a list-or-tuple of lists-or-tuples-or ndarrays with different lengths or shapes) is deprecated. If you meant to do this, you must specify 'dtype=object' when creating the ndarray\n"
          ],
          "name": "stderr"
        },
        {
          "output_type": "stream",
          "text": [
            "[-140. -141. -145. -112. -112. -186. -147. -123. -143. -112. -146. -156.\n",
            " -147. -110. -114. -150. -157. -110. -111. -144. -111. -110. -182. -110.\n",
            " -112. -144. -108. -139. -111. -141. -150. -176. -143. -109. -142. -110.\n",
            " -111. -200. -128. -111. -113. -155. -153. -153. -112. -113. -113. -113.\n",
            " -144. -113. -116. -110. -154. -110. -108. -146. -113. -109. -139. -149.\n",
            " -146. -112. -110. -192. -112. -107. -150. -113. -154. -111. -109. -109.\n",
            " -112. -146. -113. -108. -111. -140. -109. -110. -145. -180. -144. -110.\n",
            " -110. -149. -120. -108. -110. -144. -109. -131. -145. -144. -111. -146.\n",
            " -146. -112. -111. -112. -145. -148. -143. -147. -111. -120. -143. -152.\n",
            " -108. -170. -112. -111. -112. -142. -148. -146. -109. -112. -132. -109.\n",
            " -147. -142. -112. -141. -109. -157. -177. -110. -152. -113. -112. -141.\n",
            " -147. -146. -110. -122. -168. -111. -110. -110. -141. -141. -145. -143.\n",
            " -145. -110. -141. -110. -152. -111. -110. -145. -143. -112. -144. -110.\n",
            " -181. -111. -146. -109. -187. -140. -113. -125. -108. -143. -183. -147.\n",
            " -114. -138. -148. -146. -112. -141. -140. -109. -148. -110. -112. -143.\n",
            " -182. -107. -143. -110. -148. -180. -109. -111. -149. -109. -143. -145.\n",
            " -201. -201. -147. -112. -112. -148. -141. -142. -107. -110. -112. -113.\n",
            " -168. -114. -173. -110. -145. -147. -111. -121. -154. -139. -117. -108.\n",
            " -112. -114. -110. -155. -187. -160. -145. -144. -119. -111. -112. -147.\n",
            " -144. -113. -108. -112. -169. -110. -144. -143. -147. -111. -143. -112.\n",
            " -110. -113. -147. -146. -148. -133. -190. -109. -111. -145.]\n",
            "82\n"
          ],
          "name": "stdout"
        },
        {
          "output_type": "stream",
          "text": [
            "/usr/local/lib/python3.7/dist-packages/ipykernel_launcher.py:53: VisibleDeprecationWarning: Creating an ndarray from ragged nested sequences (which is a list-or-tuple of lists-or-tuples-or ndarrays with different lengths or shapes) is deprecated. If you meant to do this, you must specify 'dtype=object' when creating the ndarray\n"
          ],
          "name": "stderr"
        },
        {
          "output_type": "stream",
          "text": [
            "[-114. -110. -168. -110. -129. -113. -141. -110. -114. -111. -163. -183.\n",
            " -148. -112. -108. -109. -146. -118. -110. -146. -146. -147. -114. -146.\n",
            " -112. -109. -146. -113. -163. -109. -114. -143. -114. -145. -110. -109.\n",
            " -112. -148. -137. -110. -111. -116. -146. -111. -113. -176. -145. -111.\n",
            " -138. -114. -110. -113. -155. -144. -143. -138. -190. -143. -111. -108.\n",
            " -113. -116. -167. -109. -111. -111. -146. -191. -146. -144. -107. -111.\n",
            " -113. -144. -115. -110. -113. -145. -149. -111. -111. -113. -109. -112.\n",
            " -154. -144. -112. -112. -111. -117. -145. -144. -110. -149. -146. -115.\n",
            " -147. -148. -113. -116. -108. -109. -113. -110. -179. -185. -110. -144.\n",
            " -151. -112. -113. -114. -111. -149. -128. -146. -112. -113. -197. -111.\n",
            " -141. -143. -110. -110. -112. -111. -177. -113. -109. -112. -148. -108.\n",
            " -110. -153. -158. -184. -149. -140. -110. -142. -109. -146. -144. -140.\n",
            " -112. -145. -143. -144. -186. -111. -148. -112. -110. -110. -143. -146.\n",
            " -142. -147. -146. -107. -111. -144. -109. -113. -143. -140. -120. -112.\n",
            " -149. -111. -109. -127. -145. -114. -141. -144. -110. -150. -147. -109.\n",
            " -160. -110. -142. -112. -144. -108. -146. -114. -136. -151. -191. -113.\n",
            " -176. -110. -145. -148. -111. -114. -112. -114. -142. -111. -141. -158.\n",
            " -110. -109. -149. -114. -121. -146. -127. -138. -143. -112. -159. -127.\n",
            " -115. -135. -109. -113. -110. -114. -112. -143. -113. -147. -111. -110.\n",
            " -154. -111. -138. -144. -111. -142. -116. -200. -205. -111. -149. -114.\n",
            " -145. -149. -111. -112. -108. -145. -144. -118. -147. -112.]\n",
            "83\n"
          ],
          "name": "stdout"
        },
        {
          "output_type": "stream",
          "text": [
            "/usr/local/lib/python3.7/dist-packages/ipykernel_launcher.py:53: VisibleDeprecationWarning: Creating an ndarray from ragged nested sequences (which is a list-or-tuple of lists-or-tuples-or ndarrays with different lengths or shapes) is deprecated. If you meant to do this, you must specify 'dtype=object' when creating the ndarray\n"
          ],
          "name": "stderr"
        },
        {
          "output_type": "stream",
          "text": [
            "[-111. -111. -176. -143. -151. -111. -110. -174. -141. -149. -143. -212.\n",
            " -177. -113. -191. -179. -144. -107. -111. -110. -144. -108. -113. -146.\n",
            " -107. -137. -171. -111. -150. -143. -113. -114. -112. -111. -141. -141.\n",
            " -110. -112. -182. -112. -191. -141. -114. -148. -108. -146. -134. -145.\n",
            " -110. -145. -110. -111. -112. -118. -109. -143. -110. -111. -112. -111.\n",
            " -112. -108. -176. -110. -198. -143. -148. -111. -112. -113. -151. -108.\n",
            " -108. -110. -133. -147. -113. -111. -146. -134. -149. -111. -107. -175.\n",
            " -110. -112. -111. -109. -109. -174. -113. -115. -147. -109. -154. -107.\n",
            " -110. -141. -112. -115. -111. -147. -141. -112. -140. -138. -148. -112.\n",
            " -140. -147. -108. -111. -150. -113. -146. -110. -110. -147. -113. -109.\n",
            " -113. -147. -109. -109. -152. -184. -113. -110. -111. -143. -124. -199.\n",
            " -110. -148. -194. -122. -136. -110. -180. -109. -111. -144. -113. -106.\n",
            " -110. -111. -111. -112. -147. -112. -119. -112. -112. -110. -113. -113.\n",
            " -121. -108. -152. -112. -108. -113. -113. -112. -111. -115. -151. -112.\n",
            " -154. -194. -147. -112. -109. -112. -114. -186. -108. -109. -113. -111.\n",
            " -148. -110. -111. -130. -111. -109. -145. -113. -143. -189. -111. -112.\n",
            " -145. -111. -111. -111. -186. -109. -112. -110. -108. -114. -112. -150.\n",
            " -111. -145. -146. -110. -112. -150. -150. -109. -113. -108. -110. -109.\n",
            " -202. -149. -110. -146. -109. -111. -108. -109. -136. -114. -110. -142.\n",
            " -112. -143. -109. -111. -156. -137. -143. -144. -113. -113. -145. -110.\n",
            " -149. -110. -111. -172. -112. -148. -147. -143. -154. -154.]\n",
            "84\n"
          ],
          "name": "stdout"
        },
        {
          "output_type": "stream",
          "text": [
            "/usr/local/lib/python3.7/dist-packages/ipykernel_launcher.py:53: VisibleDeprecationWarning: Creating an ndarray from ragged nested sequences (which is a list-or-tuple of lists-or-tuples-or ndarrays with different lengths or shapes) is deprecated. If you meant to do this, you must specify 'dtype=object' when creating the ndarray\n"
          ],
          "name": "stderr"
        },
        {
          "output_type": "stream",
          "text": [
            "[-113. -137. -109. -112. -109. -112. -109. -111. -141. -110. -109. -140.\n",
            " -108. -145. -153. -116. -150. -110. -139. -176. -112. -110. -111. -113.\n",
            " -114. -118. -144. -112. -114. -111. -113. -115. -111. -150. -112. -113.\n",
            " -111. -111. -146. -113. -111. -146. -144. -119. -143. -112. -200. -108.\n",
            " -144. -145. -155. -185. -112. -109. -110. -113. -158. -145. -144. -116.\n",
            " -110. -203. -109. -110. -119. -186. -110. -111. -141. -110. -114. -110.\n",
            " -110. -113. -112. -112. -110. -216. -113. -142. -142. -113. -119. -109.\n",
            " -138. -112. -140. -155. -111. -107. -114. -108. -111. -119. -110. -149.\n",
            " -146. -110. -111. -107. -148. -112. -111. -154. -110. -144. -111. -110.\n",
            " -199. -141. -110. -144. -114. -147. -143. -177. -113. -153. -109. -142.\n",
            " -149. -140. -112. -146. -106. -111. -109. -108. -141. -132. -110. -112.\n",
            " -144. -146. -112. -148. -186. -108. -113. -157. -111. -111. -147. -113.\n",
            " -110. -108. -114. -144. -205. -114. -108. -110. -145. -110. -110. -111.\n",
            " -109. -110. -111. -111. -116. -110. -109. -149. -124. -110. -109. -145.\n",
            " -113. -163. -108. -184. -113. -137. -110. -141. -112. -113. -109. -143.\n",
            " -110. -111. -113. -156. -148. -112. -112. -143. -118. -112. -149. -145.\n",
            " -209. -113. -117. -149. -110. -146. -112. -197. -116. -111. -144. -107.\n",
            " -106. -112. -112. -183. -111. -138. -111. -146. -112. -108. -144. -142.\n",
            " -121. -112. -143. -118. -110. -111. -107. -109. -190. -161. -149. -146.\n",
            " -112. -143. -115. -141. -111. -111. -110. -172. -113. -111. -112. -113.\n",
            " -113. -145. -112. -112. -138. -147. -189. -114. -112. -109.]\n",
            "85\n"
          ],
          "name": "stdout"
        },
        {
          "output_type": "stream",
          "text": [
            "/usr/local/lib/python3.7/dist-packages/ipykernel_launcher.py:53: VisibleDeprecationWarning: Creating an ndarray from ragged nested sequences (which is a list-or-tuple of lists-or-tuples-or ndarrays with different lengths or shapes) is deprecated. If you meant to do this, you must specify 'dtype=object' when creating the ndarray\n"
          ],
          "name": "stderr"
        },
        {
          "output_type": "stream",
          "text": [
            "[-188. -143. -147. -135. -145. -173. -113. -178. -109. -114. -115. -139.\n",
            " -181. -168. -112. -110. -109. -165. -152. -112. -178. -201. -154. -112.\n",
            " -113. -138. -147. -113. -161. -111. -111. -148. -149. -146. -163. -113.\n",
            " -110. -110. -143. -169. -109. -109. -109. -113. -142. -148. -110. -112.\n",
            " -142. -147. -107. -110. -153. -143. -111. -112. -108. -152. -108. -111.\n",
            " -111. -110. -139. -109. -112. -111. -149. -110. -145. -114. -140. -140.\n",
            " -147. -190. -111. -149. -111. -146. -111. -111. -108. -110. -111. -141.\n",
            " -113. -193. -112. -149. -145. -114. -111. -139. -143. -111. -146. -148.\n",
            " -141. -111. -162. -110. -114. -148. -114. -115. -112. -175. -146. -110.\n",
            " -147. -109. -142. -198. -111. -141. -151. -108. -147. -112. -169. -109.\n",
            " -150. -122. -140. -144. -170. -113. -141. -149. -184. -194. -147. -154.\n",
            " -147. -111. -119. -112. -109. -109. -141. -147. -108. -108. -140. -146.\n",
            " -169. -142. -111. -145. -109. -149. -154. -110. -105. -138. -112. -142.\n",
            " -188. -147. -172. -111. -112. -109. -111. -145. -109. -112. -191. -137.\n",
            " -109. -115. -176. -108. -108. -133. -112. -111. -113. -110. -111. -113.\n",
            " -113. -112. -110. -147. -113. -112. -150. -109. -146. -147. -144. -149.\n",
            " -109. -147. -110. -114. -210. -111. -193. -141. -149. -108. -145. -145.\n",
            " -145. -112. -113. -113. -144. -112. -115. -149. -111. -148. -136. -110.\n",
            " -109. -114. -110. -111. -107. -110. -137. -143. -111. -182. -115. -155.\n",
            " -110. -112. -112. -109. -111. -151. -112. -107. -111. -111. -188. -173.\n",
            " -107. -114. -110. -115. -112. -145. -125. -143. -113. -109.]\n",
            "86\n"
          ],
          "name": "stdout"
        },
        {
          "output_type": "stream",
          "text": [
            "/usr/local/lib/python3.7/dist-packages/ipykernel_launcher.py:53: VisibleDeprecationWarning: Creating an ndarray from ragged nested sequences (which is a list-or-tuple of lists-or-tuples-or ndarrays with different lengths or shapes) is deprecated. If you meant to do this, you must specify 'dtype=object' when creating the ndarray\n"
          ],
          "name": "stderr"
        },
        {
          "output_type": "stream",
          "text": [
            "[-110. -113. -145. -109. -108. -145. -108. -150. -113. -110. -109. -110.\n",
            " -111. -144. -110. -113. -141. -142. -146. -110. -114. -138. -146. -110.\n",
            " -143. -110. -108. -145. -112. -194. -130. -111. -109. -148. -142. -109.\n",
            " -147. -148. -142. -136. -139. -180. -145. -111. -144. -110. -111. -108.\n",
            " -149. -109. -140. -112. -142. -112. -139. -141. -112. -144. -113. -146.\n",
            " -139. -138. -183. -145. -144. -113. -140. -140. -136. -108. -106. -143.\n",
            " -107. -145. -143. -107. -116. -144. -109. -146. -108. -109. -144. -154.\n",
            " -111. -111. -108. -108. -148. -150. -110. -145. -176. -146. -141. -142.\n",
            " -174. -120. -146. -115. -146. -146. -140. -148. -143. -111. -110. -143.\n",
            " -112. -110. -147. -111. -192. -141. -201. -109. -115. -141. -111. -110.\n",
            " -190. -144. -111. -113. -111. -145. -108. -109. -186. -144. -148. -111.\n",
            " -112. -117. -200. -111. -145. -107. -109. -146. -115. -149. -143. -110.\n",
            " -139. -106. -136. -152. -147. -110. -110. -147. -109. -110. -113. -115.\n",
            " -109. -140. -112. -110. -109. -140. -174. -113. -117. -112. -109. -109.\n",
            " -149. -144. -110. -140. -109. -111. -110. -146. -147. -109. -110. -143.\n",
            " -112. -107. -125. -109. -108. -150. -149. -143. -150. -147. -111. -109.\n",
            " -108. -111. -141. -109. -120. -109. -144. -155. -145. -110. -141. -112.\n",
            " -110. -110. -137. -111. -140. -143. -145. -109. -113. -149. -144. -108.\n",
            " -110. -107. -148. -140. -110. -118. -145. -147. -109. -145. -110. -111.\n",
            " -108. -139. -148. -108. -111. -109. -140. -134. -131. -110. -147. -114.\n",
            " -140. -111. -110. -139. -109. -143. -141. -111. -147. -114.]\n",
            "87\n"
          ],
          "name": "stdout"
        },
        {
          "output_type": "stream",
          "text": [
            "/usr/local/lib/python3.7/dist-packages/ipykernel_launcher.py:53: VisibleDeprecationWarning: Creating an ndarray from ragged nested sequences (which is a list-or-tuple of lists-or-tuples-or ndarrays with different lengths or shapes) is deprecated. If you meant to do this, you must specify 'dtype=object' when creating the ndarray\n"
          ],
          "name": "stderr"
        },
        {
          "output_type": "stream",
          "text": [
            "[-138. -109. -186. -138. -177. -112. -108. -146. -111. -112. -112. -191.\n",
            " -177. -110. -141. -144. -138. -109. -147. -112. -112. -111. -139. -107.\n",
            " -144. -108. -112. -142. -144. -145. -148. -141. -110. -110. -107. -221.\n",
            " -123. -117. -110. -129. -110. -198. -145. -137. -114. -145. -147. -111.\n",
            " -115. -144. -139. -164. -111. -110. -144. -183. -144. -111. -145. -110.\n",
            " -147. -108. -132. -110. -112. -141. -113. -108. -111. -109. -114. -109.\n",
            " -108. -144. -115. -109. -108. -145. -112. -112. -142. -111. -169. -192.\n",
            " -140. -118. -111. -110. -193. -196. -144. -111. -198. -137. -109. -144.\n",
            " -110. -192. -108. -175. -112. -110. -113. -180. -110. -112. -111. -110.\n",
            " -143. -144. -108. -111. -140. -111. -144. -111. -149. -142. -110. -145.\n",
            " -140. -111. -109. -154. -112. -110. -110. -119. -111. -111. -150. -134.\n",
            " -181. -107. -145. -166. -115. -153. -113. -141. -136. -148. -110. -110.\n",
            " -143. -179. -112. -110. -109. -146. -164. -115. -109. -148. -196. -112.\n",
            " -113. -142. -138. -111. -109. -139. -109. -112. -146. -146. -172. -108.\n",
            " -141. -110. -194. -112. -150. -109. -143. -151. -144. -112. -109. -145.\n",
            " -109. -150. -146. -147. -136. -110. -112. -107. -145. -110. -108. -146.\n",
            " -145. -142. -113. -113. -178. -111. -150. -111. -147. -146. -113. -186.\n",
            " -118. -112. -141. -183. -113. -148. -140. -110. -143. -109. -188. -145.\n",
            " -108. -153. -151. -110. -110. -110. -140. -149. -144. -108. -110. -113.\n",
            " -110. -112. -148. -144. -110. -111. -144. -149. -145. -111. -146. -144.\n",
            " -168. -110. -141. -109. -140. -145. -138. -138. -143. -145.]\n",
            "88\n"
          ],
          "name": "stdout"
        },
        {
          "output_type": "stream",
          "text": [
            "/usr/local/lib/python3.7/dist-packages/ipykernel_launcher.py:53: VisibleDeprecationWarning: Creating an ndarray from ragged nested sequences (which is a list-or-tuple of lists-or-tuples-or ndarrays with different lengths or shapes) is deprecated. If you meant to do this, you must specify 'dtype=object' when creating the ndarray\n"
          ],
          "name": "stderr"
        },
        {
          "output_type": "stream",
          "text": [
            "[-111. -110. -181. -109. -110. -144. -145. -111. -109. -143. -152. -110.\n",
            " -112. -151. -109. -148. -114. -109. -111. -141. -149. -109. -144. -188.\n",
            " -140. -145. -108. -112. -155. -141. -147. -201. -112. -204. -109. -109.\n",
            " -142. -109. -137. -138. -109. -109. -110. -142. -111. -111. -113. -111.\n",
            " -143. -110. -114. -111. -110. -108. -109. -139. -110. -111. -113. -109.\n",
            " -109. -110. -111. -124. -140. -109. -155. -112. -143. -144. -137. -112.\n",
            " -112. -144. -111. -187. -155. -146. -112. -111. -142. -142. -111. -180.\n",
            " -144. -112. -111. -109. -149. -109. -108. -134. -147. -110. -111. -146.\n",
            " -115. -110. -107. -110. -111. -114. -143. -164. -108. -137. -110. -153.\n",
            " -146. -110. -110. -108. -108. -141. -109. -112. -110. -148. -109. -139.\n",
            " -145. -113. -144. -108. -111. -145. -148. -110. -114. -146. -110. -145.\n",
            " -192. -118. -147. -110. -145. -112. -108. -113. -142. -157. -164. -112.\n",
            " -148. -109. -109. -112. -145. -145. -111. -161. -112. -109. -111. -111.\n",
            " -161. -146. -111. -114. -111. -151. -141. -148. -112. -141. -146. -146.\n",
            " -141. -110. -107. -109. -143. -148. -147. -145. -141. -141. -114. -108.\n",
            " -108. -146. -112. -145. -111. -163. -109. -143. -150. -156. -113. -190.\n",
            " -146. -116. -112. -112. -147. -148. -149. -108. -145. -115. -145. -111.\n",
            " -192. -175. -112. -108. -149. -113. -142. -153. -124. -112. -114. -149.\n",
            " -150. -138. -144. -147. -109. -112. -110. -109. -109. -112. -176. -145.\n",
            " -140. -111. -185. -111. -110. -152. -108. -112. -145. -107. -140. -149.\n",
            " -134. -152. -109. -110. -147. -109. -110. -142. -148. -110.]\n",
            "89\n"
          ],
          "name": "stdout"
        },
        {
          "output_type": "stream",
          "text": [
            "/usr/local/lib/python3.7/dist-packages/ipykernel_launcher.py:53: VisibleDeprecationWarning: Creating an ndarray from ragged nested sequences (which is a list-or-tuple of lists-or-tuples-or ndarrays with different lengths or shapes) is deprecated. If you meant to do this, you must specify 'dtype=object' when creating the ndarray\n"
          ],
          "name": "stderr"
        },
        {
          "output_type": "stream",
          "text": [
            "[-111. -162. -110. -142. -143. -110. -142. -202. -140. -111. -173. -152.\n",
            " -109. -108. -190. -140. -145. -110. -144. -114. -170. -147. -109. -144.\n",
            " -109. -146. -176. -140. -110. -188. -110. -111. -109. -142. -110. -110.\n",
            " -162. -111. -110. -141. -138. -186. -111. -112. -150. -110. -134. -146.\n",
            " -110. -108. -112. -147. -110. -141. -148. -108. -181. -112. -144. -108.\n",
            " -109. -110. -146. -110. -108. -148. -142. -111. -107. -146. -146. -146.\n",
            " -144. -111. -117. -147. -109. -108. -145. -113. -194. -108. -143. -107.\n",
            " -109. -109. -147. -110. -144. -149. -115. -110. -184. -145. -144. -110.\n",
            " -108. -106. -110. -111. -110. -111. -110. -141. -144. -193. -138. -140.\n",
            " -180. -111. -174. -109. -128. -108. -112. -142. -112. -111. -112. -178.\n",
            " -142. -109. -152. -153. -111. -146. -146. -142. -146. -112. -138. -182.\n",
            " -149. -110. -183. -115. -138. -109. -109. -110. -108. -143. -109. -107.\n",
            " -110. -111. -135. -113. -109. -127. -139. -111. -197. -112. -187. -108.\n",
            " -110. -111. -184. -109. -110. -144. -112. -147. -109. -108. -112. -113.\n",
            " -144. -144. -108. -108. -111. -110. -149. -111. -182. -152. -155. -114.\n",
            " -108. -149. -112. -207. -140. -120. -139. -109. -143. -110. -110. -147.\n",
            " -148. -143. -111. -144. -143. -111. -139. -110. -148. -153. -195. -118.\n",
            " -109. -112. -108. -110. -111. -143. -187. -110. -189. -144. -146. -144.\n",
            " -148. -144. -138. -111. -198. -143. -113. -145. -145. -109. -149. -115.\n",
            " -145. -143. -111. -111. -150. -111. -111. -111. -146. -109. -111. -117.\n",
            " -141. -110. -110. -112. -110. -110. -109. -110. -148. -111.]\n",
            "90\n"
          ],
          "name": "stdout"
        },
        {
          "output_type": "stream",
          "text": [
            "/usr/local/lib/python3.7/dist-packages/ipykernel_launcher.py:53: VisibleDeprecationWarning: Creating an ndarray from ragged nested sequences (which is a list-or-tuple of lists-or-tuples-or ndarrays with different lengths or shapes) is deprecated. If you meant to do this, you must specify 'dtype=object' when creating the ndarray\n"
          ],
          "name": "stderr"
        },
        {
          "output_type": "stream",
          "text": [
            "[-111. -145. -143. -138. -141. -138. -142. -188. -108. -111. -143. -107.\n",
            " -109. -114. -141. -108. -137. -110. -145. -112. -194. -150. -141. -111.\n",
            " -141. -142. -109. -145. -145. -141. -109. -107. -107. -140. -187. -144.\n",
            " -111. -140. -108. -142. -112. -107. -111. -113. -142. -109. -118. -107.\n",
            " -140. -120. -110. -108. -139. -112. -108. -144. -140. -189. -145. -109.\n",
            " -112. -108. -139. -141. -138. -146. -171. -149. -113. -110. -139. -145.\n",
            " -144. -149. -110. -142. -107. -149. -140. -146. -189. -110. -154. -112.\n",
            " -138. -144. -135. -136. -109. -107. -108. -145. -147. -144. -144. -108.\n",
            " -111. -188. -188. -153. -144. -145. -133. -157. -145. -108. -141. -111.\n",
            " -149. -110. -108. -151. -109. -109. -144. -109. -106. -107. -110. -145.\n",
            " -109. -149. -146. -153. -113. -108. -111. -142. -141. -141. -171. -144.\n",
            " -134. -142. -146. -111. -142. -112. -140. -145. -144. -144. -153. -108.\n",
            " -109. -109. -106. -143. -109. -143. -144. -108. -140. -107. -161. -108.\n",
            " -137. -113. -164. -144. -139. -112. -109. -110. -142. -143. -110. -142.\n",
            " -110. -149. -110. -110. -141. -140. -127. -113. -110. -144. -158. -142.\n",
            " -112. -141. -190. -144. -145. -200. -112. -131. -146. -109. -110. -109.\n",
            " -150. -148. -112. -112. -174. -114. -138. -110. -147. -110. -146. -111.\n",
            " -112. -110. -119. -143. -109. -110. -106. -141. -147. -150. -143. -111.\n",
            " -140. -109. -162. -146. -141. -111. -172. -145. -119. -109. -111. -137.\n",
            " -143. -114. -143. -139. -147. -144. -113. -110. -146. -134. -110. -110.\n",
            " -114. -114. -115. -172. -144. -108. -111. -108. -140. -110.]\n",
            "91\n"
          ],
          "name": "stdout"
        },
        {
          "output_type": "stream",
          "text": [
            "/usr/local/lib/python3.7/dist-packages/ipykernel_launcher.py:53: VisibleDeprecationWarning: Creating an ndarray from ragged nested sequences (which is a list-or-tuple of lists-or-tuples-or ndarrays with different lengths or shapes) is deprecated. If you meant to do this, you must specify 'dtype=object' when creating the ndarray\n"
          ],
          "name": "stderr"
        },
        {
          "output_type": "stream",
          "text": [
            "[-149. -109. -107. -150. -109. -144. -108. -108. -118. -112. -110. -110.\n",
            " -113. -113. -109. -142. -144. -112. -147. -147. -112. -156. -114. -144.\n",
            " -191. -113. -137. -146. -154. -108. -118. -141. -111. -137. -144. -142.\n",
            " -146. -110. -110. -148. -109. -110. -111. -147. -108. -110. -143. -109.\n",
            " -112. -107. -149. -141. -116. -140. -112. -142. -183. -150. -109. -139.\n",
            " -143. -139. -118. -112. -110. -146. -187. -112. -142. -142. -109. -144.\n",
            " -146. -151. -110. -112. -144. -122. -118. -107. -118. -112. -107. -107.\n",
            " -110. -110. -110. -108. -111. -111. -147. -109. -143. -146. -112. -117.\n",
            " -113. -145. -110. -108. -109. -145. -143. -142. -110. -141. -110. -144.\n",
            " -114. -110. -145. -109. -140. -170. -112. -111. -111. -109. -110. -194.\n",
            " -139. -110. -112. -109. -113. -111. -139. -141. -154. -141. -111. -110.\n",
            " -109. -142. -112. -112. -140. -111. -109. -110. -111. -110. -108. -109.\n",
            " -140. -113. -192. -109. -140. -112. -108. -112. -140. -143. -147. -110.\n",
            " -111. -113. -143. -150. -110. -143. -110. -145. -146. -113. -144. -109.\n",
            " -114. -107. -156. -110. -145. -108. -108. -145. -111. -154. -113. -113.\n",
            " -150. -141. -147. -143. -110. -143. -144. -110. -112. -140. -155. -145.\n",
            " -138. -107. -145. -144. -110. -111. -109. -109. -108. -144. -143. -114.\n",
            " -139. -113. -110. -146. -141. -109. -164. -138. -141. -109. -142. -113.\n",
            " -141. -110. -107. -112. -142. -151. -123. -138. -108. -108. -108. -115.\n",
            " -109. -181. -117. -110. -140. -148. -138. -107. -116. -107. -123. -108.\n",
            " -142. -169. -146. -141. -144. -144. -188. -112. -136. -110.]\n",
            "92\n"
          ],
          "name": "stdout"
        },
        {
          "output_type": "stream",
          "text": [
            "/usr/local/lib/python3.7/dist-packages/ipykernel_launcher.py:53: VisibleDeprecationWarning: Creating an ndarray from ragged nested sequences (which is a list-or-tuple of lists-or-tuples-or ndarrays with different lengths or shapes) is deprecated. If you meant to do this, you must specify 'dtype=object' when creating the ndarray\n"
          ],
          "name": "stderr"
        },
        {
          "output_type": "stream",
          "text": [
            "[-113. -146. -141. -109. -108. -112. -109. -108. -111. -150. -108. -145.\n",
            " -110. -113. -108. -143. -108. -142. -109. -159. -185. -108. -145. -111.\n",
            " -146. -111. -122. -107. -152. -112. -110. -108. -113. -145. -106. -184.\n",
            " -140. -158. -181. -112. -140. -110. -145. -139. -110. -139. -157. -109.\n",
            " -109. -143. -158. -117. -110. -140. -139. -107. -111. -113. -111. -112.\n",
            " -110. -112. -117. -110. -141. -110. -148. -108. -108. -146. -112. -112.\n",
            " -110. -111. -139. -112. -112. -109. -109. -112. -111. -189. -145. -109.\n",
            " -149. -111. -109. -178. -112. -111. -147. -181. -109. -108. -112. -149.\n",
            " -148. -109. -198. -110. -136. -147. -110. -110. -124. -183. -151. -148.\n",
            " -144. -113. -111. -111. -199. -109. -109. -108. -119. -145. -109. -144.\n",
            " -151. -109. -146. -143. -109. -149. -108. -144. -141. -107. -146. -109.\n",
            " -111. -111. -148. -109. -151. -111. -143. -112. -196. -108. -125. -143.\n",
            " -142. -109. -147. -110. -111. -113. -203. -109. -138. -108. -113. -148.\n",
            " -114. -113. -200. -111. -112. -109. -111. -129. -112. -115. -112. -114.\n",
            " -118. -110. -139. -110. -109. -142. -108. -142. -142. -139. -112. -142.\n",
            " -136. -112. -108. -152. -144. -146. -117. -112. -110. -179. -145. -109.\n",
            " -170. -109. -114. -113. -141. -111. -113. -109. -110. -143. -108. -109.\n",
            " -143. -111. -139. -137. -191. -205. -144. -109. -175. -111. -190. -143.\n",
            " -108. -119. -142. -110. -106. -110. -108. -140. -110. -146. -113. -186.\n",
            " -109. -110. -147. -158. -110. -146. -107. -111. -110. -143. -148. -106.\n",
            " -146. -113. -148. -162. -138. -111. -145. -118. -112. -152.]\n",
            "93\n"
          ],
          "name": "stdout"
        },
        {
          "output_type": "stream",
          "text": [
            "/usr/local/lib/python3.7/dist-packages/ipykernel_launcher.py:53: VisibleDeprecationWarning: Creating an ndarray from ragged nested sequences (which is a list-or-tuple of lists-or-tuples-or ndarrays with different lengths or shapes) is deprecated. If you meant to do this, you must specify 'dtype=object' when creating the ndarray\n"
          ],
          "name": "stderr"
        },
        {
          "output_type": "stream",
          "text": [
            "[-146. -110. -109. -112. -146. -140. -171. -112. -110. -145. -177. -143.\n",
            " -111. -147. -151. -154. -117. -111. -142. -190. -109. -168. -147. -156.\n",
            " -111. -111. -110. -147. -145. -109. -147. -141. -110. -150. -110. -116.\n",
            " -112. -109. -112. -155. -112. -147. -136. -142. -147. -111. -112. -111.\n",
            " -145. -143. -147. -149. -111. -181. -145. -110. -112. -143. -152. -139.\n",
            " -142. -118. -140. -110. -106. -138. -111. -112. -149. -109. -110. -191.\n",
            " -197. -111. -139. -111. -110. -146. -110. -108. -112. -147. -109. -107.\n",
            " -143. -149. -207. -111. -110. -110. -143. -109. -143. -146. -110. -127.\n",
            " -169. -110. -112. -141. -150. -113. -129. -111. -148. -111. -142. -107.\n",
            " -174. -108. -109. -142. -136. -110. -142. -148. -115. -111. -111. -148.\n",
            " -112. -111. -108. -112. -143. -109. -109. -109. -148. -138. -112. -111.\n",
            " -116. -111. -145. -148. -112. -110. -111. -110. -139. -146. -152. -146.\n",
            " -110. -183. -110. -144. -123. -223. -110. -109. -143. -118. -147. -109.\n",
            " -143. -111. -110. -108. -110. -110. -112. -108. -142. -111. -142. -181.\n",
            " -115. -138. -110. -110. -144. -108. -189. -141. -110. -113. -113. -108.\n",
            " -109. -107. -144. -140. -109. -196. -149. -109. -113. -124. -108. -112.\n",
            " -118. -163. -143. -161. -110. -146. -111. -147. -143. -137. -147. -113.\n",
            " -117. -109. -144. -179. -109. -111. -142. -139. -193. -143. -110. -144.\n",
            " -166. -190. -112. -107. -142. -113. -110. -112. -111. -107. -145. -143.\n",
            " -110. -113. -141. -144. -162. -111. -107. -108. -108. -111. -112. -143.\n",
            " -113. -144. -107. -143. -189. -112. -142. -108. -189. -110.]\n",
            "94\n"
          ],
          "name": "stdout"
        },
        {
          "output_type": "stream",
          "text": [
            "/usr/local/lib/python3.7/dist-packages/ipykernel_launcher.py:53: VisibleDeprecationWarning: Creating an ndarray from ragged nested sequences (which is a list-or-tuple of lists-or-tuples-or ndarrays with different lengths or shapes) is deprecated. If you meant to do this, you must specify 'dtype=object' when creating the ndarray\n"
          ],
          "name": "stderr"
        },
        {
          "output_type": "stream",
          "text": [
            "[-143. -160. -146. -110. -113. -143. -142. -147. -146. -109. -106. -144.\n",
            " -142. -177. -136. -129. -143. -119. -138. -112. -199. -152. -111. -146.\n",
            " -137. -106. -109. -108. -108. -150. -140. -143. -110. -142. -116. -142.\n",
            " -181. -112. -146. -114. -111. -149. -146. -180. -172. -139. -128. -112.\n",
            " -144. -193. -112. -197. -117. -111. -121. -143. -180. -151. -144. -109.\n",
            " -185. -110. -143. -109. -145. -148. -111. -146. -140. -145. -109. -110.\n",
            " -112. -111. -113. -188. -144. -109. -113. -108. -109. -142. -143. -111.\n",
            " -109. -108. -110. -143. -110. -110. -109. -141. -149. -108. -134. -156.\n",
            " -142. -140. -109. -144. -109. -145. -112. -111. -113. -171. -110. -112.\n",
            " -147. -108. -108. -199. -135. -109. -146. -111. -110. -143. -142. -140.\n",
            " -160. -192. -186. -143. -146. -122. -108. -144. -154. -111. -147. -148.\n",
            " -111. -111. -112. -143. -113. -111. -140. -110. -108. -144. -145. -151.\n",
            " -196. -108. -109. -109. -146. -110. -107. -143. -147. -117. -108. -111.\n",
            " -111. -140. -110. -110. -187. -143. -111. -110. -162. -137. -111. -142.\n",
            " -144. -148. -109. -111. -146. -107. -113. -109. -110. -138. -109. -142.\n",
            " -164. -116. -112. -143. -140. -141. -144. -145. -143. -144. -131. -112.\n",
            " -108. -117. -109. -107. -193. -140. -107. -110. -145. -109. -108. -109.\n",
            " -150. -197. -109. -137. -179. -140. -111. -144. -111. -118. -194. -112.\n",
            " -112. -139. -123. -109. -108. -110. -110. -186. -109. -107. -108. -144.\n",
            " -108. -146. -112. -110. -143. -145. -111. -108. -146. -106. -142. -110.\n",
            " -146. -145. -153. -111. -108. -143. -111. -113. -113. -150.]\n",
            "95\n"
          ],
          "name": "stdout"
        },
        {
          "output_type": "stream",
          "text": [
            "/usr/local/lib/python3.7/dist-packages/ipykernel_launcher.py:53: VisibleDeprecationWarning: Creating an ndarray from ragged nested sequences (which is a list-or-tuple of lists-or-tuples-or ndarrays with different lengths or shapes) is deprecated. If you meant to do this, you must specify 'dtype=object' when creating the ndarray\n"
          ],
          "name": "stderr"
        },
        {
          "output_type": "stream",
          "text": [
            "[-145. -202. -108. -111. -142. -142. -110. -110. -111. -142. -113. -144.\n",
            " -144. -112. -143. -111. -111. -113. -145. -191. -143. -110. -108. -147.\n",
            " -110. -107. -111. -147. -145. -160. -142. -157. -111. -165. -109. -114.\n",
            " -143. -143. -184. -111. -143. -145. -110. -143. -108. -110. -109. -111.\n",
            " -107. -148. -110. -174. -109. -108. -111. -143. -143. -143. -144. -144.\n",
            " -145. -111. -110. -108. -112. -110. -111. -109. -204. -148. -113. -107.\n",
            " -165. -109. -109. -109. -111. -111. -110. -144. -143. -112. -109. -110.\n",
            " -147. -116. -153. -109. -113. -142. -194. -111. -148. -149. -114. -143.\n",
            " -148. -111. -113. -118. -147. -109. -152. -110. -109. -141. -110. -111.\n",
            " -140. -111. -113. -142. -141. -112. -109. -109. -112. -142. -113. -112.\n",
            " -111. -118. -106. -197. -186. -109. -142. -108. -116. -111. -120. -193.\n",
            " -139. -109. -142. -110. -111. -149. -144. -146. -184. -203. -150. -110.\n",
            " -147. -112. -111. -144. -140. -108. -111. -141. -144. -188. -112. -144.\n",
            " -110. -147. -147. -190. -109. -175. -114. -167. -146. -138. -110. -146.\n",
            " -144. -110. -111. -110. -111. -109. -110. -130. -111. -143. -111. -109.\n",
            " -196. -138. -150. -202. -110. -146. -177. -141. -109. -141. -112. -113.\n",
            " -110. -109. -107. -113. -190. -146. -112. -192. -111. -122. -111. -175.\n",
            " -111. -137. -111. -107. -109. -110. -196. -111. -151. -112. -122. -143.\n",
            " -107. -114. -108. -111. -111. -109. -112. -144. -108. -148. -158. -129.\n",
            " -107. -109. -112. -167. -107. -144. -141. -112. -145. -108. -140. -108.\n",
            " -109. -110. -114. -149. -139. -155. -173. -110. -110. -140.]\n",
            "96\n"
          ],
          "name": "stdout"
        },
        {
          "output_type": "stream",
          "text": [
            "/usr/local/lib/python3.7/dist-packages/ipykernel_launcher.py:53: VisibleDeprecationWarning: Creating an ndarray from ragged nested sequences (which is a list-or-tuple of lists-or-tuples-or ndarrays with different lengths or shapes) is deprecated. If you meant to do this, you must specify 'dtype=object' when creating the ndarray\n"
          ],
          "name": "stderr"
        },
        {
          "output_type": "stream",
          "text": [
            "[-109. -109. -146. -128. -111. -141. -145. -156. -109. -144. -174. -113.\n",
            " -113. -107. -108. -112. -145. -168. -147. -111. -109. -111. -109. -110.\n",
            " -112. -144. -159. -112. -144. -110. -183. -182. -144. -114. -164. -107.\n",
            " -108. -110. -141. -109. -165. -143. -143. -111. -111. -145. -110. -109.\n",
            " -112. -146. -143. -111. -116. -223. -191. -144. -151. -138. -140. -109.\n",
            " -185. -110. -110. -208. -168. -113. -111. -110. -147. -109. -144. -113.\n",
            " -116. -142. -124. -182. -127. -140. -110. -110. -109. -109. -107. -112.\n",
            " -110. -112. -109. -110. -112. -144. -108. -180. -110. -111. -111. -111.\n",
            " -153. -107. -111. -150. -143. -108. -176. -144. -110. -109. -109. -108.\n",
            " -143. -112. -113. -108. -111. -111. -111. -151. -200. -182. -122. -144.\n",
            " -112. -144. -145. -145. -109. -111. -115. -108. -113. -109. -110. -185.\n",
            " -111. -146. -109. -146. -140. -113. -148. -111. -109. -142. -110. -109.\n",
            " -178. -108. -144. -136. -110. -145. -108. -146. -112. -110. -111. -109.\n",
            " -109. -111. -109. -110. -145. -109. -107. -147. -143. -110. -148. -111.\n",
            " -110. -113. -111. -193. -110. -116. -142. -111. -110. -143. -163. -110.\n",
            " -146. -111. -114. -111. -145. -148. -110. -145. -193. -123. -141. -114.\n",
            " -138. -146. -108. -108. -142. -139. -111. -114. -110. -109. -140. -137.\n",
            " -139. -153. -111. -110. -109. -142. -146. -197. -111. -109. -139. -109.\n",
            " -157. -112. -143. -164. -111. -163. -109. -133. -110. -111. -112. -151.\n",
            " -113. -145. -109. -110. -140. -141. -109. -182. -111. -142. -138. -119.\n",
            " -195. -115. -110. -116. -111. -111. -111. -198. -141. -111.]\n",
            "97\n"
          ],
          "name": "stdout"
        },
        {
          "output_type": "stream",
          "text": [
            "/usr/local/lib/python3.7/dist-packages/ipykernel_launcher.py:53: VisibleDeprecationWarning: Creating an ndarray from ragged nested sequences (which is a list-or-tuple of lists-or-tuples-or ndarrays with different lengths or shapes) is deprecated. If you meant to do this, you must specify 'dtype=object' when creating the ndarray\n"
          ],
          "name": "stderr"
        },
        {
          "output_type": "stream",
          "text": [
            "[-111. -112. -109. -146. -146. -112. -109. -107. -112. -138. -111. -112.\n",
            " -107. -112. -112. -109. -113. -139. -197. -110. -111. -109. -107. -194.\n",
            " -180. -150. -180. -109. -110. -109. -146. -110. -110. -148. -109. -110.\n",
            " -160. -111. -145. -148. -154. -108. -112. -112. -112. -146. -111. -111.\n",
            " -112. -141. -139. -146. -178. -118. -137. -113. -179. -144. -107. -161.\n",
            " -179. -109. -110. -113. -108. -186. -140. -110. -142. -110. -112. -110.\n",
            " -113. -153. -111. -164. -110. -139. -135. -110. -142. -142. -111. -109.\n",
            " -110. -112. -111. -110. -143. -145. -147. -112. -149. -146. -110. -109.\n",
            " -110. -143. -175. -109. -142. -138. -147. -107. -142. -143. -112. -109.\n",
            " -110. -140. -199. -110. -111. -109. -148. -112. -112. -110. -108. -110.\n",
            " -113. -109. -141. -138. -119. -109. -139. -144. -141. -110. -148. -110.\n",
            " -150. -112. -108. -185. -141. -201. -144. -142. -108. -112. -109. -110.\n",
            " -109. -186. -109. -139. -111. -170. -192. -110. -109. -146. -111. -141.\n",
            " -113. -109. -147. -110. -109. -110. -111. -107. -142. -149. -112. -109.\n",
            " -106. -111. -121. -139. -145. -110. -111. -179. -110. -112. -109. -182.\n",
            " -109. -203. -142. -142. -113. -147. -141. -138. -145. -109. -142. -111.\n",
            " -184. -111. -111. -111. -177. -144. -108. -109. -111. -141. -110. -110.\n",
            " -109. -147. -147. -110. -110. -147. -111. -111. -109. -110. -144. -111.\n",
            " -111. -137. -109. -110. -108. -109. -144. -147. -110. -185. -181. -139.\n",
            " -107. -144. -111. -142. -150. -111. -119. -109. -145. -112. -143. -110.\n",
            " -147. -182. -109. -145. -109. -109. -113. -144. -186. -106.]\n",
            "98\n"
          ],
          "name": "stdout"
        },
        {
          "output_type": "stream",
          "text": [
            "/usr/local/lib/python3.7/dist-packages/ipykernel_launcher.py:53: VisibleDeprecationWarning: Creating an ndarray from ragged nested sequences (which is a list-or-tuple of lists-or-tuples-or ndarrays with different lengths or shapes) is deprecated. If you meant to do this, you must specify 'dtype=object' when creating the ndarray\n"
          ],
          "name": "stderr"
        },
        {
          "output_type": "stream",
          "text": [
            "[-106. -140. -110. -107. -110. -140. -109. -142. -109. -185. -141. -137.\n",
            " -112. -145. -141. -140. -110. -143. -141. -143. -115. -108. -139. -138.\n",
            " -161. -106. -143. -112. -194. -144. -110. -140. -107. -108. -108. -135.\n",
            " -143. -110. -198. -140. -147. -143. -146. -181. -143. -113. -134. -151.\n",
            " -140. -109. -142. -143. -141. -174. -137. -110. -111. -141. -109. -111.\n",
            " -147. -111. -108. -111. -112. -193. -148. -109. -145. -109. -111. -144.\n",
            " -177. -144. -108. -109. -141. -111. -198. -109. -199. -133. -110. -157.\n",
            " -109. -112. -139. -111. -142. -146. -111. -140. -141. -113. -109. -143.\n",
            " -200. -147. -111. -108. -111. -147. -111. -138. -109. -144. -110. -146.\n",
            " -143. -144. -112. -167. -143. -111. -110. -178. -145. -142. -146. -110.\n",
            " -143. -111. -145. -108. -109. -110. -110. -111. -107. -107. -111. -124.\n",
            " -144. -150. -114. -113. -137. -144. -108. -110. -109. -111. -139. -145.\n",
            " -109. -110. -110. -184. -135. -196. -107. -144. -112. -110. -136. -108.\n",
            " -110. -111. -146. -143. -111. -109. -113. -186. -108. -145. -109. -112.\n",
            " -142. -139. -110. -110. -110. -110. -113. -144. -115. -109. -162. -110.\n",
            " -146. -111. -115. -107. -140. -143. -112. -112. -111. -128. -112. -145.\n",
            " -109. -137. -163. -111. -109. -110. -109. -139. -147. -139. -109. -109.\n",
            " -140. -179. -142. -109. -127. -109. -107. -142. -151. -109. -109. -142.\n",
            " -137. -142. -109. -192. -180. -140. -140. -146. -176. -185. -172. -142.\n",
            " -111. -135. -143. -149. -112. -110. -110. -112. -147. -183. -113. -141.\n",
            " -110. -143. -108. -147. -108. -111. -142. -108. -144. -140.]\n",
            "99\n",
            "LOG = \n",
            "[-1829.1866666666667, -1299.92, -1070.48, -832.6666666666666, -710.9866666666667, -600.4533333333334, -500.7922077922078, -425.08, -376.4078947368421, -337.79487179487177, -316.86842105263156, -300.02666666666664, -276.28, -257.7631578947368, -239.82894736842104, -225.17333333333335, -210.97368421052633, -203.6184210526316, -197.25, -194.75324675324674, -185.90666666666667, -183.2207792207792, -178.01298701298703, -175.6625, -162.0, -162.41558441558442, -159.82051282051282, -141.97333333333333, -144.30666666666667, -137.26923076923077, -135.64473684210526, -125.88, -126.28, -123.34666666666666, -125.90666666666667, -121.69333333333333, -121.74358974358974, -120.38157894736842, -120.69736842105263, -120.35897435897436, -119.64, -119.20253164556962, -118.2, -117.24675324675324, -117.52325581395348, -117.4578313253012, -116.52380952380952, -116.10526315789474, -115.53164556962025, -116.33333333333333, -113.64473684210526, -115.95294117647059, -113.83544303797468, -115.64634146341463, -114.56, -114.24096385542168, -114.52380952380952, -114.82758620689656, -114.24691358024691, -113.35526315789474, -113.46666666666667, -113.50515463917526, -112.64356435643565, -112.35643564356435, -111.6951219512195, -111.47368421052632, -111.73417721518987, -111.95180722891567, -111.92233009708738, -111.5421686746988, -110.88, -110.51724137931035, -110.78313253012048, -110.86021505376344, -110.80645161290323, -110.58585858585859, -110.33333333333333, -110.83333333333333, -110.6504854368932, -110.48421052631579, -110.07692307692308, -109.86206896551724, -110.3125, -110.3409090909091, -109.71111111111111, -109.69767441860465, -109.675, -109.42105263157895, -109.62650602409639, -109.59139784946237, -109.13157894736842, -109.08433734939759, -108.94871794871794, -108.83116883116882, -109.58510638297872, -109.2967032967033, -109.60194174757281, -109.10666666666667, -109.09411764705882, -108.90666666666667]\n"
          ],
          "name": "stdout"
        },
        {
          "output_type": "display_data",
          "data": {
            "image/png": "[encoded data removed]",
            "text/plain": [
              "<Figure size 504x504 with 1 Axes>"
            ]
          },
          "metadata": {
            "tags": [],
            "needs_background": "light"
          }
        }
      ]
    },
    {
      "cell_type": "code",
      "metadata": {
        "id": "hQL9Oee0fT69"
      },
      "source": [
        "# Implement generate_session_mountain_car(), training loop, etc.\n",
        "\n",
        "def generate_session_mountain_car(env, agent, t_max=20000):\n",
        "    states, actions = [], []\n",
        "    total_reward = 0.\n",
        "\n",
        "    s = env.reset()\n",
        "\n",
        "    for t in range(t_max):\n",
        "        # Hint: you can use np.random.choice for sampling action\n",
        "        # https://numpy.org/doc/stable/reference/random/generated/numpy.random.choice.html\n",
        "\n",
        "        probs = agent.predict_proba(s.reshape(s.shape[0], 1).T).T.flatten()\n",
        "\n",
        "        a = np.random.choice(n_actions, 1, p=probs).item()\n",
        "\n",
        "        new_s, r, done, info = env.step(a)\n",
        "\n",
        "        # Record information we just got from the environment.\n",
        "        states.append(s)\n",
        "        actions.append(a)\n",
        "        total_reward += r\n",
        "\n",
        "        s = new_s\n",
        "        if done:\n",
        "            break\n",
        "    \n",
        "    return states, actions, total_reward\n"
      ],
      "execution_count": null,
      "outputs": []
    },
    {
      "cell_type": "markdown",
      "metadata": {
        "id": "B2Qcf-nufT6-"
      },
      "source": [
        "### Submit to Coursera"
      ]
    },
    {
      "cell_type": "code",
      "metadata": {
        "id": "MyrbdOoefT6-",
        "colab": {
          "base_uri": "https://localhost:8080/"
        },
        "outputId": "8a5522e7-8b91-417f-87a3-147b34b649ec"
      },
      "source": [
        "ag = agent\n",
        "from submit import submit_mountain_car\n",
        "submit_mountain_car(generate_session_mountain_car,\n",
        "                    agent, 'artemchistyakov03@gmail.com', 'xpq6r2517tdXLbKK')"
      ],
      "execution_count": null,
      "outputs": [
        {
          "output_type": "stream",
          "text": [
            "Your average reward is -131.16 over 100 episodes\n",
            "Submitted to Coursera platform. See results on assignment page!\n"
          ],
          "name": "stdout"
        }
      ]
    }
  ]
}